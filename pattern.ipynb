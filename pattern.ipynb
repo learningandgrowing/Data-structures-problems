{
 "cells": [
  {
   "cell_type": "code",
   "execution_count": 1,
   "metadata": {},
   "outputs": [
    {
     "name": "stdout",
     "output_type": "stream",
     "text": [
      "6\n",
      "     1\n",
      "    232\n",
      "   34543\n",
      "  4567654\n",
      " 567898765\n",
      "67891011109876\n"
     ]
    }
   ],
   "source": [
    "#triangle of pattern\n",
    "n=int(input())\n",
    "i=1\n",
    "while i<=n:\n",
    "    spaces=1\n",
    "    while spaces<=n-i:\n",
    "        print(' ',end='')\n",
    "        spaces+=1\n",
    "    j=1\n",
    "    p=i\n",
    "    while j<=i:     \n",
    "        print(p,end='')\n",
    "        p+=1\n",
    "        j+=1    \n",
    "    p=i-1\n",
    "    j = 0\n",
    "    while p>=1:\n",
    "        \n",
    "        r=(2*i)-j-2\n",
    "        print(r,end='')\n",
    "        p-=1\n",
    "        j += 1\n",
    "    print()\n",
    "    i+=1"
   ]
  },
  {
   "cell_type": "code",
   "execution_count": 1,
   "metadata": {},
   "outputs": [
    {
     "name": "stdout",
     "output_type": "stream",
     "text": [
      "4\n",
      "    * \n",
      "   *** \n",
      "  ***** \n",
      " ******* \n"
     ]
    }
   ],
   "source": [
    "n=int(input())\n",
    "i=1\n",
    "while(i<=n):\n",
    "    j=n\n",
    "    while(j>=i):\n",
    "        print(\" \",end=\"\")\n",
    "        j=j-1\n",
    "    k=1\n",
    "    while(k<=2*i-1):\n",
    "        print(\"*\",end=\"\")\n",
    "        k=k+1\n",
    "    print(\" \")\n",
    "    i=i+1"
   ]
  },
  {
   "cell_type": "code",
   "execution_count": null,
   "metadata": {},
   "outputs": [],
   "source": []
  }
 ],
 "metadata": {
  "kernelspec": {
   "display_name": "Python 3",
   "language": "python",
   "name": "python3"
  },
  "language_info": {
   "codemirror_mode": {
    "name": "ipython",
    "version": 3
   },
   "file_extension": ".py",
   "mimetype": "text/x-python",
   "name": "python",
   "nbconvert_exporter": "python",
   "pygments_lexer": "ipython3",
   "version": "3.7.1"
  }
 },
 "nbformat": 4,
 "nbformat_minor": 2
}
