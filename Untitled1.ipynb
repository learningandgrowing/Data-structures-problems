{
 "cells": [
  {
   "cell_type": "code",
   "execution_count": 6,
   "metadata": {},
   "outputs": [
    {
     "name": "stdout",
     "output_type": "stream",
     "text": [
      "3\n",
      "[[0, 1, 2, 3], [1, 2, 3], [2, 3], [3]]\n"
     ]
    }
   ],
   "source": [
    "n = int(input())\n",
    "arr = [[int(i) for i in range(j,n+1)] for j in range(1,(n)+1)]\n",
    "print(arr)"
   ]
  },
  {
   "cell_type": "code",
   "execution_count": 1,
   "metadata": {},
   "outputs": [
    {
     "name": "stdout",
     "output_type": "stream",
     "text": [
      "a man is a survivor\n",
      "['a', 'man', 'is', 'a', 'survivor']\n"
     ]
    }
   ],
   "source": [
    "a = input().split()\n",
    "print(a)"
   ]
  },
  {
   "cell_type": "code",
   "execution_count": 6,
   "metadata": {},
   "outputs": [
    {
     "name": "stdout",
     "output_type": "stream",
     "text": [
      "\" a man is, a survivor \"\n",
      "False\n"
     ]
    }
   ],
   "source": [
    "def palindromest(statement):\n",
    "    i = 0\n",
    "    j = len(statement)-1\n",
    "    \n",
    "    while i < j:\n",
    "        if statement[i].isalpha() and statement[j].isalpha():\n",
    "            if statement[i] != statement[j]:\n",
    "                return False\n",
    "            else:\n",
    "                i += 1\n",
    "                j -= 1\n",
    "        elif statement[i].isalpha():\n",
    "            j -= 1\n",
    "        elif statement[j].isalpha():\n",
    "            i += 1\n",
    "        else:\n",
    "            i += 1\n",
    "            j -= 1\n",
    "    return True\n",
    "    \n",
    "statement = input().split()    \n",
    "print(palindromest(statement))"
   ]
  },
  {
   "cell_type": "code",
   "execution_count": 9,
   "metadata": {},
   "outputs": [
    {
     "name": "stdout",
     "output_type": "stream",
     "text": [
      "7\n",
      "          * \n",
      "            * * \n",
      "              * * * \n",
      "                * * * * \n",
      "              * * * \n",
      "            * * \n",
      "          * \n"
     ]
    }
   ],
   "source": [
    "n=int(input())\n",
    "n1=(n+1)//2\n",
    "i=1\n",
    "while i<=n1:\n",
    "    space=n1+i\n",
    "    while space>=1:\n",
    "        print(' ',end=' ')\n",
    "        space=space-1\n",
    "    stars=1\n",
    "    while stars<=2*i-1:\n",
    "        print('*',end=' ')\n",
    "        stars=stars+2\n",
    "    print()\n",
    "    i=i+1\n",
    "n2=n//2\n",
    "i=n2\n",
    "while i>=1:\n",
    "    s=1\n",
    "    while s<=n2+i+1:\n",
    "        print(' ',end=' ')\n",
    "        s=s+1\n",
    "    stars=2*i-1\n",
    "    while stars>=1:\n",
    "        print('*',end=' ')\n",
    "        stars=stars-2\n",
    "    print()\n",
    "    i=i-1"
   ]
  },
  {
   "cell_type": "code",
   "execution_count": 8,
   "metadata": {},
   "outputs": [
    {
     "name": "stdout",
     "output_type": "stream",
     "text": [
      "7\n",
      "* \n",
      " * * \n",
      "  * * * \n",
      "   * * * * \n",
      "  * * * \n",
      " * * \n",
      "* \n"
     ]
    }
   ],
   "source": [
    "n = int(input())\n",
    "#firstpart\n",
    "n1 = (n+1)//2\n",
    "n2 = n - n1\n",
    "i = 1\n",
    "while i<=n1:\n",
    "    j = 1\n",
    "    while j <= i-1:\n",
    "        print(' ',end='')\n",
    "        j += 1\n",
    "    p = 1\n",
    "    while p<=i:\n",
    "        print('* ',end='')\n",
    "        p += 1\n",
    "    \n",
    "    print()\n",
    "    i += 1\n",
    "i = 1\n",
    "while i <= n2:\n",
    "    \n",
    "    f = 1\n",
    "    while f <= n2 - i:\n",
    "        print(' ',end='')\n",
    "        f = f + 1\n",
    "    j = 1\n",
    "    while j <= n2-i+1:\n",
    "        print('* ',end='')\n",
    "        j = j +1\n",
    "    print()\n",
    "    i = i + 1"
   ]
  },
  {
   "cell_type": "code",
   "execution_count": 10,
   "metadata": {},
   "outputs": [
    {
     "name": "stdout",
     "output_type": "stream",
     "text": [
      "9 0 0 0 2 0 7 5 0\n",
      "6 0 0 0 5 0 0 4 0\n",
      "0 2 0 4 0 0 0 1 0\n",
      "2 0 8 0 0 0 0 0 0\n",
      "0 7 0 5 0 9 0 6 0\n",
      "0 0 0 0 0 0 4 0 1\n",
      "0 1 0 0 0 5 0 8 0\n",
      "0 9 0 0 7 0 0 0 4\n",
      "0 8 2 0 4 0 0 0 6\n",
      "true\n"
     ]
    }
   ],
   "source": [
    "def find_empty_location(arr,l): \n",
    "    for row in range(9): \n",
    "        for col in range(9): \n",
    "            if(arr[row][col]==0): \n",
    "                l[0]=row \n",
    "                l[1]=col \n",
    "                return True\n",
    "    return False\n",
    "   \n",
    "def used_in_row(arr,row,num): \n",
    "    for i in range(9): \n",
    "        if(arr[row][i] == num): \n",
    "            return True\n",
    "    return False\n",
    "  \n",
    "def used_in_col(arr,col,num): \n",
    "    for i in range(9): \n",
    "        if(arr[i][col] == num): \n",
    "            return True\n",
    "    return False\n",
    "   \n",
    "def used_in_box(arr,row,col,num): \n",
    "    for i in range(3): \n",
    "        for j in range(3): \n",
    "            if(arr[i+(row-row%3)][j+(col-col%3)] == num): \n",
    "                return True\n",
    "    return False\n",
    "  \n",
    "def check_location_is_safe(arr,row,col,num):  \n",
    "    return not used_in_row(arr,row,num) and not used_in_col(arr,col,num) and not used_in_box(arr,row,col,num) \n",
    "  \n",
    "def solve_sudoku(arr): \n",
    "    l=[0,0] \n",
    "    if(not find_empty_location(arr,l)): \n",
    "        return True\n",
    "      \n",
    "    row=l[0] \n",
    "    col=l[1] \n",
    "      \n",
    "    for num in range(1,10):           \n",
    "        if(check_location_is_safe(arr,row,col,num)):               \n",
    "            arr[row][col]=num   \n",
    "            if(solve_sudoku(arr)): \n",
    "                return True  \n",
    "            arr[row][col] = 0\n",
    "    return False\n",
    "                    \n",
    "\n",
    "\n",
    "board = [[ int(ele) for ele in input().split() ]for i in range(9)]\n",
    "ans = solve_sudoku(board)\n",
    "if ans is True:\n",
    "    print('true')\n",
    "else:\n",
    "    print('false')"
   ]
  },
  {
   "cell_type": "code",
   "execution_count": null,
   "metadata": {},
   "outputs": [],
   "source": [
    "def find_empty_location(sudoku,l):\n",
    "    for i in range(9):\n",
    "        for j in range(9):\n",
    "            if sudoku[i][j] == 0:\n",
    "                l[0] = i\n",
    "                l[1] = j\n",
    "                return True\n",
    "            \n",
    "    return False\n",
    "    \n",
    "def issafesudoku(row,col,num,sudoku):\n",
    "    for i in range(9):\n",
    "        if sudoku[row][i] == num:\n",
    "            return False\n",
    "    for i in range(9):\n",
    "        if sudoku[i][col] == num:\n",
    "            return False\n",
    "    for i in range(3):\n",
    "        for j in range(3):\n",
    "            if sudoku[i+(row-row%3)][j+(col-col%3)] == num:\n",
    "                return False\n",
    "    return True\n",
    "\n",
    "def sudokusolver(sudoku):\n",
    "    l = [0,0]\n",
    "    if find_empty_location(sudoku,l) is False:\n",
    "        return True\n",
    "    \n",
    "    row = l[0]\n",
    "    col = l[1]\n",
    "    for num in range(1,10):\n",
    "        if issafesudoku(row,col,num,sudoku) is True:\n",
    "            sudoku[row][col] = num\n",
    "            if sudokusolver(sudoku) is True:\n",
    "                return True\n",
    "            sudoku[row][col] = 0\n",
    "        \n",
    "    return False\n",
    "    \n",
    "sudoku = [[int(i) for i in input().strip().split()] for j in range(9)]\n",
    "if sudokusolver(sudoku):\n",
    "    print('true')\n",
    "else:\n",
    "    print('false')"
   ]
  },
  {
   "cell_type": "code",
   "execution_count": null,
   "metadata": {},
   "outputs": [],
   "source": [
    "class Node:\n",
    "    def __init__(self, data):\n",
    "        self.data = data\n",
    "        self.next = None\n",
    "\n",
    "def swap_nodes(head, i, j):\n",
    "    \n",
    "\n",
    "def ll(arr):\n",
    "    if len(arr)==0:\n",
    "        return None\n",
    "    head = Node(arr[0])\n",
    "    last = head\n",
    "    for data in arr[1:]:\n",
    "        last.next = Node(data)\n",
    "        last = last.next\n",
    "    return head\n",
    "\n",
    "def printll(head):\n",
    "    while head:\n",
    "        print(head.data, end=' ')\n",
    "        head = head.next\n",
    "    print()\n",
    "\n",
    "# Main\n",
    "# Read the link list elements including -1\n",
    "arr=list(int(i) for i in input().strip().split(' '))\n",
    "# Create a Linked list after removing -1 from list\n",
    "l = ll(arr[:-1])\n",
    "i, j=list(int(i) for i in input().strip().split(' '))\n",
    "l = swap_nodes(l, i, j)\n",
    "printll(l)"
   ]
  },
  {
   "cell_type": "code",
   "execution_count": 21,
   "metadata": {},
   "outputs": [
    {
     "name": "stdout",
     "output_type": "stream",
     "text": [
      "5\n",
      "1 2 3 1 2\n",
      "6\n",
      "1 2 3\n",
      "1 3 2\n",
      "3 1 2\n"
     ]
    }
   ],
   "source": [
    "n=int(input())\n",
    "li=[int(x) for x in input().split()]\n",
    "r=int(input())\n",
    "for j in range(n):\n",
    "    st=j+1\n",
    "    end=n-1\n",
    "    m=r-li[j]\n",
    "    while st<end and end < n:\n",
    "        if li[st]+li[end]>m:\n",
    "            st += 1\n",
    "        elif li[st]+li[end]<m:\n",
    "            end -= 1\n",
    "        \n",
    "        else:\n",
    "            print(li[j], li[st],li[end])\n",
    "            st += 1\n",
    "            end = n - 1\n",
    "            \n",
    "        \n",
    "        "
   ]
  },
  {
   "cell_type": "code",
   "execution_count": 12,
   "metadata": {},
   "outputs": [
    {
     "name": "stdout",
     "output_type": "stream",
     "text": [
      "7\n",
      "1 2 3 4 5 6 7\n",
      "12\n"
     ]
    },
    {
     "ename": "KeyboardInterrupt",
     "evalue": "",
     "output_type": "error",
     "traceback": [
      "\u001b[0;31m---------------------------------------------------------------------------\u001b[0m",
      "\u001b[0;31mKeyboardInterrupt\u001b[0m                         Traceback (most recent call last)",
      "\u001b[0;32m<ipython-input-12-e496a21b5531>\u001b[0m in \u001b[0;36m<module>\u001b[0;34m\u001b[0m\n\u001b[1;32m     21\u001b[0m                 \u001b[0;32melse\u001b[0m\u001b[0;34m:\u001b[0m\u001b[0;34m\u001b[0m\u001b[0;34m\u001b[0m\u001b[0m\n\u001b[1;32m     22\u001b[0m                     \u001b[0;32mbreak\u001b[0m\u001b[0;34m\u001b[0m\u001b[0;34m\u001b[0m\u001b[0m\n\u001b[0;32m---> 23\u001b[0;31m             \u001b[0;32mfor\u001b[0m \u001b[0mi\u001b[0m \u001b[0;32min\u001b[0m \u001b[0mrange\u001b[0m\u001b[0;34m(\u001b[0m\u001b[0mend\u001b[0m\u001b[0;34m,\u001b[0m\u001b[0mst\u001b[0m\u001b[0;34m-\u001b[0m\u001b[0;36m1\u001b[0m\u001b[0;34m,\u001b[0m\u001b[0;34m-\u001b[0m\u001b[0;36m1\u001b[0m\u001b[0;34m)\u001b[0m\u001b[0;34m:\u001b[0m\u001b[0;34m\u001b[0m\u001b[0;34m\u001b[0m\u001b[0m\n\u001b[0m\u001b[1;32m     24\u001b[0m                 \u001b[0;32mif\u001b[0m \u001b[0mli\u001b[0m\u001b[0;34m[\u001b[0m\u001b[0mend\u001b[0m\u001b[0;34m]\u001b[0m\u001b[0;34m==\u001b[0m\u001b[0mli\u001b[0m\u001b[0;34m[\u001b[0m\u001b[0mi\u001b[0m\u001b[0;34m]\u001b[0m\u001b[0;34m:\u001b[0m\u001b[0;34m\u001b[0m\u001b[0;34m\u001b[0m\u001b[0m\n\u001b[1;32m     25\u001b[0m                     \u001b[0mc2\u001b[0m\u001b[0;34m=\u001b[0m\u001b[0mc2\u001b[0m\u001b[0;34m+\u001b[0m\u001b[0;36m1\u001b[0m\u001b[0;34m\u001b[0m\u001b[0;34m\u001b[0m\u001b[0m\n",
      "\u001b[0;31mKeyboardInterrupt\u001b[0m: "
     ]
    }
   ],
   "source": [
    "n=int(input())\n",
    "li=[int(x) for x in input().split()]\n",
    "li.sort()\n",
    "r=int(input())\n",
    "for j in range(n):\n",
    "    st=j+1\n",
    "    end=n-1\n",
    "    m=r-li[j]\n",
    "    while st<=end and end<n and st>-1:\n",
    "        if li[st]+li[end]>m:\n",
    "            end-=1\n",
    "        elif li[st]+li[end]<m:\n",
    "            st+=1\n",
    "        else:\n",
    "            c1=0\n",
    "            c2=0\n",
    "            for i in range(st,end+1):\n",
    "                \n",
    "                if li[st]==li[i]:\n",
    "                    c1=c1+1\n",
    "                else:\n",
    "                    break\n",
    "            for i in range(end,st-1,-1):\n",
    "                if li[end]==li[i]:\n",
    "                    c2=c2+1\n",
    "                else:\n",
    "                    break\n",
    "            if li[st]==li[end]:\n",
    "                com=((end-st+1)*(end-st))//2\n",
    "            else:\n",
    "                com=c1*c2\n",
    "            for i in range(com-1):\n",
    "                print(str(li[j]),str(li[st]),str(li[end]))\n",
    "                st=st+c1\n",
    "                end= n -1"
   ]
  },
  {
   "cell_type": "code",
   "execution_count": 26,
   "metadata": {},
   "outputs": [
    {
     "name": "stdout",
     "output_type": "stream",
     "text": [
      "5\n",
      "1 2 3 1 2\n",
      "6\n",
      "1 2 3 \n",
      "1 2 3 \n",
      "1 2 3 \n",
      "1 2 3 \n"
     ]
    }
   ],
   "source": [
    "n=int(input())\n",
    "li=[int(x) for x in input().split()]\n",
    "r=int(input())\n",
    "for j in range(n):\n",
    "    st=j+1\n",
    "    end=n-1\n",
    "    m=r-li[j]\n",
    "    while st<end and end < n:\n",
    "        if li[st]+li[end]>m or li[st]+li[end]<m:\n",
    "            end -= 1\n",
    "        \n",
    "        \n",
    "        else:\n",
    "            if li[j] <= li[st] and li[j]<= li[end]:\n",
    "                if li[st] < li[end]:\n",
    "                    print(li[j], li[st], li[end], end = ' ')\n",
    "                else:\n",
    "                    print(li[j], li[end], li[st], end=' ')\n",
    "            elif li[st]<= li[j] and li[st] <= li[end]:\n",
    "                if li[j]<li[end]:\n",
    "                    print(li[st], li[j], li[end], end=' ')\n",
    "                else:\n",
    "                    print(li[st], li[end], li[j],end=' ')\n",
    "            else:\n",
    "                if li[j] <li[st]:\n",
    "                    print(li[end], li[j], li[st],end=' ')\n",
    "                else:\n",
    "                    print(li[end], li[st], li[j],end=' ')\n",
    "            print()\n",
    "            st += 1\n",
    "            end = n - 1"
   ]
  },
  {
   "cell_type": "code",
   "execution_count": 27,
   "metadata": {},
   "outputs": [
    {
     "name": "stdout",
     "output_type": "stream",
     "text": [
      "4\n",
      "1\n",
      "23\n",
      "345\n",
      "4567\n"
     ]
    }
   ],
   "source": [
    "n = int(input())\n",
    "i = 1\n",
    "while i <= n:\n",
    "    j = 1\n",
    "    p = i\n",
    "    while j <=i:\n",
    "        print(p, end=\"\")\n",
    "        j = j+1\n",
    "        p = p + 1\n",
    "    print()\n",
    "    i = i + 1"
   ]
  },
  {
   "cell_type": "code",
   "execution_count": 28,
   "metadata": {},
   "outputs": [
    {
     "name": "stdout",
     "output_type": "stream",
     "text": [
      "4\n",
      "1\n",
      "12\n",
      "123\n",
      "1234\n"
     ]
    }
   ],
   "source": [
    "n = int(input())\n",
    "i = 1\n",
    "while i <= n:\n",
    "    j = 1\n",
    "    while j <=i:\n",
    "        print(j, end=\"\")\n",
    "        j = j+1\n",
    "    print()\n",
    "    i = i + 1"
   ]
  },
  {
   "cell_type": "code",
   "execution_count": 29,
   "metadata": {},
   "outputs": [
    {
     "name": "stdout",
     "output_type": "stream",
     "text": [
      "4\n",
      "*\n",
      "*\n",
      "**\n",
      "*\n",
      "**\n",
      "***\n",
      "*\n",
      "**\n",
      "***\n",
      "****\n"
     ]
    }
   ],
   "source": [
    "size = int(input())\n",
    "def triangle():\n",
    "    for _ in range(1, size+1):\n",
    "        for j in range(1, _+1):\n",
    "            \n",
    "            print('*'* j)\n",
    "        \n",
    "        _ = _+1\n",
    "        \n",
    "triangle()\n"
   ]
  },
  {
   "cell_type": "code",
   "execution_count": 30,
   "metadata": {},
   "outputs": [
    {
     "name": "stdout",
     "output_type": "stream",
     "text": [
      "4\n",
      "1 \n",
      "2 3 \n",
      "4 5 6 \n",
      "7 8 9 10 \n"
     ]
    }
   ],
   "source": [
    "n = int(input())\n",
    "i = 1\n",
    "p = 1\n",
    "while i <= n:\n",
    "    j = 1\n",
    "    while j <= i:\n",
    "        print(p,end=' ')\n",
    "        p += 1\n",
    "        j += 1\n",
    "    print()\n",
    "    i += 1"
   ]
  },
  {
   "cell_type": "code",
   "execution_count": 34,
   "metadata": {},
   "outputs": [
    {
     "name": "stdout",
     "output_type": "stream",
     "text": [
      "3\n",
      "  1\n",
      " 232\n",
      "34543\n"
     ]
    }
   ],
   "source": [
    "n=int(input())\n",
    "i=1\n",
    "while i<=n:\n",
    "    spaces=1\n",
    "    while spaces<=n-i:\n",
    "        print(' ',end='')\n",
    "        spaces+=1\n",
    "    j=1\n",
    "    p=i\n",
    "    while j<=i:     \n",
    "        print(p,end='')\n",
    "        p+=1\n",
    "        j+=1    \n",
    "    p=i-1\n",
    "    j = 0\n",
    "    while p>=1:\n",
    "        \n",
    "        r=(2*i)-j-2\n",
    "        print(r,end='')\n",
    "        p-=1\n",
    "        j += 1\n",
    "    print()\n",
    "    i+=1"
   ]
  },
  {
   "cell_type": "code",
   "execution_count": null,
   "metadata": {},
   "outputs": [],
   "source": [
    "import queue\n",
    "class BinaryTreeNode:\n",
    "    def __init__(self, data):\n",
    "        self.data = data\n",
    "        self.left = None\n",
    "        self.right = None\n",
    "\n",
    "def diameter(root):\n",
    "    if root == None:\n",
    "        return 0,0\n",
    "    \n",
    "    lh,d1=diameter(root.left)\n",
    "    rh,d2=diameter(root.right)\n",
    "    h= 1 + max(lh,rh)\n",
    "    return h , max(rh+lh,rh,lh)\n",
    "    \n",
    "    \n",
    "    \n",
    "\n",
    "def buildLevelTree(levelorder):\n",
    "    index = 0\n",
    "    length = len(levelorder)\n",
    "    if length<=0 or levelorder[0]==-1:\n",
    "        return None\n",
    "    root = BinaryTreeNode(levelorder[index])\n",
    "    index += 1\n",
    "    q = queue.Queue()\n",
    "    q.put(root)\n",
    "    while not q.empty():\n",
    "        currentNode = q.get()\n",
    "        leftChild = levelorder[index]\n",
    "        index += 1\n",
    "        if leftChild != -1:\n",
    "            leftNode = BinaryTreeNode(leftChild)\n",
    "            currentNode.left =leftNode\n",
    "            q.put(leftNode)\n",
    "        rightChild = levelorder[index]\n",
    "        index += 1\n",
    "        if rightChild != -1:\n",
    "            rightNode = BinaryTreeNode(rightChild)\n",
    "            currentNode.right =rightNode\n",
    "            q.put(rightNode)\n",
    "    return root\n",
    "\n",
    "# Main\n",
    "levelOrder = [int(i) for i in input().strip().split()]\n",
    "root = buildLevelTree(levelOrder)\n",
    "h,d=diameter(root)\n",
    "print(d)"
   ]
  },
  {
   "cell_type": "code",
   "execution_count": 37,
   "metadata": {},
   "outputs": [
    {
     "name": "stdout",
     "output_type": "stream",
     "text": [
      "8 3 10 1 6 -1 14 -1 -1 4 7 13 -1 -1 -1 -1 -1 -1 -1\n",
      "6\n"
     ]
    }
   ],
   "source": [
    "import queue\n",
    "class BinaryTreeNode:\n",
    "    def __init__(self, data):\n",
    "        self.data = data\n",
    "        self.left = None\n",
    "        self.right = None\n",
    "\n",
    "def diameter(root):\n",
    "    if root == None:\n",
    "        return 0,0\n",
    "    \n",
    "    lh,d1=diameter(root.left)\n",
    "    rh,d2=diameter(root.right)\n",
    "    h= 1 + max(lh,rh)\n",
    "    return h , max(rh+lh, rh, lh)\n",
    "    \n",
    "    \n",
    "    \n",
    "\n",
    "def buildLevelTree(levelorder):\n",
    "    index = 0\n",
    "    length = len(levelorder)\n",
    "    if length<=0 or levelorder[0]==-1:\n",
    "        return None\n",
    "    root = BinaryTreeNode(levelorder[index])\n",
    "    index += 1\n",
    "    q = queue.Queue()\n",
    "    q.put(root)\n",
    "    while not q.empty():\n",
    "        currentNode = q.get()\n",
    "        leftChild = levelorder[index]\n",
    "        index += 1\n",
    "        if leftChild != -1:\n",
    "            leftNode = BinaryTreeNode(leftChild)\n",
    "            currentNode.left =leftNode\n",
    "            q.put(leftNode)\n",
    "        rightChild = levelorder[index]\n",
    "        index += 1\n",
    "        if rightChild != -1:\n",
    "            rightNode = BinaryTreeNode(rightChild)\n",
    "            currentNode.right =rightNode\n",
    "            q.put(rightNode)\n",
    "    return root\n",
    "\n",
    "# Main\n",
    "levelOrder = [int(i) for i in input().strip().split()]\n",
    "root = buildLevelTree(levelOrder)\n",
    "h,d=diameter(root)\n",
    "print(d)"
   ]
  },
  {
   "cell_type": "code",
   "execution_count": 38,
   "metadata": {},
   "outputs": [
    {
     "name": "stdout",
     "output_type": "stream",
     "text": [
      "3 4 5 2 6 1 9 -1\n",
      "5\n",
      "2\n"
     ]
    }
   ],
   "source": [
    "class Node:\n",
    "    def __init__(self, data):\n",
    "        self.data = data\n",
    "        self.next = None\n",
    "\n",
    "def linearSearchRecursive(head, n):\n",
    "    #  Given a linked list and an integer n you need to find and return index\n",
    "    #  where n is present in the LL. Do this iteratively. Return -1 if n is not\n",
    "    #  present in the LL. Indexing of nodes starts from 0. \n",
    "    #############################\n",
    "    # PLEASE ADD YOUR CODE HERE #\n",
    "    #############################\n",
    "    \n",
    "    if head is None:\n",
    "        return -1\n",
    "    if head.data==n:\n",
    "        return 0\n",
    "    result=linearSearchRecursive(head.next,n)\n",
    "    if result==-1:\n",
    "        return -1\n",
    "    return 1+result\n",
    "\n",
    "def ll(arr):\n",
    "    if len(arr)==0:\n",
    "        return None\n",
    "    head = Node(arr[0])\n",
    "    last = head\n",
    "    for data in arr[1:]:\n",
    "        last.next = Node(data)\n",
    "        last = last.next\n",
    "    return head\n",
    "\n",
    "# Main\n",
    "from sys import setrecursionlimit\n",
    "setrecursionlimit(11000)\n",
    "# Read the link list elements including -1\n",
    "arr=list(int(i) for i in input().strip().split(' '))\n",
    "# Create a Linked list after removing -1 from list\n",
    "l = ll(arr[:-1])\n",
    "data=int(input())\n",
    "index = linearSearchRecursive(l, data)\n",
    "print(index)"
   ]
  },
  {
   "cell_type": "code",
   "execution_count": 42,
   "metadata": {},
   "outputs": [
    {
     "name": "stdout",
     "output_type": "stream",
     "text": [
      "6\n",
      "2 6 8 5 4 3 2\n",
      "4\n",
      "2 3 4 7\n"
     ]
    },
    {
     "ename": "IndexError",
     "evalue": "list index out of range",
     "output_type": "error",
     "traceback": [
      "\u001b[0;31m---------------------------------------------------------------------------\u001b[0m",
      "\u001b[0;31mIndexError\u001b[0m                                Traceback (most recent call last)",
      "\u001b[0;32m<ipython-input-42-8a5e4b422a2f>\u001b[0m in \u001b[0;36m<module>\u001b[0;34m\u001b[0m\n\u001b[1;32m     11\u001b[0m \u001b[0;32mfor\u001b[0m \u001b[0mi\u001b[0m \u001b[0;32min\u001b[0m \u001b[0mrange\u001b[0m\u001b[0;34m(\u001b[0m\u001b[0;36m0\u001b[0m\u001b[0;34m,\u001b[0m\u001b[0marraysize1\u001b[0m\u001b[0;34m,\u001b[0m\u001b[0;36m1\u001b[0m\u001b[0;34m)\u001b[0m\u001b[0;34m:\u001b[0m\u001b[0;34m\u001b[0m\u001b[0;34m\u001b[0m\u001b[0m\n\u001b[1;32m     12\u001b[0m     \u001b[0;32mfor\u001b[0m \u001b[0mk\u001b[0m \u001b[0;32min\u001b[0m \u001b[0mrange\u001b[0m\u001b[0;34m(\u001b[0m\u001b[0;36m0\u001b[0m\u001b[0;34m,\u001b[0m\u001b[0marraysize2\u001b[0m\u001b[0;34m,\u001b[0m\u001b[0;36m1\u001b[0m\u001b[0;34m)\u001b[0m\u001b[0;34m:\u001b[0m\u001b[0;34m\u001b[0m\u001b[0;34m\u001b[0m\u001b[0m\n\u001b[0;32m---> 13\u001b[0;31m         \u001b[0;32mif\u001b[0m \u001b[0mli1\u001b[0m\u001b[0;34m[\u001b[0m\u001b[0mi\u001b[0m\u001b[0;34m]\u001b[0m \u001b[0;34m==\u001b[0m \u001b[0mli2\u001b[0m\u001b[0;34m[\u001b[0m\u001b[0mk\u001b[0m\u001b[0;34m]\u001b[0m\u001b[0;34m:\u001b[0m\u001b[0;34m\u001b[0m\u001b[0;34m\u001b[0m\u001b[0m\n\u001b[0m\u001b[1;32m     14\u001b[0m             \u001b[0mmarker\u001b[0m \u001b[0;34m=\u001b[0m \u001b[0;32mFalse\u001b[0m\u001b[0;34m\u001b[0m\u001b[0;34m\u001b[0m\u001b[0m\n\u001b[1;32m     15\u001b[0m             \u001b[0mele\u001b[0m \u001b[0;34m=\u001b[0m \u001b[0mli2\u001b[0m\u001b[0;34m[\u001b[0m\u001b[0mk\u001b[0m\u001b[0;34m]\u001b[0m\u001b[0;34m\u001b[0m\u001b[0;34m\u001b[0m\u001b[0m\n",
      "\u001b[0;31mIndexError\u001b[0m: list index out of range"
     ]
    }
   ],
   "source": [
    "arraysize1 = int(input())\n",
    "li1 = [int(x) for x in input().split()]\n",
    "\n",
    "arraysize2 = int(input())\n",
    "li2 = [int(x) for x in input().split()]\n",
    "\n",
    "li3 = []\n",
    "\n",
    "marker = True\n",
    "\n",
    "for i in range(0,arraysize1,1):\n",
    "    for k in range(0,arraysize2,1):\n",
    "        if li1[i] == li2[k]:\n",
    "            marker = False\n",
    "            ele = li2[k]\n",
    "            li2.pop(ele)\n",
    "            break\n",
    "         \n",
    "    \n",
    "    if marker == False:\n",
    "        li3.append(li1[i])\n",
    "    marker = True\n",
    "\n",
    "li3 = list(dict.fromkeys(li3))\n",
    "\n",
    "for i in range(len(li3)):\n",
    "    print(li3[i])"
   ]
  },
  {
   "cell_type": "code",
   "execution_count": 1,
   "metadata": {},
   "outputs": [
    {
     "name": "stdout",
     "output_type": "stream",
     "text": [
      "8 3 10 1 6 -1 14 -1 -1 4 7 13 -1 -1 -1 -1 -1 -1 -1\n",
      "7\n",
      "true\n"
     ]
    }
   ],
   "source": [
    "import queue\n",
    "class BinaryTreeNode:\n",
    "    def __init__(self, data):\n",
    "        self.data = data\n",
    "        self.left = None\n",
    "        self.right = None\n",
    "\n",
    "def isNodePresent(root, x):\n",
    "    if root==None:\n",
    "        return \n",
    "    if root.data==x:\n",
    "        return True\n",
    "    left = isNodePresent(root.left, x)\n",
    "    right = isNodePresent(root.right, x)\n",
    "    return left or right\n",
    "    \n",
    "def buildLevelTree(levelorder):\n",
    "    index = 0\n",
    "    length = len(levelorder)\n",
    "    if length<=0 or levelorder[0]==-1:\n",
    "        return None\n",
    "    root = BinaryTreeNode(levelorder[index])\n",
    "    index += 1\n",
    "    q = queue.Queue()\n",
    "    q.put(root)\n",
    "    while not q.empty():\n",
    "        currentNode = q.get()\n",
    "        leftChild = levelorder[index]\n",
    "        index += 1\n",
    "        if leftChild != -1:\n",
    "            leftNode = BinaryTreeNode(leftChild)\n",
    "            currentNode.left =leftNode\n",
    "            q.put(leftNode)\n",
    "        rightChild = levelorder[index]\n",
    "        index += 1\n",
    "        if rightChild != -1:\n",
    "            rightNode = BinaryTreeNode(rightChild)\n",
    "            currentNode.right =rightNode\n",
    "            q.put(rightNode)\n",
    "    return root\n",
    "\n",
    "# Main\n",
    "levelOrder = [int(i) for i in input().strip().split()]\n",
    "root = buildLevelTree(levelOrder)\n",
    "x=int(input())\n",
    "present=isNodePresent(root, x)\n",
    "if present:\n",
    "    print('true')\n",
    "else:\n",
    "    print('false')"
   ]
  },
  {
   "cell_type": "code",
   "execution_count": 2,
   "metadata": {},
   "outputs": [
    {
     "name": "stdout",
     "output_type": "stream",
     "text": [
      "8 5 10 2 6 -1 -1 -1 -1 -1 7 -1 -1\n",
      "6 10\n",
      "6\n",
      "7\n",
      "8\n",
      "10\n"
     ]
    }
   ],
   "source": [
    "import queue\n",
    "class BinaryTreeNode:\n",
    "    def __init__(self, data):\n",
    "        self.data = data\n",
    "        self.left = None\n",
    "        self.right = None\n",
    "\n",
    "def elementsInRangeK1K2(root, k1, k2):\n",
    "    if root==None:\n",
    "        return\n",
    "    if root.data>k2:\n",
    "        elementsInRangeK1K2(root.left,k1,k2)\n",
    "    elif root.data<k1:\n",
    "        elementsInRangeK1K2(root.right,k1,k2)\n",
    "    else:\n",
    "        \n",
    "        elementsInRangeK1K2(root.left,k1,k2)\n",
    "        print(root.data,end=' ')\n",
    "        elementsInRangeK1K2(root.right,k1,k2)\n",
    "        \n",
    "def buildLevelTree(levelorder):\n",
    "    index = 0\n",
    "    length = len(levelorder)\n",
    "    if length<=0 or levelorder[0]==-1:\n",
    "        return None\n",
    "    root = BinaryTreeNode(levelorder[index])\n",
    "    index += 1\n",
    "    q = queue.Queue()\n",
    "    q.put(root)\n",
    "    while not q.empty():\n",
    "        currentNode = q.get()\n",
    "        leftChild = levelorder[index]\n",
    "        index += 1\n",
    "        if leftChild != -1:\n",
    "            leftNode = BinaryTreeNode(leftChild)\n",
    "            currentNode.left =leftNode\n",
    "            q.put(leftNode)\n",
    "        rightChild = levelorder[index]\n",
    "        index += 1\n",
    "        if rightChild != -1:\n",
    "            rightNode = BinaryTreeNode(rightChild)\n",
    "            currentNode.right =rightNode\n",
    "            q.put(rightNode)\n",
    "    return root\n",
    "\n",
    "# Main\n",
    "levelOrder = [int(i) for i in input().strip().split()]\n",
    "root = buildLevelTree(levelOrder)\n",
    "k1, k2 = (int(i) for i in input().strip().split())\n",
    "elementsInRangeK1K2(root, k1, k2)"
   ]
  },
  {
   "cell_type": "code",
   "execution_count": 9,
   "metadata": {},
   "outputs": [
    {
     "name": "stdout",
     "output_type": "stream",
     "text": [
      "8 5 10 2 6 -1 -1 -1 -1 -1 7 -1 -1\n",
      "2\n",
      "2\n"
     ]
    }
   ],
   "source": [
    "import queue\n",
    "class BinaryTreeNode:\n",
    "    def __init__(self, data):\n",
    "        self.data = data\n",
    "        self.left = None\n",
    "        self.right = None\n",
    "\n",
    "def searchInBST(root, k):\n",
    "    if root==None:\n",
    "        return None\n",
    "    if root.data == k:\n",
    "        return root\n",
    "    elif k>root.data:\n",
    "        left = searchInBST(root.right, k)\n",
    "        if left:\n",
    "            return left\n",
    "    else:\n",
    "        right = searchInBST(root.left, k)\n",
    "        if right:\n",
    "            return right\n",
    "\n",
    "def buildLevelTree(levelorder):\n",
    "    index = 0\n",
    "    length = len(levelorder)\n",
    "    if length<=0 or levelorder[0]==-1:\n",
    "        return None\n",
    "    root = BinaryTreeNode(levelorder[index])\n",
    "    index += 1\n",
    "    q = queue.Queue()\n",
    "    q.put(root)\n",
    "    while not q.empty():\n",
    "        currentNode = q.get()\n",
    "        leftChild = levelorder[index]\n",
    "        index += 1\n",
    "        if leftChild != -1:\n",
    "            leftNode = BinaryTreeNode(leftChild)\n",
    "            currentNode.left =leftNode\n",
    "            q.put(leftNode)\n",
    "        rightChild = levelorder[index]\n",
    "        index += 1\n",
    "        if rightChild != -1:\n",
    "            rightNode = BinaryTreeNode(rightChild)\n",
    "            currentNode.right =rightNode\n",
    "            q.put(rightNode)\n",
    "    return root\n",
    "\n",
    "# Main\n",
    "levelOrder = [int(i) for i in input().strip().split()]\n",
    "root = buildLevelTree(levelOrder)\n",
    "k=int(input())\n",
    "node = searchInBST(root, k)\n",
    "if node:\n",
    "    print(node.data)\n"
   ]
  },
  {
   "cell_type": "code",
   "execution_count": 4,
   "metadata": {},
   "outputs": [
    {
     "name": "stdout",
     "output_type": "stream",
     "text": [
      "[1, 2, 3, 4, 5]\n"
     ]
    }
   ],
   "source": [
    "def change(li):\n",
    "    global li\n",
    "    li=[3,3,4]\n",
    "    return li\n",
    "li = [1,2,3,4,5]\n",
    "change(li)\n",
    "print(li)\n",
    "\n"
   ]
  },
  {
   "cell_type": "code",
   "execution_count": 9,
   "metadata": {},
   "outputs": [
    {
     "name": "stdout",
     "output_type": "stream",
     "text": [
      "13\n",
      "12\n",
      "13\n"
     ]
    }
   ],
   "source": [
    "\n",
    "def f(a):\n",
    "    #global a \n",
    "    a=12\n",
    "    print(a)\n",
    "print(a)\n",
    "a = 13\n",
    "f(a)\n",
    "print(a)"
   ]
  },
  {
   "cell_type": "code",
   "execution_count": 11,
   "metadata": {},
   "outputs": [
    {
     "name": "stdout",
     "output_type": "stream",
     "text": [
      "12345\n",
      "5\n"
     ]
    }
   ],
   "source": [
    "def sumofdigit(n,sum):\n",
    "    \n",
    "    if n > 0:\n",
    "        sum += n % 10\n",
    "        sumofdigit(n//10,sum)\n",
    "    return sum\n",
    "\n",
    "n=int(input())\n",
    "print(sumofdigit(n,0))"
   ]
  },
  {
   "cell_type": "code",
   "execution_count": 3,
   "metadata": {},
   "outputs": [
    {
     "name": "stdout",
     "output_type": "stream",
     "text": [
      "[0, 1]\n"
     ]
    }
   ],
   "source": [
    "arr = [0] + [1]\n",
    "print(arr)"
   ]
  },
  {
   "cell_type": "code",
   "execution_count": 4,
   "metadata": {},
   "outputs": [
    {
     "name": "stdout",
     "output_type": "stream",
     "text": [
      "0\n"
     ]
    }
   ],
   "source": [
    "print(8//10)"
   ]
  },
  {
   "cell_type": "code",
   "execution_count": 6,
   "metadata": {},
   "outputs": [
    {
     "name": "stdout",
     "output_type": "stream",
     "text": [
      "5\n",
      "2\n"
     ]
    },
    {
     "ename": "NameError",
     "evalue": "name 'fact' is not defined",
     "output_type": "error",
     "traceback": [
      "\u001b[0;31m---------------------------------------------------------------------------\u001b[0m",
      "\u001b[0;31mNameError\u001b[0m                                 Traceback (most recent call last)",
      "\u001b[0;32m<ipython-input-6-5645a41d07af>\u001b[0m in \u001b[0;36m<module>\u001b[0;34m\u001b[0m\n\u001b[1;32m      7\u001b[0m \u001b[0mn\u001b[0m \u001b[0;34m=\u001b[0m \u001b[0mint\u001b[0m\u001b[0;34m(\u001b[0m\u001b[0minput\u001b[0m\u001b[0;34m(\u001b[0m\u001b[0;34m)\u001b[0m\u001b[0;34m)\u001b[0m\u001b[0;34m\u001b[0m\u001b[0;34m\u001b[0m\u001b[0m\n\u001b[1;32m      8\u001b[0m \u001b[0mr\u001b[0m \u001b[0;34m=\u001b[0m \u001b[0mint\u001b[0m\u001b[0;34m(\u001b[0m\u001b[0minput\u001b[0m\u001b[0;34m(\u001b[0m\u001b[0;34m)\u001b[0m\u001b[0;34m)\u001b[0m\u001b[0;34m\u001b[0m\u001b[0;34m\u001b[0m\u001b[0m\n\u001b[0;32m----> 9\u001b[0;31m \u001b[0mans\u001b[0m \u001b[0;34m=\u001b[0m \u001b[0mncr\u001b[0m\u001b[0;34m(\u001b[0m\u001b[0mn\u001b[0m\u001b[0;34m,\u001b[0m\u001b[0mr\u001b[0m\u001b[0;34m)\u001b[0m\u001b[0;34m\u001b[0m\u001b[0;34m\u001b[0m\u001b[0m\n\u001b[0m\u001b[1;32m     10\u001b[0m \u001b[0mprint\u001b[0m\u001b[0;34m(\u001b[0m\u001b[0mans\u001b[0m\u001b[0;34m)\u001b[0m\u001b[0;34m\u001b[0m\u001b[0;34m\u001b[0m\u001b[0m\n",
      "\u001b[0;32m<ipython-input-6-5645a41d07af>\u001b[0m in \u001b[0;36mncr\u001b[0;34m(n, r)\u001b[0m\n\u001b[1;32m      1\u001b[0m \u001b[0;32mdef\u001b[0m \u001b[0mncr\u001b[0m\u001b[0;34m(\u001b[0m\u001b[0mn\u001b[0m\u001b[0;34m,\u001b[0m\u001b[0mr\u001b[0m\u001b[0;34m)\u001b[0m\u001b[0;34m:\u001b[0m\u001b[0;34m\u001b[0m\u001b[0;34m\u001b[0m\u001b[0m\n\u001b[0;32m----> 2\u001b[0;31m     \u001b[0mn_fact\u001b[0m\u001b[0;34m=\u001b[0m\u001b[0mfact\u001b[0m\u001b[0;34m(\u001b[0m\u001b[0mn\u001b[0m\u001b[0;34m)\u001b[0m\u001b[0;34m\u001b[0m\u001b[0;34m\u001b[0m\u001b[0m\n\u001b[0m\u001b[1;32m      3\u001b[0m     \u001b[0mr_fact\u001b[0m\u001b[0;34m=\u001b[0m\u001b[0mfact\u001b[0m\u001b[0;34m(\u001b[0m\u001b[0mr\u001b[0m\u001b[0;34m)\u001b[0m\u001b[0;34m\u001b[0m\u001b[0;34m\u001b[0m\u001b[0m\n\u001b[1;32m      4\u001b[0m     \u001b[0mn_r_fact\u001b[0m\u001b[0;34m=\u001b[0m\u001b[0mfact\u001b[0m\u001b[0;34m(\u001b[0m\u001b[0mn\u001b[0m\u001b[0;34m-\u001b[0m\u001b[0mr\u001b[0m\u001b[0;34m)\u001b[0m\u001b[0;34m\u001b[0m\u001b[0;34m\u001b[0m\u001b[0m\n\u001b[1;32m      5\u001b[0m     \u001b[0mans\u001b[0m\u001b[0;34m=\u001b[0m\u001b[0mn_fact\u001b[0m\u001b[0;34m/\u001b[0m\u001b[0;34m(\u001b[0m\u001b[0mr_fact\u001b[0m\u001b[0;34m*\u001b[0m\u001b[0mn_r_fact\u001b[0m\u001b[0;34m)\u001b[0m\u001b[0;34m\u001b[0m\u001b[0;34m\u001b[0m\u001b[0m\n",
      "\u001b[0;31mNameError\u001b[0m: name 'fact' is not defined"
     ]
    }
   ],
   "source": [
    "def ncr(n,r):\n",
    "    n_fact=fact(n)\n",
    "    r_fact=fact(r)\n",
    "    n_r_fact=fact(n-r)\n",
    "    ans=n_fact/(r_fact*n_r_fact)\n",
    "    return ans\n",
    "n = int(input())\n",
    "r = int(input())\n",
    "ans = ncr(n,r)\n",
    "print(ans)"
   ]
  },
  {
   "cell_type": "code",
   "execution_count": 5,
   "metadata": {},
   "outputs": [
    {
     "name": "stdout",
     "output_type": "stream",
     "text": [
      "9\n",
      "1 3 6 2 5 4 3 2 4\n",
      "7\n",
      "[1, 2, 2, 3, 3, 4, 4, 5, 6]\n",
      "1 6\n",
      "\n",
      "2 5\n",
      "\n",
      "2 5\n",
      "\n",
      "3 4\n",
      "3 4\n",
      "\n",
      "3 4\n",
      "3 4\n",
      "\n",
      "\n",
      "\n",
      "\n",
      "\n"
     ]
    }
   ],
   "source": [
    "def pairSum(arr, x):\n",
    "    \n",
    "    for i in range(len(arr)):\n",
    "        for j in range(i,len(arr)):\n",
    "            \n",
    "            sum=arr[i]+arr[j]\n",
    "            if sum==x:\n",
    "                print(arr[i],arr[j])\n",
    "        \n",
    "def merge_sort(a1,a2,arr):\n",
    "    i = 0\n",
    "    j = 0\n",
    "    k = 0\n",
    "    while i <len(a1) and j<len(a2):\n",
    "        \n",
    "        if a1[i]<a2[j] or a1[i]==a2[j]:\n",
    "            arr[k] = a1[i]\n",
    "            k+=1\n",
    "            i+=1\n",
    "        else:\n",
    "            arr[k] = a2[j]\n",
    "            k+=1 \n",
    "            j+=1\n",
    "    while i<len(a1):\n",
    "        arr[k] = a1[i]\n",
    "        k+=1\n",
    "        i+=1\n",
    "    while j<len(a2):\n",
    "        arr[k] = a2[j]\n",
    "        k+=1 \n",
    "        j+=1\n",
    "    return(arr)    \n",
    "    \n",
    "def Merge_sort(arr):\n",
    "    if len(arr)==0 or len(arr)==1:\n",
    "        return \n",
    "    mid = len(arr)//2\n",
    "    a1 = arr[0:mid]\n",
    "    a2 = arr[mid:]\n",
    "    Merge_sort(a1)\n",
    "    Merge_sort(a2)\n",
    "    merge_sort(a1,a2,arr)\n",
    "\n",
    "\n",
    "                 \n",
    "     \n",
    "\n",
    "# Main\n",
    "n=int(input())\n",
    "arr=list(int(i) for i in input().strip().split(' '))\n",
    "sum=int(input())\n",
    "Merge_sort(arr)\n",
    "print(arr)\n",
    "pairSum(arr, sum)\n",
    "\n"
   ]
  },
  {
   "cell_type": "code",
   "execution_count": 8,
   "metadata": {},
   "outputs": [
    {
     "name": "stdout",
     "output_type": "stream",
     "text": [
      "4 8\n",
      "2 2\n",
      "2\n",
      "-8 + i24\n"
     ]
    }
   ],
   "source": [
    "## Read input as specified in the question.\n",
    "## Print output as specified in the question.\n",
    "class complexnumber:\n",
    "    def __init__(self,x=0,y=0):\n",
    "        self.x=x\n",
    "        self.y=y\n",
    "    def plus(self,c):\n",
    "        self.x=self.x+ c.x\n",
    "        self.y= self.y+ c.y\n",
    "    def multiply(self,c):\n",
    "        \n",
    "        x = (self.x*c.x)-(self.y* c.y)\n",
    "        y = (self.x*c.y)+(self.y*c.x)\n",
    "        self.x = x\n",
    "        self.y = y\n",
    "    def printi(self):\n",
    "        if self.x == 0 and self.y == 0:\n",
    "            print(0)\n",
    "        elif self.x == 0:\n",
    "            print(\"i\",end='')\n",
    "            print(self.y)\n",
    "        elif self.y == 0:\n",
    "            print(self.x)\n",
    "        else:\n",
    "            print(self.x, \"+\", \"i\",end='')\n",
    "            print(self.y)\n",
    "x1, y1 = input().split()\n",
    "x2, y2 = input().split()\n",
    "k = int(input())\n",
    "c1 = complexnumber(int(x1), int(y1))\n",
    "c2 = complexnumber(int(x2), int(y2))\n",
    "if k == 1:\n",
    "    c1.plus(c2)\n",
    "    c1.printi()\n",
    "else:\n",
    "    c1.multiply(c2)\n",
    "    c1.printi()\n",
    "            "
   ]
  },
  {
   "cell_type": "code",
   "execution_count": 12,
   "metadata": {},
   "outputs": [
    {
     "name": "stdout",
     "output_type": "stream",
     "text": [
      "ninjas\n"
     ]
    }
   ],
   "source": [
    "a = \"ninjas\"\n",
    "print(a)"
   ]
  },
  {
   "cell_type": "code",
   "execution_count": 15,
   "metadata": {},
   "outputs": [
    {
     "name": "stdout",
     "output_type": "stream",
     "text": [
      "xxyy\n",
      "xxyy\n"
     ]
    }
   ],
   "source": [
    "def pairstar(str, newstring=[]):\n",
    "    \n",
    "    if len(str)==1:\n",
    "        return str\n",
    "    if str[0]!=str[1]:\n",
    "        newstring=str[0]+'*'+pairstar(str[1:])\n",
    "        #return newstring\n",
    "    else :\n",
    "        newstring=str[0:1]+pairstar(str[1:])\n",
    "    return newstring\n",
    "str=[input()]\n",
    "result=pairstar(str)\n",
    "print(*result)"
   ]
  },
  {
   "cell_type": "code",
   "execution_count": 18,
   "metadata": {},
   "outputs": [
    {
     "ename": "KeyboardInterrupt",
     "evalue": "",
     "output_type": "error",
     "traceback": [
      "\u001b[0;31m---------------------------------------------------------------------------\u001b[0m",
      "\u001b[0;31mKeyboardInterrupt\u001b[0m                         Traceback (most recent call last)",
      "\u001b[0;32m~/anaconda3/lib/python3.7/site-packages/ipykernel/kernelbase.py\u001b[0m in \u001b[0;36m_input_request\u001b[0;34m(self, prompt, ident, parent, password)\u001b[0m\n\u001b[1;32m    877\u001b[0m             \u001b[0;32mtry\u001b[0m\u001b[0;34m:\u001b[0m\u001b[0;34m\u001b[0m\u001b[0;34m\u001b[0m\u001b[0m\n\u001b[0;32m--> 878\u001b[0;31m                 \u001b[0mident\u001b[0m\u001b[0;34m,\u001b[0m \u001b[0mreply\u001b[0m \u001b[0;34m=\u001b[0m \u001b[0mself\u001b[0m\u001b[0;34m.\u001b[0m\u001b[0msession\u001b[0m\u001b[0;34m.\u001b[0m\u001b[0mrecv\u001b[0m\u001b[0;34m(\u001b[0m\u001b[0mself\u001b[0m\u001b[0;34m.\u001b[0m\u001b[0mstdin_socket\u001b[0m\u001b[0;34m,\u001b[0m \u001b[0;36m0\u001b[0m\u001b[0;34m)\u001b[0m\u001b[0;34m\u001b[0m\u001b[0;34m\u001b[0m\u001b[0m\n\u001b[0m\u001b[1;32m    879\u001b[0m             \u001b[0;32mexcept\u001b[0m \u001b[0mException\u001b[0m\u001b[0;34m:\u001b[0m\u001b[0;34m\u001b[0m\u001b[0;34m\u001b[0m\u001b[0m\n",
      "\u001b[0;32m~/anaconda3/lib/python3.7/site-packages/jupyter_client/session.py\u001b[0m in \u001b[0;36mrecv\u001b[0;34m(self, socket, mode, content, copy)\u001b[0m\n\u001b[1;32m    802\u001b[0m         \u001b[0;32mtry\u001b[0m\u001b[0;34m:\u001b[0m\u001b[0;34m\u001b[0m\u001b[0;34m\u001b[0m\u001b[0m\n\u001b[0;32m--> 803\u001b[0;31m             \u001b[0mmsg_list\u001b[0m \u001b[0;34m=\u001b[0m \u001b[0msocket\u001b[0m\u001b[0;34m.\u001b[0m\u001b[0mrecv_multipart\u001b[0m\u001b[0;34m(\u001b[0m\u001b[0mmode\u001b[0m\u001b[0;34m,\u001b[0m \u001b[0mcopy\u001b[0m\u001b[0;34m=\u001b[0m\u001b[0mcopy\u001b[0m\u001b[0;34m)\u001b[0m\u001b[0;34m\u001b[0m\u001b[0;34m\u001b[0m\u001b[0m\n\u001b[0m\u001b[1;32m    804\u001b[0m         \u001b[0;32mexcept\u001b[0m \u001b[0mzmq\u001b[0m\u001b[0;34m.\u001b[0m\u001b[0mZMQError\u001b[0m \u001b[0;32mas\u001b[0m \u001b[0me\u001b[0m\u001b[0;34m:\u001b[0m\u001b[0;34m\u001b[0m\u001b[0;34m\u001b[0m\u001b[0m\n",
      "\u001b[0;32m~/anaconda3/lib/python3.7/site-packages/zmq/sugar/socket.py\u001b[0m in \u001b[0;36mrecv_multipart\u001b[0;34m(self, flags, copy, track)\u001b[0m\n\u001b[1;32m    466\u001b[0m         \"\"\"\n\u001b[0;32m--> 467\u001b[0;31m         \u001b[0mparts\u001b[0m \u001b[0;34m=\u001b[0m \u001b[0;34m[\u001b[0m\u001b[0mself\u001b[0m\u001b[0;34m.\u001b[0m\u001b[0mrecv\u001b[0m\u001b[0;34m(\u001b[0m\u001b[0mflags\u001b[0m\u001b[0;34m,\u001b[0m \u001b[0mcopy\u001b[0m\u001b[0;34m=\u001b[0m\u001b[0mcopy\u001b[0m\u001b[0;34m,\u001b[0m \u001b[0mtrack\u001b[0m\u001b[0;34m=\u001b[0m\u001b[0mtrack\u001b[0m\u001b[0;34m)\u001b[0m\u001b[0;34m]\u001b[0m\u001b[0;34m\u001b[0m\u001b[0;34m\u001b[0m\u001b[0m\n\u001b[0m\u001b[1;32m    468\u001b[0m         \u001b[0;31m# have first part already, only loop while more to receive\u001b[0m\u001b[0;34m\u001b[0m\u001b[0;34m\u001b[0m\u001b[0;34m\u001b[0m\u001b[0m\n",
      "\u001b[0;32mzmq/backend/cython/socket.pyx\u001b[0m in \u001b[0;36mzmq.backend.cython.socket.Socket.recv\u001b[0;34m()\u001b[0m\n",
      "\u001b[0;32mzmq/backend/cython/socket.pyx\u001b[0m in \u001b[0;36mzmq.backend.cython.socket.Socket.recv\u001b[0;34m()\u001b[0m\n",
      "\u001b[0;32mzmq/backend/cython/socket.pyx\u001b[0m in \u001b[0;36mzmq.backend.cython.socket._recv_copy\u001b[0;34m()\u001b[0m\n",
      "\u001b[0;32m~/anaconda3/lib/python3.7/site-packages/zmq/backend/cython/checkrc.pxd\u001b[0m in \u001b[0;36mzmq.backend.cython.checkrc._check_rc\u001b[0;34m()\u001b[0m\n",
      "\u001b[0;31mKeyboardInterrupt\u001b[0m: ",
      "\nDuring handling of the above exception, another exception occurred:\n",
      "\u001b[0;31mKeyboardInterrupt\u001b[0m                         Traceback (most recent call last)",
      "\u001b[0;32m<ipython-input-18-7901fd3ae8c4>\u001b[0m in \u001b[0;36m<module>\u001b[0;34m\u001b[0m\n\u001b[1;32m      9\u001b[0m         \u001b[0mnewstring\u001b[0m\u001b[0;34m+=\u001b[0m\u001b[0mstr\u001b[0m\u001b[0;34m[\u001b[0m\u001b[0;36m0\u001b[0m\u001b[0;34m]\u001b[0m\u001b[0;34m+\u001b[0m\u001b[0;34m\"*\"\u001b[0m \u001b[0;34m+\u001b[0m\u001b[0mpairstar\u001b[0m\u001b[0;34m(\u001b[0m\u001b[0mstr\u001b[0m\u001b[0;34m[\u001b[0m\u001b[0;36m1\u001b[0m\u001b[0;34m:\u001b[0m\u001b[0;34m]\u001b[0m\u001b[0;34m)\u001b[0m\u001b[0;34m\u001b[0m\u001b[0;34m\u001b[0m\u001b[0m\n\u001b[1;32m     10\u001b[0m     \u001b[0mprint\u001b[0m\u001b[0;34m(\u001b[0m\u001b[0mnewstring\u001b[0m\u001b[0;34m)\u001b[0m\u001b[0;34m\u001b[0m\u001b[0;34m\u001b[0m\u001b[0m\n\u001b[0;32m---> 11\u001b[0;31m \u001b[0mstr\u001b[0m\u001b[0;34m=\u001b[0m\u001b[0;34m[\u001b[0m\u001b[0minput\u001b[0m\u001b[0;34m(\u001b[0m\u001b[0;34m)\u001b[0m\u001b[0;34m]\u001b[0m\u001b[0;34m\u001b[0m\u001b[0;34m\u001b[0m\u001b[0m\n\u001b[0m\u001b[1;32m     12\u001b[0m \u001b[0mpairstar\u001b[0m\u001b[0;34m(\u001b[0m\u001b[0mstr\u001b[0m\u001b[0;34m)\u001b[0m\u001b[0;34m\u001b[0m\u001b[0;34m\u001b[0m\u001b[0m\n",
      "\u001b[0;32m~/anaconda3/lib/python3.7/site-packages/ipykernel/kernelbase.py\u001b[0m in \u001b[0;36mraw_input\u001b[0;34m(self, prompt)\u001b[0m\n\u001b[1;32m    851\u001b[0m             \u001b[0mself\u001b[0m\u001b[0;34m.\u001b[0m\u001b[0m_parent_ident\u001b[0m\u001b[0;34m,\u001b[0m\u001b[0;34m\u001b[0m\u001b[0;34m\u001b[0m\u001b[0m\n\u001b[1;32m    852\u001b[0m             \u001b[0mself\u001b[0m\u001b[0;34m.\u001b[0m\u001b[0m_parent_header\u001b[0m\u001b[0;34m,\u001b[0m\u001b[0;34m\u001b[0m\u001b[0;34m\u001b[0m\u001b[0m\n\u001b[0;32m--> 853\u001b[0;31m             \u001b[0mpassword\u001b[0m\u001b[0;34m=\u001b[0m\u001b[0;32mFalse\u001b[0m\u001b[0;34m,\u001b[0m\u001b[0;34m\u001b[0m\u001b[0;34m\u001b[0m\u001b[0m\n\u001b[0m\u001b[1;32m    854\u001b[0m         )\n\u001b[1;32m    855\u001b[0m \u001b[0;34m\u001b[0m\u001b[0m\n",
      "\u001b[0;32m~/anaconda3/lib/python3.7/site-packages/ipykernel/kernelbase.py\u001b[0m in \u001b[0;36m_input_request\u001b[0;34m(self, prompt, ident, parent, password)\u001b[0m\n\u001b[1;32m    881\u001b[0m             \u001b[0;32mexcept\u001b[0m \u001b[0mKeyboardInterrupt\u001b[0m\u001b[0;34m:\u001b[0m\u001b[0;34m\u001b[0m\u001b[0;34m\u001b[0m\u001b[0m\n\u001b[1;32m    882\u001b[0m                 \u001b[0;31m# re-raise KeyboardInterrupt, to truncate traceback\u001b[0m\u001b[0;34m\u001b[0m\u001b[0;34m\u001b[0m\u001b[0;34m\u001b[0m\u001b[0m\n\u001b[0;32m--> 883\u001b[0;31m                 \u001b[0;32mraise\u001b[0m \u001b[0mKeyboardInterrupt\u001b[0m\u001b[0;34m\u001b[0m\u001b[0;34m\u001b[0m\u001b[0m\n\u001b[0m\u001b[1;32m    884\u001b[0m             \u001b[0;32melse\u001b[0m\u001b[0;34m:\u001b[0m\u001b[0;34m\u001b[0m\u001b[0;34m\u001b[0m\u001b[0m\n\u001b[1;32m    885\u001b[0m                 \u001b[0;32mbreak\u001b[0m\u001b[0;34m\u001b[0m\u001b[0;34m\u001b[0m\u001b[0m\n",
      "\u001b[0;31mKeyboardInterrupt\u001b[0m: "
     ]
    }
   ],
   "source": [
    "def pairstar(str, newstring=\"\"):\n",
    "    \n",
    "    if len(str)==1:\n",
    "        return str\n",
    "    if str[0]!=str[1]:\n",
    "        newstring+=str[0]+pairstar(str[1:])\n",
    "        #return newstring\n",
    "    else :\n",
    "        newstring+=str[0]+\"*\" +pairstar(str[1:])\n",
    "    print(newstring)\n",
    "str=[input()]\n",
    "pairstar(str)"
   ]
  },
  {
   "cell_type": "code",
   "execution_count": 19,
   "metadata": {},
   "outputs": [
    {
     "name": "stdout",
     "output_type": "stream",
     "text": [
      "a*\n"
     ]
    }
   ],
   "source": [
    "newstring = ''\n",
    "str = 'abc'\n",
    "newstring+=str[0]+\"*\"\n",
    "print(newstring)"
   ]
  },
  {
   "cell_type": "code",
   "execution_count": null,
   "metadata": {},
   "outputs": [],
   "source": []
  }
 ],
 "metadata": {
  "kernelspec": {
   "display_name": "Python 3",
   "language": "python",
   "name": "python3"
  },
  "language_info": {
   "codemirror_mode": {
    "name": "ipython",
    "version": 3
   },
   "file_extension": ".py",
   "mimetype": "text/x-python",
   "name": "python",
   "nbconvert_exporter": "python",
   "pygments_lexer": "ipython3",
   "version": "3.7.1"
  }
 },
 "nbformat": 4,
 "nbformat_minor": 2
}
