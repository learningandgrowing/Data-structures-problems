{
 "cells": [
  {
   "cell_type": "code",
   "execution_count": 4,
   "metadata": {},
   "outputs": [
    {
     "name": "stdout",
     "output_type": "stream",
     "text": [
      "1 2 3 1 1 4 5 3\n",
      "{1: 3, 2: 1, 3: 2, 4: 1, 5: 1}\n"
     ]
    },
    {
     "data": {
      "text/plain": [
       "1"
      ]
     },
     "execution_count": 4,
     "metadata": {},
     "output_type": "execute_result"
    }
   ],
   "source": [
    "def findfrequency(s, k):\n",
    "    word = s.split()\n",
    "    d = {}\n",
    "    for w in word:\n",
    "        d[w] = d.get(w,0)+1\n",
    "    for w in d:\n",
    "        if d[w] == k:\n",
    "            print(w)\n",
    "s = \"this is the word with many many word\"\n",
    "findfrequency(s, 2)\n",
    "        \n",
    "        "
   ]
  },
  {
   "cell_type": "code",
   "execution_count": null,
   "metadata": {},
   "outputs": [],
   "source": [
    "def pairsum():\n",
    "    "
   ]
  },
  {
   "cell_type": "code",
   "execution_count": 17,
   "metadata": {},
   "outputs": [
    {
     "name": "stdout",
     "output_type": "stream",
     "text": [
      "5\n",
      "2 1 -2 2 3\n",
      "-2 2\n",
      "-2 2\n"
     ]
    }
   ],
   "source": [
    "#pairsumto0\n",
    "def pairsum(l, k):\n",
    "    for i in range(0, len(l)):\n",
    "        old = l[i]\n",
    "        new = k - old\n",
    "        for j in range(i+1, len(l)):\n",
    "            if new == l[j]:\n",
    "                if new > old:\n",
    "                    print(old, new)\n",
    "                else:\n",
    "                    print(new, old)\n",
    "n = int(input())\n",
    "l = list(int(m) for m in input().strip().split())\n",
    "k = int(input())\n",
    "pairsum(l)\n",
    "    \n",
    "\n",
    "    "
   ]
  },
  {
   "cell_type": "code",
   "execution_count": 1,
   "metadata": {},
   "outputs": [
    {
     "name": "stdout",
     "output_type": "stream",
     "text": [
      " abcd\n"
     ]
    }
   ],
   "source": [
    "a = 'abcd'\n",
    "x = ' '\n",
    "z = x + a\n",
    "print(z)"
   ]
  },
  {
   "cell_type": "code",
   "execution_count": 5,
   "metadata": {},
   "outputs": [
    {
     "name": "stdout",
     "output_type": "stream",
     "text": [
      " abcd\n"
     ]
    }
   ],
   "source": [
    "def uniquechar(st):\n",
    "    result = ' '\n",
    "    d = {}\n",
    "    for i in st:\n",
    "        if i not in d:\n",
    "            result = result + i\n",
    "            d[i] = True\n",
    "    return result\n",
    "st = 'ababacd'\n",
    "print(uniquechar(st))"
   ]
  },
  {
   "cell_type": "code",
   "execution_count": null,
   "metadata": {},
   "outputs": [],
   "source": [
    "l = [1, 5, 2, 3, 7, 9, 6]\n",
    "l1 = l.sort()\n",
    "r = ' '\n",
    "for i in range(len(l)):\n",
    "    for j in range(i+1,len(l)):\n",
    "        if l1[i] + 1 == l1[j]"
   ]
  }
 ],
 "metadata": {
  "kernelspec": {
   "display_name": "Python 3",
   "language": "python",
   "name": "python3"
  },
  "language_info": {
   "codemirror_mode": {
    "name": "ipython",
    "version": 3
   },
   "file_extension": ".py",
   "mimetype": "text/x-python",
   "name": "python",
   "nbconvert_exporter": "python",
   "pygments_lexer": "ipython3",
   "version": "3.7.1"
  }
 },
 "nbformat": 4,
 "nbformat_minor": 2
}
