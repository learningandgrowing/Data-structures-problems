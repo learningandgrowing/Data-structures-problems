{
 "cells": [
  {
   "cell_type": "code",
   "execution_count": 6,
   "metadata": {},
   "outputs": [],
   "source": [
    "import queue\n",
    "class BinaryTreeNode:\n",
    "    def __init__(self, data):\n",
    "        self.data = data\n",
    "        self.left = None\n",
    "        self.right = None"
   ]
  },
  {
   "cell_type": "code",
   "execution_count": 7,
   "metadata": {},
   "outputs": [],
   "source": [
    "def buildLevelTree(levelorder):\n",
    "    index = 0\n",
    "    length = len(levelorder)\n",
    "    if length<=0 or levelorder[0]==-1:\n",
    "        return None\n",
    "    root = BinaryTreeNode(levelorder[index])\n",
    "    index += 1\n",
    "    q = queue.Queue()\n",
    "    q.put(root)\n",
    "    while not q.empty():\n",
    "        currentNode = q.get()\n",
    "        leftChild = levelorder[index]\n",
    "        index += 1\n",
    "        if leftChild != -1:\n",
    "            leftNode = BinaryTreeNode(leftChild)\n",
    "            currentNode.left =leftNode\n",
    "            q.put(leftNode)\n",
    "        rightChild = levelorder[index]\n",
    "        index += 1\n",
    "        if rightChild != -1:\n",
    "            rightNode = BinaryTreeNode(rightChild)\n",
    "            currentNode.right =rightNode\n",
    "            q.put(rightNode)\n",
    "    return root"
   ]
  },
  {
   "cell_type": "code",
   "execution_count": 8,
   "metadata": {},
   "outputs": [],
   "source": [
    "def findPathBST(root,data):\n",
    "    if root == None:\n",
    "        return None\n",
    "    if root.data == data:\n",
    "        l = list()\n",
    "        l.append(root.data)\n",
    "        return l\n",
    "    if root.data > data:\n",
    "        \n",
    "        leftoutput = findPathBST(root.left, data)\n",
    "        if leftoutput != None:\n",
    "            leftoutput.append(root.data)\n",
    "            return leftoutput\n",
    "        else:\n",
    "            return None\n",
    "    elif root.data < data:\n",
    "        \n",
    "        rightoutput = findPathBST(root.right, data)\n",
    "        if rightoutput != None:\n",
    "            rightoutput.append(root.data)\n",
    "            return rightoutput\n",
    "        else:\n",
    "        \n",
    "            return None"
   ]
  },
  {
   "cell_type": "code",
   "execution_count": 9,
   "metadata": {},
   "outputs": [
    {
     "name": "stdout",
     "output_type": "stream",
     "text": [
      "8 5 10 2 6 -1 -1 -1 -1 -1 7 -1 -1\n",
      "2\n",
      "2\n",
      "5\n",
      "8\n"
     ]
    }
   ],
   "source": [
    "levelOrder = [int(i) for i in input().strip().split()]\n",
    "root = buildLevelTree(levelOrder)\n",
    "data = int(input())\n",
    "path = findPathBST(root,data)\n",
    "if path is not None:\n",
    "    for ele in path:\n",
    "        print(ele)"
   ]
  }
 ],
 "metadata": {
  "kernelspec": {
   "display_name": "Python 3",
   "language": "python",
   "name": "python3"
  },
  "language_info": {
   "codemirror_mode": {
    "name": "ipython",
    "version": 3
   },
   "file_extension": ".py",
   "mimetype": "text/x-python",
   "name": "python",
   "nbconvert_exporter": "python",
   "pygments_lexer": "ipython3",
   "version": "3.7.1"
  }
 },
 "nbformat": 4,
 "nbformat_minor": 2
}
