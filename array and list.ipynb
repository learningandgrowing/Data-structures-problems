{
 "cells": [
  {
   "cell_type": "markdown",
   "metadata": {},
   "source": [
    "list\n"
   ]
  },
  {
   "cell_type": "code",
   "execution_count": 6,
   "metadata": {},
   "outputs": [
    {
     "name": "stdout",
     "output_type": "stream",
     "text": [
      "4\n",
      "2 6 1 2\n",
      "5\n",
      "1 2 3 4 2\n"
     ]
    },
    {
     "data": {
      "text/plain": [
       "[2, 1, 2]"
      ]
     },
     "execution_count": 6,
     "metadata": {},
     "output_type": "execute_result"
    }
   ],
   "source": [
    "def arrayinter(l1,l2):\n",
    "    l3 = []\n",
    "    for i in l1:\n",
    "        if i in l2:\n",
    "            l3.append(i)\n",
    "            ele = l2.index(i)\n",
    "            l2.pop(ele)\n",
    "    return l3\n",
    "n = int(input())\n",
    "l1 = [int(i) for i in input().split()]\n",
    "m = int(input())\n",
    "l2 = [int(i) for i in input().split()]\n",
    "arrayinter(l1,l2)"
   ]
  },
  {
   "cell_type": "code",
   "execution_count": 7,
   "metadata": {},
   "outputs": [
    {
     "name": "stdout",
     "output_type": "stream",
     "text": [
      "7\n",
      "1 2 3 4 5 6 7 \n",
      "12\n"
     ]
    }
   ],
   "source": [
    "#triplet sum\n",
    "def order(new1, new, old):\n",
    "    if old <= new and old <= new1:\n",
    "        if new <= new1:\n",
    "            print(old, new, new1)\n",
    "        else:\n",
    "            print(old, new1, new)\n",
    "    elif new <= old and new <= new1:\n",
    "        if old <= new1:\n",
    "            print(new, old, new1)\n",
    "        else:\n",
    "            print(new, new1, old)\n",
    "    else:\n",
    "        if old < new:\n",
    "            print(new1, old, new)\n",
    "        else:\n",
    "            print(new1, new, old)\n",
    "    \n",
    "def tripletsum(arr, k):\n",
    "    for i in range(0, len(arr)-2):\n",
    "        old = arr[i]\n",
    "        new = k - old\n",
    "        for j in range(i+1, len(arr)-1):\n",
    "            new1 = k - new\n",
    "            for m in range(j+1, len(arr)):\n",
    "                if new1 == arr[m]:\n",
    "                    order(new1, new1, old) \n",
    "n = int(input())\n",
    "arr = list(int(i) for i in input().split())\n",
    "k = int(input())\n",
    "tripletsum(arr, k)\n",
    "    "
   ]
  },
  {
   "cell_type": "code",
   "execution_count": 8,
   "metadata": {},
   "outputs": [
    {
     "name": "stdout",
     "output_type": "stream",
     "text": [
      "[0, 0, 0, 0, 1, 1, 1, 1]\n"
     ]
    }
   ],
   "source": [
    "a = [1,0,1,0,0,0,1,1]\n",
    "a.sort()\n",
    "print(a)"
   ]
  },
  {
   "cell_type": "code",
   "execution_count": 12,
   "metadata": {},
   "outputs": [
    {
     "name": "stdout",
     "output_type": "stream",
     "text": [
      "7\n",
      "0 1 1 0 1 0 1\n",
      "[0, 0, 0, 1, 1, 1, 1]\n"
     ]
    }
   ],
   "source": [
    "def sortarr(arr):\n",
    "    for i in range(0, len(arr)):\n",
    "        for j in range(0, len(arr)-i-1):\n",
    "            \n",
    "            if arr[j] > arr[j+1]:\n",
    "                arr[j],arr[j+1] = arr[j+1],arr[j]\n",
    "    for i in arr:\n",
    "        print(i, end=' ')\n",
    "n = int(input())\n",
    "arr = [int(i) for i in input().split()]\n",
    "sortarr(arr)"
   ]
  },
  {
   "cell_type": "code",
   "execution_count": 13,
   "metadata": {},
   "outputs": [
    {
     "name": "stdout",
     "output_type": "stream",
     "text": [
      "7\n",
      "0 1 1 0 1 0 1\n",
      "1 0 0 0 1 1 1 "
     ]
    }
   ],
   "source": [
    "def sortarr(arr):\n",
    "    n = len(arr)\n",
    "    i = 0\n",
    "    j = n-1\n",
    "    while i < j:\n",
    "        for i in range(i, ):\n",
    "            if arr[i] == 1:\n",
    "                for j in range(j, -1,-1):\n",
    "                    if arr[j] == 0:\n",
    "                        arr[i],arr[j] = arr[j],arr[i]\n",
    "    for i in arr:\n",
    "        print(i, end=' ')\n",
    "n = int(input())\n",
    "arr = [int(i) for i in input().split()]\n",
    "sortarr(arr)"
   ]
  },
  {
   "cell_type": "code",
   "execution_count": 1,
   "metadata": {},
   "outputs": [
    {
     "name": "stdout",
     "output_type": "stream",
     "text": [
      "5 10 12 16 18 17 20\n",
      "12\n"
     ]
    }
   ],
   "source": [
    "def evenodd(l):\n",
    "    even = 0\n",
    "    odd = 0\n",
    "    for i in range(len(l)):\n",
    "        if i%2 == 0:\n",
    "            even += l[i]\n",
    "        else:\n",
    "            odd += l[i]\n",
    "    total = even - odd\n",
    "    return total\n",
    "l= [int(i) for i in input().split()]\n",
    "ans = evenodd(l)\n",
    "print(ans)"
   ]
  },
  {
   "cell_type": "code",
   "execution_count": 11,
   "metadata": {},
   "outputs": [
    {
     "name": "stdout",
     "output_type": "stream",
     "text": [
      "banana\n",
      "True\n"
     ]
    }
   ],
   "source": [
    "def match(n,arr):\n",
    "    l = len(n)\n",
    "    for i in arr:\n",
    "        \n",
    "        if len(i) == l:\n",
    "            count = 0\n",
    "            for k in range(l):\n",
    "                if i[k] == n[k]:\n",
    "                    continue\n",
    "                else:\n",
    "                    count += 1\n",
    "            if count == 0 or count == 1:\n",
    "                return True\n",
    "            \n",
    "        \n",
    "    return False\n",
    "n = input()\n",
    "arr = [\"santra\", \"banama\", \"mango\"]\n",
    "ans = match(n,arr)\n",
    "\n",
    "if ans:\n",
    "    print('True')\n",
    "else:\n",
    "    print('False')"
   ]
  },
  {
   "cell_type": "code",
   "execution_count": null,
   "metadata": {},
   "outputs": [],
   "source": []
  }
 ],
 "metadata": {
  "kernelspec": {
   "display_name": "Python 3",
   "language": "python",
   "name": "python3"
  },
  "language_info": {
   "codemirror_mode": {
    "name": "ipython",
    "version": 3
   },
   "file_extension": ".py",
   "mimetype": "text/x-python",
   "name": "python",
   "nbconvert_exporter": "python",
   "pygments_lexer": "ipython3",
   "version": "3.7.1"
  }
 },
 "nbformat": 4,
 "nbformat_minor": 2
}
