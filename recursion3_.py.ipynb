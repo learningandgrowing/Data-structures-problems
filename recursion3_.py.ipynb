{
 "cells": [
  {
   "cell_type": "code",
   "execution_count": 5,
   "metadata": {},
   "outputs": [
    {
     "name": "stdout",
     "output_type": "stream",
     "text": [
      "3\n",
      "15 20 12\n",
      "[]\n",
      "['12']\n",
      "['12', '20']\n",
      "['12', '20', '12']\n",
      "['12', '20', '12', '15']\n",
      "['12', '20', '12', '15', '12']\n",
      "['12', '20', '12', '15', '12', '20']\n",
      "['12', '20', '12', '15', '12', '20', '12']\n"
     ]
    }
   ],
   "source": [
    "def strsubseq(arr,output):\n",
    "    \n",
    "    if len(arr) == 0:\n",
    "        print(output)\n",
    "        return\n",
    "    \n",
    "    strsubseq(arr[1:],output)\n",
    "    \n",
    "    newoutput = output\n",
    "    newoutput.append(arr[0])\n",
    "    strsubseq(arr[1:],newoutput)\n",
    "    \n",
    "    \n",
    "n = int(input())\n",
    "arr = [(i) for i in input().split()]\n",
    "output = []\n",
    "strsubseq(arr,output)"
   ]
  },
  {
   "cell_type": "code",
   "execution_count": 7,
   "metadata": {},
   "outputs": [
    {
     "name": "stdout",
     "output_type": "stream",
     "text": [
      "a\n"
     ]
    }
   ],
   "source": [
    "l = \"\"\n",
    "l1 = l + 'a'\n",
    "print(l1)"
   ]
  },
  {
   "cell_type": "code",
   "execution_count": 14,
   "metadata": {},
   "outputs": [
    {
     "name": "stdout",
     "output_type": "stream",
     "text": [
      "abc\n",
      "ab\n",
      "ac\n",
      "ba\n",
      "bc\n",
      "ca\n",
      "cb\n"
     ]
    }
   ],
   "source": [
    "#print permutation\n",
    "def permutation(s,output):\n",
    "    n = len(s)\n",
    "    \n",
    "    if n == 0:\n",
    "        print(output)\n",
    "        return\n",
    "    \n",
    "    \n",
    "    for i in range(0, n):\n",
    "        \n",
    "        curr = s[i]\n",
    "        newoutput = output + curr\n",
    "        substring = s[:i] + s[i+1:]\n",
    "        \n",
    "        totalper = permutation(substring,newoutput)\n",
    "        \n",
    "        \n",
    "        \n",
    "        \n",
    "    \n",
    "    \n",
    "        \n",
    "s = input()\n",
    "output = \"\"\n",
    "permutation(s,output)\n",
    "\n"
   ]
  },
  {
   "cell_type": "code",
   "execution_count": null,
   "metadata": {},
   "outputs": [],
   "source": []
  }
 ],
 "metadata": {
  "kernelspec": {
   "display_name": "Python 3",
   "language": "python",
   "name": "python3"
  },
  "language_info": {
   "codemirror_mode": {
    "name": "ipython",
    "version": 3
   },
   "file_extension": ".py",
   "mimetype": "text/x-python",
   "name": "python",
   "nbconvert_exporter": "python",
   "pygments_lexer": "ipython3",
   "version": "3.7.1"
  }
 },
 "nbformat": 4,
 "nbformat_minor": 2
}
