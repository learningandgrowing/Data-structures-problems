{
 "cells": [
  {
   "cell_type": "code",
   "execution_count": 206,
   "metadata": {},
   "outputs": [],
   "source": [
    "class TreeNode:\n",
    "    def __init__(self, data):\n",
    "        self.data = data\n",
    "        self.children = []\n"
   ]
  },
  {
   "cell_type": "code",
   "execution_count": 207,
   "metadata": {},
   "outputs": [],
   "source": [
    "def PrintTree(root):\n",
    "    print(root.data)\n",
    "    for child in root.children:\n",
    "        PrintTree(child)"
   ]
  },
  {
   "cell_type": "code",
   "execution_count": 208,
   "metadata": {},
   "outputs": [],
   "source": [
    "def printTreedetail(root):\n",
    "    print(root.data,\":\", end = '')\n",
    "    for child in root.children:\n",
    "        print(child.data, ',', end = \" \")\n",
    "    print()\n",
    "    for child in root.children:\n",
    "        printTreedetail(child)"
   ]
  },
  {
   "cell_type": "code",
   "execution_count": 209,
   "metadata": {},
   "outputs": [],
   "source": [
    "import queue\n",
    "def printLevelWiseTree(root):\n",
    "    q = queue.Queue()\n",
    "    \n",
    "    q.put(root)\n",
    "    \n",
    "    while not(q.empty()):\n",
    "        curr_node = q.get()\n",
    "        \n",
    "        print(curr_node.data, end ='')\n",
    "        print(\":\",end ='')\n",
    "        for i in range(0,len(curr_node.children)-1):\n",
    "            q.put(curr_node.children[i])\n",
    "            print(curr_node.children[i],end=\"\")\n",
    "            print(\",\",end=\"\")\n",
    "        if len(curr_node.children)!=0:\n",
    "            q.put(curr_node.children[len(curr_node.children)-1])\n",
    "            print(curr_node.children[len(curr_node.children)-1],end=\"\")\n",
    "            \n",
    "        print()"
   ]
  },
  {
   "cell_type": "code",
   "execution_count": 210,
   "metadata": {},
   "outputs": [],
   "source": [
    "def takeinput():\n",
    "    print(\"enter input rootdata:\")\n",
    "    rootdata = int(input())\n",
    "    if rootdata == -1:\n",
    "        return None\n",
    "    root = TreeNode(rootdata)\n",
    "    print(\"enter number of children of\",rootdata)\n",
    "    childcount = int(input())\n",
    "    for i in range (childcount):\n",
    "        child = takeinput()\n",
    "        root.children.append(child)\n",
    "    return root\n"
   ]
  },
  {
   "cell_type": "code",
   "execution_count": 211,
   "metadata": {},
   "outputs": [],
   "source": [
    "import queue\n",
    "def takeinputlevelwise():\n",
    "    q = queue.Queue()\n",
    "    print(\"enter rootnode\")\n",
    "    rootdata = int(input())\n",
    "    if rootdata == -1:\n",
    "        return \n",
    "    root = TreeNode(rootdata)\n",
    "    q.put(root)\n",
    "    while not(q.empty()):\n",
    "        curr_node = q.get()\n",
    "        print(\"number of children for \", curr_node.data)\n",
    "        childrencount = int(input())\n",
    "        for i in range(childrencount):\n",
    "            print(\"enter next child for\", curr_node.data)\n",
    "            childdata = int(input())\n",
    "            child = TreeNode(childdata)\n",
    "            curr_node.children.append(child)\n",
    "            q.put(child)\n",
    "    return root"
   ]
  },
  {
   "cell_type": "code",
   "execution_count": 212,
   "metadata": {},
   "outputs": [],
   "source": [
    "import queue\n",
    "def takeinputlevelwise_v(arr):\n",
    "    q = queue.Queue()\n",
    "    rootdata = (int(arr[0]))\n",
    "    if rootdata == -1:\n",
    "        return\n",
    "    root = TreeNode(rootdata)\n",
    "    q.put(root)\n",
    "    size = len(arr)\n",
    "    i = 1\n",
    "    while i < size:\n",
    "        curr_node = q.get()\n",
    "        countchild = int(arr[i])\n",
    "        i += 1\n",
    "        for j in range(0, countchild):\n",
    "            child = TreeNode(int(arr[i+j]))\n",
    "            curr_node.children.append(child)\n",
    "            q.put(child)\n",
    "        i += countchild\n",
    "    return root\n",
    "                             \n",
    "                             \n",
    "            "
   ]
  },
  {
   "cell_type": "code",
   "execution_count": null,
   "metadata": {},
   "outputs": [],
   "source": [
    "def containsX(root, x):\n",
    "    if root == None:\n",
    "        return 'false'\n",
    "    if root.data == x:\n",
    "        return 'true'\n",
    "    \n",
    "    for child in root.children:\n",
    "        return containsX(child, x)\n",
    "        \n",
    "    else:\n",
    "        return 'false'"
   ]
  },
  {
   "cell_type": "code",
   "execution_count": 213,
   "metadata": {},
   "outputs": [],
   "source": [
    "def numnodes(root):\n",
    "    if root == None:\n",
    "        return 0\n",
    "    count = 1\n",
    "    for child in root.children:\n",
    "        count = count + numnodes(child)\n",
    "    return count"
   ]
  },
  {
   "cell_type": "code",
   "execution_count": null,
   "metadata": {},
   "outputs": [],
   "source": [
    "def countleaf(root)"
   ]
  },
  {
   "cell_type": "code",
   "execution_count": 214,
   "metadata": {},
   "outputs": [
    {
     "name": "stdout",
     "output_type": "stream",
     "text": [
      "10 3 20 30 40 2 40 50 0 0 0 0\n",
      "<queue.Queue object at 0x7f7eb2eeedd8>\n",
      "10 :"
     ]
    },
    {
     "ename": "AttributeError",
     "evalue": "'list' object has no attribute 'data'",
     "output_type": "error",
     "traceback": [
      "\u001b[0;31m---------------------------------------------------------------------------\u001b[0m",
      "\u001b[0;31mAttributeError\u001b[0m                            Traceback (most recent call last)",
      "\u001b[0;32m<ipython-input-214-1d658a2c134e>\u001b[0m in \u001b[0;36m<module>\u001b[0;34m\u001b[0m\n\u001b[1;32m      1\u001b[0m \u001b[0marr\u001b[0m \u001b[0;34m=\u001b[0m \u001b[0mlist\u001b[0m\u001b[0;34m(\u001b[0m\u001b[0mint\u001b[0m\u001b[0;34m(\u001b[0m\u001b[0mx\u001b[0m\u001b[0;34m)\u001b[0m \u001b[0;32mfor\u001b[0m \u001b[0mx\u001b[0m \u001b[0;32min\u001b[0m \u001b[0minput\u001b[0m\u001b[0;34m(\u001b[0m\u001b[0;34m)\u001b[0m\u001b[0;34m.\u001b[0m\u001b[0mstrip\u001b[0m\u001b[0;34m(\u001b[0m\u001b[0;34m)\u001b[0m\u001b[0;34m.\u001b[0m\u001b[0msplit\u001b[0m\u001b[0;34m(\u001b[0m\u001b[0;34m' '\u001b[0m\u001b[0;34m)\u001b[0m\u001b[0;34m)\u001b[0m\u001b[0;34m\u001b[0m\u001b[0;34m\u001b[0m\u001b[0m\n\u001b[1;32m      2\u001b[0m \u001b[0mroot\u001b[0m \u001b[0;34m=\u001b[0m \u001b[0mtakeinputlevelwise_v\u001b[0m\u001b[0;34m(\u001b[0m\u001b[0marr\u001b[0m\u001b[0;34m)\u001b[0m\u001b[0;34m\u001b[0m\u001b[0;34m\u001b[0m\u001b[0m\n\u001b[0;32m----> 3\u001b[0;31m \u001b[0mprintLevelWiseTree\u001b[0m\u001b[0;34m(\u001b[0m\u001b[0mroot\u001b[0m\u001b[0;34m)\u001b[0m\u001b[0;34m\u001b[0m\u001b[0;34m\u001b[0m\u001b[0m\n\u001b[0m\u001b[1;32m      4\u001b[0m \u001b[0mprint\u001b[0m\u001b[0;34m(\u001b[0m\u001b[0mnumnodes\u001b[0m\u001b[0;34m(\u001b[0m\u001b[0mroot\u001b[0m\u001b[0;34m)\u001b[0m\u001b[0;34m)\u001b[0m\u001b[0;34m\u001b[0m\u001b[0;34m\u001b[0m\u001b[0m\n",
      "\u001b[0;32m<ipython-input-209-3559edfc3a0d>\u001b[0m in \u001b[0;36mprintLevelWiseTree\u001b[0;34m(root)\u001b[0m\n\u001b[1;32m     11\u001b[0m         \u001b[0;32mif\u001b[0m \u001b[0mcurr_node\u001b[0m\u001b[0;34m.\u001b[0m\u001b[0mchildren\u001b[0m\u001b[0;34m:\u001b[0m\u001b[0;34m\u001b[0m\u001b[0;34m\u001b[0m\u001b[0m\n\u001b[1;32m     12\u001b[0m             \u001b[0mq\u001b[0m\u001b[0;34m.\u001b[0m\u001b[0mput\u001b[0m\u001b[0;34m(\u001b[0m\u001b[0mcurr_node\u001b[0m\u001b[0;34m.\u001b[0m\u001b[0mchildren\u001b[0m\u001b[0;34m)\u001b[0m\u001b[0;34m\u001b[0m\u001b[0;34m\u001b[0m\u001b[0m\n\u001b[0;32m---> 13\u001b[0;31m             \u001b[0mprint\u001b[0m\u001b[0;34m(\u001b[0m\u001b[0mcurr_node\u001b[0m\u001b[0;34m.\u001b[0m\u001b[0mchildren\u001b[0m\u001b[0;34m.\u001b[0m\u001b[0mdata\u001b[0m\u001b[0;34m,\u001b[0m\u001b[0mend\u001b[0m\u001b[0;34m=\u001b[0m\u001b[0;34m','\u001b[0m\u001b[0;34m)\u001b[0m\u001b[0;34m\u001b[0m\u001b[0;34m\u001b[0m\u001b[0m\n\u001b[0m\u001b[1;32m     14\u001b[0m         \u001b[0mprint\u001b[0m\u001b[0;34m(\u001b[0m\u001b[0;34m)\u001b[0m\u001b[0;34m\u001b[0m\u001b[0;34m\u001b[0m\u001b[0m\n",
      "\u001b[0;31mAttributeError\u001b[0m: 'list' object has no attribute 'data'"
     ]
    }
   ],
   "source": [
    "arr = list(int(x) for x in input().strip().split(' '))\n",
    "root = takeinputlevelwise_v(arr)\n",
    "printLevelWiseTree(root)\n",
    "print(containsX(root, x))\n",
    "print(numnodes(root))"
   ]
  },
  {
   "cell_type": "code",
   "execution_count": null,
   "metadata": {},
   "outputs": [],
   "source": []
  }
 ],
 "metadata": {
  "kernelspec": {
   "display_name": "Python 3",
   "language": "python",
   "name": "python3"
  },
  "language_info": {
   "codemirror_mode": {
    "name": "ipython",
    "version": 3
   },
   "file_extension": ".py",
   "mimetype": "text/x-python",
   "name": "python",
   "nbconvert_exporter": "python",
   "pygments_lexer": "ipython3",
   "version": "3.7.1"
  }
 },
 "nbformat": 4,
 "nbformat_minor": 2
}
