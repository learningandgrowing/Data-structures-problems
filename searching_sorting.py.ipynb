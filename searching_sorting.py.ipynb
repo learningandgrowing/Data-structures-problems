{
 "cells": [
  {
   "cell_type": "code",
   "execution_count": 2,
   "metadata": {},
   "outputs": [
    {
     "name": "stdout",
     "output_type": "stream",
     "text": [
      "7\n",
      "0 0 0 8 0 4 7\n",
      "8 4 7 0 0 0 0 "
     ]
    }
   ],
   "source": [
    "#pushzerotoend\n",
    "#bubblesort\n",
    "def PushZeroToEnd(li):\n",
    "    l = len(li)\n",
    "    for i in range(l-1):\n",
    "        for j in range(l-i-1):\n",
    "            if li[j] == 0 and li[j+1] != 0:\n",
    "                li[j],li[j+1] = li[j+1],li[j]\n",
    "                \n",
    "n = int(input())\n",
    "li = [int(i) for i in input().split()]\n",
    "PushZeroToEnd(li)\n",
    "for num in li:\n",
    "    print(num, end=' ')"
   ]
  },
  {
   "cell_type": "code",
   "execution_count": 6,
   "metadata": {},
   "outputs": [
    {
     "name": "stdout",
     "output_type": "stream",
     "text": [
      "7\n",
      "0 0 8 0 7 4 4\n",
      "8 7 4 4 0 0 0 "
     ]
    }
   ],
   "source": [
    "#insertionsort\n",
    "#pushzerotoend\n",
    "def PushZeroToEnd(li):\n",
    "    l = len(li)\n",
    "    for i in range(1, l):\n",
    "        j = i-1\n",
    "        temp = li[i]\n",
    "        while j>=0 and li[j] == 0:\n",
    "            li[j+1] = li[j]\n",
    "            j -= 1\n",
    "        li[j+1] = temp\n",
    "                \n",
    "n = int(input())\n",
    "li = [int(i) for i in input().split()]\n",
    "PushZeroToEnd(li)\n",
    "for num in li:\n",
    "    print(num, end=' ')"
   ]
  },
  {
   "cell_type": "code",
   "execution_count": 7,
   "metadata": {},
   "outputs": [
    {
     "name": "stdout",
     "output_type": "stream",
     "text": [
      "7 \n",
      "0 0 8 0 7 4 4\n",
      "8 7 4 4 0 0 0 "
     ]
    }
   ],
   "source": [
    "#pushzerotoend\n",
    "def PushZeroToEnd(li):\n",
    "    l = len(li)\n",
    "    j = 0\n",
    "    for i in range(l):\n",
    "        if li[i] == 0:\n",
    "            continue\n",
    "        li[j] = li[i]\n",
    "        j += 1\n",
    "    while j < n:\n",
    "        li[j] = 0\n",
    "        j += 1\n",
    "        \n",
    "                \n",
    "n = int(input())\n",
    "li = [int(i) for i in input().split()]\n",
    "PushZeroToEnd(li)\n",
    "for num in li:\n",
    "    print(num, end=' ')"
   ]
  },
  {
   "cell_type": "code",
   "execution_count": 8,
   "metadata": {},
   "outputs": [
    {
     "ename": "IndexError",
     "evalue": "list assignment index out of range",
     "output_type": "error",
     "traceback": [
      "\u001b[0;31m---------------------------------------------------------------------------\u001b[0m",
      "\u001b[0;31mIndexError\u001b[0m                                Traceback (most recent call last)",
      "\u001b[0;32m<ipython-input-8-602abbd7b1fb>\u001b[0m in \u001b[0;36m<module>\u001b[0;34m\u001b[0m\n\u001b[1;32m      1\u001b[0m \u001b[0ma\u001b[0m \u001b[0;34m=\u001b[0m \u001b[0;34m[\u001b[0m\u001b[0;36m1\u001b[0m\u001b[0;34m,\u001b[0m\u001b[0;36m2\u001b[0m\u001b[0;34m,\u001b[0m\u001b[0;36m3\u001b[0m\u001b[0;34m,\u001b[0m\u001b[0;36m4\u001b[0m\u001b[0;34m,\u001b[0m\u001b[0;36m5\u001b[0m\u001b[0;34m,\u001b[0m\u001b[0;36m6\u001b[0m\u001b[0;34m]\u001b[0m\u001b[0;34m\u001b[0m\u001b[0;34m\u001b[0m\u001b[0m\n\u001b[0;32m----> 2\u001b[0;31m \u001b[0ma\u001b[0m\u001b[0;34m[\u001b[0m\u001b[0;36m6\u001b[0m\u001b[0;34m]\u001b[0m \u001b[0;34m=\u001b[0m \u001b[0;36m9\u001b[0m\u001b[0;34m\u001b[0m\u001b[0;34m\u001b[0m\u001b[0m\n\u001b[0m\u001b[1;32m      3\u001b[0m \u001b[0mprint\u001b[0m\u001b[0;34m(\u001b[0m\u001b[0ma\u001b[0m\u001b[0;34m)\u001b[0m\u001b[0;34m\u001b[0m\u001b[0;34m\u001b[0m\u001b[0m\n",
      "\u001b[0;31mIndexError\u001b[0m: list assignment index out of range"
     ]
    }
   ],
   "source": [
    "a = [1,2,3,4,5,6]\n",
    "a[6] = 9\n",
    "print(a)"
   ]
  },
  {
   "cell_type": "code",
   "execution_count": 9,
   "metadata": {},
   "outputs": [
    {
     "name": "stdout",
     "output_type": "stream",
     "text": [
      "7\n",
      "1 2 3 4 5 6 7\n",
      "2\n",
      "3 4 5 6 7 1 2\n"
     ]
    }
   ],
   "source": [
    "#rotatearray\n",
    "def Rotate(arr, d):\n",
    "    l = len(arr)\n",
    "    for i in range(d):\n",
    "        for j in range(l-1):\n",
    "            arr[j],arr[j+1] = arr[j+1],arr[j]\n",
    "        \n",
    "\n",
    "# Main\n",
    "n=int(input())\n",
    "arr=list(int(i) for i in input().strip().split(' '))\n",
    "d=int(input())\n",
    "Rotate(arr, d)\n",
    "print(*arr)"
   ]
  },
  {
   "cell_type": "code",
   "execution_count": null,
   "metadata": {},
   "outputs": [],
   "source": []
  }
 ],
 "metadata": {
  "kernelspec": {
   "display_name": "Python 3",
   "language": "python",
   "name": "python3"
  },
  "language_info": {
   "codemirror_mode": {
    "name": "ipython",
    "version": 3
   },
   "file_extension": ".py",
   "mimetype": "text/x-python",
   "name": "python",
   "nbconvert_exporter": "python",
   "pygments_lexer": "ipython3",
   "version": "3.7.1"
  }
 },
 "nbformat": 4,
 "nbformat_minor": 2
}
