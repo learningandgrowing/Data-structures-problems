{
 "cells": [
  {
   "cell_type": "code",
   "execution_count": null,
   "metadata": {},
   "outputs": [],
   "source": [
    "def maxFreq(l):\n",
    "    d = {}\n",
    "    for x in l:\n",
    "        d[x] = d.get(x,0) + 1\n",
    "    max_frequency = l[0]\n",
    "    for i in l:\n",
    "        if d[i] > d[max_frequency]:\n",
    "            max_frequency = i\n",
    "    return max_frequency    \n",
    "n = int(input())\n",
    "l = [int(i) for i in input().split()]\n",
    "ans = maxFreq(l)\n",
    "print(ans)"
   ]
  },
  {
   "cell_type": "code",
   "execution_count": 2,
   "metadata": {},
   "outputs": [
    {
     "name": "stdout",
     "output_type": "stream",
     "text": [
      "13\n",
      "2 12 2 11 12 2 1 2 2 11 12 2 6 \n",
      "6\n",
      "2\n"
     ]
    }
   ],
   "source": [
    "def maxFreq(l):\n",
    "    d = {}\n",
    "    for x in l:\n",
    "        d[x] = d.get(x,0) + 1\n",
    "    max_frequency = max(d.values())\n",
    "    \n",
    "    print(max_frequency)\n",
    "    for i in d:\n",
    "        if d[i] == max_frequency:\n",
    "            return i\n",
    "    return 0 \n",
    "n = int(input())\n",
    "l = [int(i) for i in input().split()]\n",
    "ans = maxFreq(l)\n",
    "print(ans)"
   ]
  },
  {
   "cell_type": "code",
   "execution_count": 4,
   "metadata": {},
   "outputs": [
    {
     "name": "stdout",
     "output_type": "stream",
     "text": [
      "40\n",
      "4.444444444444445\n"
     ]
    }
   ],
   "source": [
    "f = int(input())\n",
    "ans = ((f-32)*5)/9\n",
    "print(ans)"
   ]
  },
  {
   "cell_type": "code",
   "execution_count": 9,
   "metadata": {},
   "outputs": [
    {
     "name": "stdout",
     "output_type": "stream",
     "text": [
      "h*ello\n"
     ]
    }
   ],
   "source": [
    "s = 'hello'\n",
    "s1 = []\n",
    "s1 = s[0] + \"*\" + s[1:]\n",
    "print(s1)"
   ]
  },
  {
   "cell_type": "code",
   "execution_count": 10,
   "metadata": {},
   "outputs": [
    {
     "name": "stdout",
     "output_type": "stream",
     "text": [
      "1 2 3 4\n",
      "5 6\n",
      "9 10 11\n"
     ]
    }
   ],
   "source": [
    "li=[[1,2,3,4],[5,6],[9,10,11]]\n",
    "for row in li: \n",
    "    output=' '.join([str(ele) for ele in row]) \n",
    "    print(output)"
   ]
  },
  {
   "cell_type": "code",
   "execution_count": 11,
   "metadata": {},
   "outputs": [
    {
     "name": "stdout",
     "output_type": "stream",
     "text": [
      "1 2 3 4\n",
      "5 6\n",
      "9 10 11\n"
     ]
    }
   ],
   "source": [
    "li=[[1,2,3,4],[5,6],[9,10,11]]\n",
    "n=3\n",
    "for row in li:\n",
    "    output=' '.join([str(ele) for ele in row])\n",
    "    print(output)"
   ]
  },
  {
   "cell_type": "code",
   "execution_count": 13,
   "metadata": {},
   "outputs": [
    {
     "name": "stdout",
     "output_type": "stream",
     "text": [
      "1234\n",
      "56\n",
      "91011\n"
     ]
    }
   ],
   "source": [
    "li1=[[1,2,3,4],[5,6],[9,10,11]]\n",
    "\n",
    "for row1 in li1:\n",
    "    output1=' '.join([str(ele1) for ele1 in row1])\n",
    "    print(output1)"
   ]
  },
  {
   "cell_type": "code",
   "execution_count": 15,
   "metadata": {},
   "outputs": [
    {
     "name": "stdout",
     "output_type": "stream",
     "text": [
      "7\n",
      "2 13 4 1 3 6 28\n",
      "1 2 3 4 6 13 28\n"
     ]
    }
   ],
   "source": [
    "n = int(input())\n",
    "li = [int(x) for x in input().split()]\n",
    "for i in range(1,len(li),1):\n",
    "    j = i-1 \n",
    "    temp = li[i]\n",
    "    while li[j]>temp and j>=0:\n",
    "        li[j+1]=li[j]\n",
    "        j=j-1\n",
    "    li[j+1]=temp\n",
    "        \n",
    "print(*li)\n"
   ]
  },
  {
   "cell_type": "code",
   "execution_count": null,
   "metadata": {},
   "outputs": [],
   "source": []
  }
 ],
 "metadata": {
  "kernelspec": {
   "display_name": "Python 3",
   "language": "python",
   "name": "python3"
  },
  "language_info": {
   "codemirror_mode": {
    "name": "ipython",
    "version": 3
   },
   "file_extension": ".py",
   "mimetype": "text/x-python",
   "name": "python",
   "nbconvert_exporter": "python",
   "pygments_lexer": "ipython3",
   "version": "3.7.1"
  }
 },
 "nbformat": 4,
 "nbformat_minor": 2
}
