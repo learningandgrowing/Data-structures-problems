{
 "cells": [
  {
   "cell_type": "code",
   "execution_count": 3,
   "metadata": {},
   "outputs": [
    {
     "name": "stdout",
     "output_type": "stream",
     "text": [
      "1\n",
      "4\n",
      "5\n"
     ]
    }
   ],
   "source": [
    "class binarytree:\n",
    "    def __init__(self, data):\n",
    "        self.data = data\n",
    "        self.left = None\n",
    "        self.right = None\n",
    "def printtree(root):\n",
    "    if root == None:\n",
    "        return\n",
    "    print(root.data)\n",
    "    printtree(root.left)\n",
    "    printtree(root.right)\n",
    "\n",
    "btn1 = binarytree(1)\n",
    "btn2 = binarytree(4)\n",
    "btn3 = binarytree(5)\n",
    "btn1.left = btn2\n",
    "btn1.right = btn3\n",
    "printtree(btn1)"
   ]
  },
  {
   "cell_type": "code",
   "execution_count": null,
   "metadata": {},
   "outputs": [],
   "source": [
    "def checkredundant(str):\n",
    "    count = 0\n",
    "    s = []\n",
    "    for i in str:\n",
    "        s.append(i)\n",
    "        if i == ')' :\n",
    "            s.pop()\n",
    "            while s.pop != '(':\n",
    "                count += 1\n",
    "                \n",
    "        if count == 0 or count == 1:\n",
    "            return 'true'\n",
    "        count = 0\n",
    "    return 'false'\n",
    "str = input()\n",
    "ans = checkredundant(str)\n",
    "print(ans)"
   ]
  },
  {
   "cell_type": "code",
   "execution_count": null,
   "metadata": {},
   "outputs": [],
   "source": [
    "(a+b)"
   ]
  },
  {
   "cell_type": "code",
   "execution_count": null,
   "metadata": {},
   "outputs": [],
   "source": [
    "class binarytree:\n",
    "    def __init__(self, data):\n",
    "        self.data = data\n",
    "        self.left = None\n",
    "        self.right = None\n",
    "def printtreedetail(root):\n",
    "    if root == None:\n",
    "        return\n",
    "    print(root.data, end = ':')\n",
    "    if root.left != None:\n",
    "        print('l',root.left.data, end = ',')\n",
    "    if root.right != None:\n",
    "        print('r',root.right.data)\n",
    "    \n",
    "    print()\n",
    "    printtreedetail(root.left)\n",
    "    printtreedetail(root.right)\n",
    "def takeinput():\n",
    "    rootdata = int(input())\n",
    "    if rootdata == -1:\n",
    "        return None\n",
    "    root = binarytree(rootdata)\n",
    "    lefttree = takeinput()\n",
    "    righttree = takeinput()\n",
    "    root.left = lefttree\n",
    "    root.right = righttree\n",
    "    return root\n",
    "def numnode(root):\n",
    "    if root == None:\n",
    "        return 0\n",
    "    leftcount = numnode(root.left)\n",
    "    rightcount = numode(root.right)\n",
    "    return 1 + leftcount + rightcount\n",
    "    \n",
    "root = takeinput()\n",
    "printtreedetail(root)\n",
    "print(numnode(root))"
   ]
  },
  {
   "cell_type": "code",
   "execution_count": null,
   "metadata": {},
   "outputs": [],
   "source": [
    "1\n",
    "2\n",
    "-1\n",
    "-1\n",
    "3\n",
    "4\n",
    "6\n",
    "-1\n",
    "-1\n",
    "-1\n",
    "5\n",
    "-1\n",
    "-1\n"
   ]
  },
  {
   "cell_type": "code",
   "execution_count": 2,
   "metadata": {},
   "outputs": [
    {
     "name": "stdout",
     "output_type": "stream",
     "text": [
      "8 3 10 1 6 -1 14 -1 -1 4 7 13 -1 -1 -1 -1 -1 -1 -1\n",
      "147631314108"
     ]
    }
   ],
   "source": [
    "#post order traversal ittratively\n",
    "import queue\n",
    "class BinaryTreeNode:\n",
    "    def __init__(self, data):\n",
    "        self.data = data\n",
    "        self.left = None\n",
    "        self.right = None\n",
    "def postOrder(root):\n",
    "    stack = []\n",
    "    output = []\n",
    "    stack.append(root)\n",
    "    while len(stack) != 0:\n",
    "        curr = stack.pop()\n",
    "        output.append(curr)\n",
    "        if curr.left != None:\n",
    "            stack.append(curr.left)\n",
    "        if curr.right != None:\n",
    "            stack.append(curr.right)\n",
    "    while len(output) != 0:\n",
    "        print(output.pop().data, end = ' ')\n",
    "def buildLevelTree(levelorder):\n",
    "    index = 0\n",
    "    length = len(levelorder)\n",
    "    if length<=0 or levelorder[0]==-1:\n",
    "        return None\n",
    "    root = BinaryTreeNode(levelorder[index])\n",
    "    index += 1\n",
    "    q = queue.Queue()\n",
    "    q.put(root)\n",
    "    while not q.empty():\n",
    "        currentNode = q.get()\n",
    "        leftChild = levelorder[index]\n",
    "        index += 1\n",
    "        if leftChild != -1:\n",
    "            leftNode = BinaryTreeNode(leftChild)\n",
    "            currentNode.left =leftNode\n",
    "            q.put(leftNode)\n",
    "        rightChild = levelorder[index]\n",
    "        index += 1\n",
    "        if rightChild != -1:\n",
    "            rightNode = BinaryTreeNode(rightChild)\n",
    "            currentNode.right =rightNode\n",
    "            q.put(rightNode)\n",
    "    return root\n",
    "\n",
    "\n",
    "levelOrder = [int(i) for i in input().strip().split()]\n",
    "root = buildLevelTree(levelOrder)\n",
    "postOrder(root)\n",
    "            "
   ]
  },
  {
   "cell_type": "code",
   "execution_count": null,
   "metadata": {},
   "outputs": [],
   "source": []
  }
 ],
 "metadata": {
  "kernelspec": {
   "display_name": "Python 3",
   "language": "python",
   "name": "python3"
  },
  "language_info": {
   "codemirror_mode": {
    "name": "ipython",
    "version": 3
   },
   "file_extension": ".py",
   "mimetype": "text/x-python",
   "name": "python",
   "nbconvert_exporter": "python",
   "pygments_lexer": "ipython3",
   "version": "3.7.1"
  }
 },
 "nbformat": 4,
 "nbformat_minor": 2
}
