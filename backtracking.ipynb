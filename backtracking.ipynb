{
 "cells": [
  {
   "cell_type": "code",
   "execution_count": 3,
   "metadata": {},
   "outputs": [
    {
     "name": "stdout",
     "output_type": "stream",
     "text": [
      "4\n",
      "1 1 1 1\n",
      "1 0 1 1\n",
      "1 1 0 1\n",
      "1 1 1 1\n",
      "[[1, 0, 0, 0], [1, 0, 0, 0], [1, 0, 0, 0], [1, 0, 0, 0]]\n",
      "[[1, 0, 0, 0], [1, 0, 0, 0], [1, 1, 0, 0], [1, 1, 0, 0]]\n",
      "[[1, 1, 1, 0], [0, 0, 1, 1], [0, 0, 0, 0], [1, 1, 0, 0]]\n",
      "[[1, 1, 1, 1], [0, 0, 0, 1], [0, 0, 0, 0], [1, 1, 0, 0]]\n"
     ]
    }
   ],
   "source": [
    "#rat in maze\n",
    "def printpathhelper(x,y,maze,n,solution):\n",
    "    if x == n-1 or y == n-1:\n",
    "        solution[x][y] = 1\n",
    "        print(solution)\n",
    "        return \n",
    "    if x <0 or y < 0 or x >= n or y >= n or maze[x][y] == 0 or solution[x][y] == 1:\n",
    "        return\n",
    "    solution[x][y] = 1\n",
    "    printpathhelper(x+1,y,maze,n,solution)\n",
    "    printpathhelper(x,y+1,maze,n,solution)\n",
    "    printpathhelper(x-1,y,maze,n,solution)\n",
    "    printpathhelper(x,y-1,maze,n,solution)\n",
    "    solution[x][y] = 0\n",
    "    return\n",
    "def printpath(maze):\n",
    "    n = len(maze)\n",
    "    solution = [[0 for i in range(n)] for j in range(n)]\n",
    "    printpathhelper(0,0,maze,n,solution)\n",
    "n = int(input())\n",
    "maze = []\n",
    "for i in range(n):\n",
    "    row = [int(ele) for ele in input().split()]\n",
    "    maze.append(row)\n",
    "printpath(maze)\n"
   ]
  },
  {
   "cell_type": "code",
   "execution_count": 4,
   "metadata": {},
   "outputs": [
    {
     "name": "stdout",
     "output_type": "stream",
     "text": [
      "4\n",
      "0 1 0 0 0 0 0 1 1 0 0 0 0 0 1 0 \n",
      "0 0 1 0 1 0 0 0 0 0 0 1 0 1 0 0 \n"
     ]
    }
   ],
   "source": [
    "#nqueens\n",
    "def issafe(row,col,n,board):\n",
    "    i = row-1\n",
    "    while i >= 0:\n",
    "        if board[i][col] == 1:\n",
    "            return False\n",
    "        i -= 1\n",
    "    i = row-1\n",
    "    j = col-1\n",
    "    while i>= 0 and j>=0:\n",
    "        if board[i][j] == 1:\n",
    "            return False\n",
    "        i -= 1\n",
    "        j -= 1\n",
    "    i = row-1\n",
    "    j = col+1\n",
    "    while i>= 0 and j<n:\n",
    "        if board[i][j] == 1:\n",
    "            return False\n",
    "        i -= 1\n",
    "        j += 1\n",
    "    return True\n",
    "    \n",
    "def printpathhelper(row,n,board):\n",
    "    if row==n:\n",
    "        for i in range(n):\n",
    "            for j in range(n):\n",
    "                print(board[i][j], end=' ')\n",
    "        print()\n",
    "        return\n",
    "    for col in range(n):\n",
    "        if issafe(row,col,n,board) is True:\n",
    "            board[row][col] = 1\n",
    "            printpathhelper(row+1,n,board)\n",
    "            board[row][col] = 0\n",
    "    return\n",
    "    \n",
    "def printpath(n):\n",
    "    board = [[0 for i in range(n)] for j in range(n)]\n",
    "    printpathhelper(0,n,board)\n",
    "n = int(input())\n",
    "printpath(n)"
   ]
  },
  {
   "cell_type": "code",
   "execution_count": 2,
   "metadata": {},
   "outputs": [
    {
     "name": "stdout",
     "output_type": "stream",
     "text": [
      "9 0 0 0 2 0 7 5 0\n",
      "6 0 0 0 5 0 0 4 0\n",
      "0 2 0 4 0 0 0 1 0\n",
      "2 0 8 0 0 0 0 0 0\n",
      "0 7 0 5 0 9 0 6 0\n",
      "0 0 0 0 0 0 4 0 1\n",
      "0 1 0 0 0 5 0 8 0\n",
      "0 9 0 0 7 0 0 0 4\n",
      "0 8 2 0 4 0 0 0 6\n",
      "9 4 1 3 2 6 7 5 8\n",
      "6 3 7 1 5 8 2 4 9\n",
      "8 2 5 4 9 7 6 1 3\n",
      "2 6 8 7 1 4 3 9 5\n",
      "1 7 4 5 3 9 8 6 2\n",
      "3 5 9 6 8 2 4 7 1\n",
      "4 1 3 2 6 5 9 8 7\n",
      "5 9 6 8 7 3 1 2 4\n",
      "7 8 2 9 4 1 5 3 6\n"
     ]
    }
   ],
   "source": [
    "#sudoku solver\n",
    "def find_empty_location(sudoku,l):\n",
    "    for i in range(9):\n",
    "        for j in range(9):\n",
    "            if sudoku[i][j] == 0:\n",
    "                l[0] = i\n",
    "                l[1] = j\n",
    "                return True\n",
    "            \n",
    "    return False\n",
    "    \n",
    "def issafesudoku(row,col,num,sudoku):\n",
    "    for i in range(9):\n",
    "        if sudoku[row][i] == num:\n",
    "            return False\n",
    "    for i in range(9):\n",
    "        if sudoku[i][col] == num:\n",
    "            return False\n",
    "    for i in range(3):\n",
    "        for j in range(3):\n",
    "            if sudoku[i+(row-row%3)][j+(col-col%3)] == num:\n",
    "                return False\n",
    "    return True\n",
    "\n",
    "def sudokusolver(sudoku):\n",
    "    l = [0,0]\n",
    "    if find_empty_location(sudoku,l) is False:\n",
    "        return True\n",
    "    \n",
    "    row = l[0]\n",
    "    col = l[1]\n",
    "    for num in range(1,10):\n",
    "        if issafesudoku(row,col,num,sudoku) is True:\n",
    "            sudoku[row][col] = num\n",
    "            if sudokusolver(sudoku) is True:\n",
    "                return True\n",
    "            sudoku[row][col] = 0\n",
    "        \n",
    "    return False\n",
    "    \n",
    "sudoku = [[int(i) for i in input().strip().split()] for j in range(9)]\n",
    "if sudokusolver(sudoku):\n",
    "    print('true')\n",
    "else:\n",
    "    print('false')\n"
   ]
  },
  {
   "cell_type": "code",
   "execution_count": 16,
   "metadata": {},
   "outputs": [
    {
     "name": "stdout",
     "output_type": "stream",
     "text": [
      "9 0 0 0 2 0 7 5 0\n",
      "6 0 0 0 5 0 0 4 0\n",
      "0 2 0 4 0 0 0 1 0\n",
      "2 0 8 0 0 0 0 0 0\n",
      "0 7 0 5 0 9 0 6 0\n",
      "0 0 0 0 0 0 4 0 1\n",
      "0 1 0 0 0 5 0 8 0\n",
      "0 9 0 0 7 0 0 0 4\n",
      "0 8 2 0 4 0 0 0 6\n",
      "true\n"
     ]
    }
   ],
   "source": []
  },
  {
   "cell_type": "code",
   "execution_count": 18,
   "metadata": {},
   "outputs": [
    {
     "name": "stdout",
     "output_type": "stream",
     "text": [
      "2\n"
     ]
    }
   ],
   "source": [
    "a = 2%3\n",
    "print(a)"
   ]
  },
  {
   "cell_type": "code",
   "execution_count": null,
   "metadata": {},
   "outputs": [],
   "source": []
  }
 ],
 "metadata": {
  "kernelspec": {
   "display_name": "Python 3",
   "language": "python",
   "name": "python3"
  },
  "language_info": {
   "codemirror_mode": {
    "name": "ipython",
    "version": 3
   },
   "file_extension": ".py",
   "mimetype": "text/x-python",
   "name": "python",
   "nbconvert_exporter": "python",
   "pygments_lexer": "ipython3",
   "version": "3.7.1"
  }
 },
 "nbformat": 4,
 "nbformat_minor": 2
}
