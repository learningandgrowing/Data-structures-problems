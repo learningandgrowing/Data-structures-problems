{
 "cells": [
  {
   "cell_type": "code",
   "execution_count": 15,
   "metadata": {},
   "outputs": [
    {
     "name": "stdout",
     "output_type": "stream",
     "text": [
      "4\n",
      "*000*000*\n",
      "0*00*00*0\n",
      "00*0*0*00\n",
      "000***000\n"
     ]
    }
   ],
   "source": [
    "#zeroes and stars pattern\n",
    "n = int(input())\n",
    "i = 1\n",
    "\n",
    "while i <= n:\n",
    "    j = 1\n",
    "    while j <= i:\n",
    "        if (j==i):\n",
    "            print('*', end='')\n",
    "        else:\n",
    "            print('0', end = '')\n",
    "        j += 1\n",
    "    q = 1\n",
    "    while q <= (2*n-2*i)+1:\n",
    "        if q == n-i+1:\n",
    "            print('*',end='')\n",
    "        else:\n",
    "            print('0',end='')\n",
    "        q += 1\n",
    "    w = 1\n",
    "    while w<=i:\n",
    "        if w==1:\n",
    "            print('*',end='')\n",
    "        else:\n",
    "            print('0',end='')\n",
    "        w += 1\n",
    "    print()\n",
    "    i += 1\n",
    "\n",
    "    "
   ]
  },
  {
   "cell_type": "code",
   "execution_count": 17,
   "metadata": {},
   "outputs": [
    {
     "name": "stdout",
     "output_type": "stream",
     "text": [
      "4\n",
      "   1\n",
      "  212\n",
      " 32123\n",
      "4321234\n"
     ]
    }
   ],
   "source": [
    "#pyramidnumberpattern\n",
    "n = int(input())\n",
    "i = 1\n",
    "while i <= n:\n",
    "    j = 1\n",
    "    while j <= n-i:\n",
    "        print(' ',end='')\n",
    "        j+=1\n",
    "    p = 1\n",
    "    while p <= i:\n",
    "        print(i-p+1,end='')\n",
    "        p += 1\n",
    "    q = 2\n",
    "    while q <= i:\n",
    "        print(q,end='')\n",
    "        q += 1\n",
    "    print()\n",
    "    i += 1\n",
    "    "
   ]
  },
  {
   "cell_type": "code",
   "execution_count": 12,
   "metadata": {},
   "outputs": [
    {
     "name": "stdout",
     "output_type": "stream",
     "text": [
      "7\n",
      "*\n",
      " **\n",
      "  ***\n",
      "   ****\n",
      "\n",
      "\n",
      "\n"
     ]
    }
   ],
   "source": [
    "#arrowpattern\n",
    "n = int(input())\n",
    "#firstpart\n",
    "n1 = (n+1)/2\n",
    "n2 = n - n1\n",
    "i = 1\n",
    "while i<=n1:\n",
    "    j = 1\n",
    "    while j <= i-1:\n",
    "        print(' ',end='')\n",
    "        j += 1\n",
    "    p = 1\n",
    "    while p<=i:\n",
    "        print('*',end='')\n",
    "        p += 1\n",
    "    \n",
    "    print()\n",
    "    i += 1\n",
    "d = 1\n",
    "while d <= n2:\n",
    "    f = 1\n",
    "    while f <= n2-i:\n",
    "        print(' ',end='')\n",
    "        f = f + 1\n",
    "    g = 1\n",
    "    while g <= n2-i+1:\n",
    "        print('*',end='')\n",
    "        g = g +1\n",
    "    print()\n",
    "    d = d + 1\n"
   ]
  },
  {
   "cell_type": "code",
   "execution_count": 10,
   "metadata": {},
   "outputs": [
    {
     "name": "stdout",
     "output_type": "stream",
     "text": [
      "7\n",
      "3\n",
      "\n",
      "\n",
      "\n"
     ]
    }
   ],
   "source": [
    "n = int(input())\n",
    "n2 = n//2\n",
    "print(n2)\n",
    "d = 1\n",
    "while d <= n2:\n",
    "    f = 1\n",
    "    while f <= n2-i:\n",
    "        print(' ',end='')\n",
    "        f = f + 1\n",
    "    g = 1\n",
    "    while g <= n2-i+1:\n",
    "        print('*',end='')\n",
    "        g = g +1\n",
    "    print()\n",
    "    d = d + 1"
   ]
  },
  {
   "cell_type": "code",
   "execution_count": 6,
   "metadata": {},
   "outputs": [
    {
     "name": "stdout",
     "output_type": "stream",
     "text": [
      "3\n",
      "33333\n",
      "   3\n",
      "  3\n",
      " 3\n",
      "3\n"
     ]
    }
   ],
   "source": [
    "n = int(input())\n",
    "i = 1\n",
    "while i <= 2*n-1:\n",
    "    j = i\n",
    "    while j <= 2*n-1:\n",
    "        if i == 1 or i == 2*n-1:\n",
    "            print(n, end='')\n",
    "        else:\n",
    "            if j == 1 or j == 2*n-1:\n",
    "                print(n, end='')\n",
    "            else:\n",
    "                print(' ',end='')\n",
    "        j += 1\n",
    "    print()\n",
    "    i += 1"
   ]
  },
  {
   "cell_type": "code",
   "execution_count": 15,
   "metadata": {},
   "outputs": [
    {
     "name": "stdout",
     "output_type": "stream",
     "text": [
      "172\n",
      "false\n"
     ]
    }
   ],
   "source": [
    "def armstrong():\n",
    "    n = int(input())\n",
    "    s = str(n)\n",
    "    l = len(s)\n",
    "    sum = 0\n",
    "    for i in s:\n",
    "        sum = sum + int(i)**l\n",
    "    \n",
    "    if sum == n:\n",
    "        return True\n",
    "check = armstrong()\n",
    "if check:\n",
    "    print('true')\n",
    "else:\n",
    "    print('false')\n",
    "\n"
   ]
  },
  {
   "cell_type": "code",
   "execution_count": 27,
   "metadata": {},
   "outputs": [
    {
     "name": "stdout",
     "output_type": "stream",
     "text": [
      "5\n",
      "1 2 2 3 1\n",
      "3\n"
     ]
    }
   ],
   "source": [
    "def unique(a):\n",
    "    sum = 0\n",
    "    for i in a:\n",
    "        for j in a:\n",
    "            if i == j:\n",
    "                sum += 1\n",
    "        if sum == 1:\n",
    "            print(i)\n",
    "        sum = 0\n",
    "            \n",
    "n = int(input())\n",
    "a = [int(i) for i in input().strip().split()]\n",
    "unique(a)\n"
   ]
  },
  {
   "cell_type": "code",
   "execution_count": 14,
   "metadata": {},
   "outputs": [
    {
     "name": "stdout",
     "output_type": "stream",
     "text": [
      "18\n",
      "181\n"
     ]
    }
   ],
   "source": [
    "n = int(input())\n",
    "s = str(n)\n",
    "sum = 0\n",
    "for i in s:\n",
    "    sum = sum + int(i)\n",
    "if sum == 10:\n",
    "    print(n)\n",
    "else:\n",
    "    k = 10 - sum\n",
    "    n = str(n) + str(k)\n",
    "    print(n)\n",
    "    \n",
    "    \n",
    "    \n"
   ]
  },
  {
   "cell_type": "code",
   "execution_count": 15,
   "metadata": {},
   "outputs": [
    {
     "name": "stdout",
     "output_type": "stream",
     "text": [
      "5\n",
      "55\n"
     ]
    }
   ],
   "source": [
    "import itertools \n",
    "  \n",
    "# function to find required number \n",
    "def findNth(n): \n",
    "  \n",
    "    count = 0\n",
    "  \n",
    "    for curr in itertools.count(): \n",
    "        # Find sum of digits in current no. \n",
    "        sum = 0\n",
    "        x = curr \n",
    "        while(x): \n",
    "            sum = sum + x % 10\n",
    "            x = x // 10\n",
    "  \n",
    "        # If sum is 10, we increment count \n",
    "        if (sum == 10): \n",
    "            count = count + 1\n",
    "  \n",
    "        # If count becomes n, we return current \n",
    "        # number. \n",
    "        if (count == n): \n",
    "            return curr \n",
    "  \n",
    "    return -1\n",
    "  \n",
    "# Driver program \n",
    "if __name__=='__main__': \n",
    "    n = int(input())\n",
    "    print(findNth(n))"
   ]
  },
  {
   "cell_type": "code",
   "execution_count": 17,
   "metadata": {},
   "outputs": [
    {
     "name": "stdout",
     "output_type": "stream",
     "text": [
      "89\n",
      "893\n"
     ]
    }
   ],
   "source": [
    "n = int(input())\n",
    "s = str(n)\n",
    "sum = 0\n",
    "for i in s:\n",
    "    sum = sum + int(i)\n",
    "if sum == 10:\n",
    "    n = str(n) + str(0)\n",
    "    print(n)\n",
    "else:\n",
    "    k = 10 - sum\n",
    "    if k < 0:\n",
    "        l = 10 + k\n",
    "        n = str(n) + str(l)\n",
    "        print(n)\n",
    "    else:\n",
    "        n = str(n) + str(k)\n",
    "        print(n)"
   ]
  },
  {
   "cell_type": "code",
   "execution_count": 20,
   "metadata": {},
   "outputs": [
    {
     "name": "stdout",
     "output_type": "stream",
     "text": [
      "5\n",
      "1 2 3 4 5\n",
      "6\n",
      "-1\n"
     ]
    }
   ],
   "source": [
    "def find(array, key):\n",
    "    for i in array:\n",
    "        if i == key:\n",
    "            return array.index(i)\n",
    "    return -1\n",
    "n = int(input())\n",
    "array = [int(i) for i in input().strip().split()]\n",
    "key = int(input())\n",
    "print(find(array, key))"
   ]
  },
  {
   "cell_type": "code",
   "execution_count": null,
   "metadata": {},
   "outputs": [],
   "source": []
  }
 ],
 "metadata": {
  "kernelspec": {
   "display_name": "Python 3",
   "language": "python",
   "name": "python3"
  },
  "language_info": {
   "codemirror_mode": {
    "name": "ipython",
    "version": 3
   },
   "file_extension": ".py",
   "mimetype": "text/x-python",
   "name": "python",
   "nbconvert_exporter": "python",
   "pygments_lexer": "ipython3",
   "version": "3.7.1"
  }
 },
 "nbformat": 4,
 "nbformat_minor": 2
}
