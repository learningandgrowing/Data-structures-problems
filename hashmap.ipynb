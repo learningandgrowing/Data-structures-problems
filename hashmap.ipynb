{
 "cells": [
  {
   "cell_type": "code",
   "execution_count": 7,
   "metadata": {},
   "outputs": [],
   "source": [
    "class MapNode:\n",
    "    def __init__(self, key, value):\n",
    "        self.key = key\n",
    "        self.value = value\n",
    "        self.next = None\n",
    "        "
   ]
  },
  {
   "cell_type": "code",
   "execution_count": 8,
   "metadata": {},
   "outputs": [
    {
     "name": "stdout",
     "output_type": "stream",
     "text": [
      "0.2\n",
      "0.4\n",
      "0.6\n",
      "0.4\n",
      "0.5\n",
      "0.6\n",
      "0.35\n",
      "0.4\n",
      "0.45\n",
      "0.5\n",
      "abc0: 1\n",
      "abc1: 2\n",
      "abc2: 3\n",
      "abc3: 4\n",
      "abc4: 5\n",
      "abc5: 6\n",
      "abc6: 7\n",
      "abc7: 8\n",
      "abc8: 9\n",
      "abc9: 10\n"
     ]
    }
   ],
   "source": [
    "class Map:\n",
    "    def __init__(self):\n",
    "        self.bucketsize = 5\n",
    "        self.buckets = [None for i in range(self.bucketsize)]\n",
    "        self.count = 0\n",
    "    def size(self):\n",
    "        return self.count\n",
    "    def search(self, key):\n",
    "        hc = hash(key)\n",
    "        index = self.getbucketindex(hc)\n",
    "        head = self.buckets[index]\n",
    "        while head is not None:\n",
    "            if head.key == key:\n",
    "                \n",
    "                return head.value\n",
    "            head = head.next\n",
    "        return None\n",
    "        \n",
    "        \n",
    "    def getbucketindex(self, hc):\n",
    "        return (abs(hc) % (self.bucketsize))\n",
    "    def remove(self, key):\n",
    "        hc = hash(key)\n",
    "        index = self.getbucketindex(hc)\n",
    "        head = self.buckets[index]\n",
    "        previous = None\n",
    "        while head is not None:\n",
    "            if head.key == key:\n",
    "                if previous is None:\n",
    "                    self.buckets[index] = head.next\n",
    "                    \n",
    "                \n",
    "                else:    \n",
    "                    previous.next = head.next\n",
    "                self.count -= 1\n",
    "                return head.value\n",
    "            previous = head\n",
    "            head = head.next\n",
    "        return None\n",
    "    def rehash(self):\n",
    "        temp = self.buckets\n",
    "        self.buckets = [None for i in range(2*self.bucketsize)]\n",
    "        self.bucketsize = 2*self.bucketsize\n",
    "        self.count = 0\n",
    "        for head in temp:\n",
    "            while head is not None:\n",
    "                self.insert(head.key, head.value)\n",
    "                head = head.next\n",
    "                \n",
    "    def loadFactor(self):\n",
    "        return self.count/self.bucketsize\n",
    "    def insert(self, key, value):\n",
    "        hc = hash(key)\n",
    "        index = self.getbucketindex(hc)\n",
    "        head = self.buckets[index]\n",
    "        while head is not None:\n",
    "            if head.key == key:\n",
    "                head.value = value\n",
    "                return\n",
    "            head = head.next\n",
    "        head = self.buckets[index]\n",
    "        newnode = MapNode(key, value)\n",
    "        newnode.next = head\n",
    "        self.buckets[index] = newnode\n",
    "        self.count += 1\n",
    "        loadFactor = self.count/self.bucketsize\n",
    "        if loadFactor >= 0.7:\n",
    "            self.rehash()\n",
    "            \n",
    "m = Map()\n",
    "for i in range(4):\n",
    "    m.insert(str(i), i+1)\n",
    "    print(m.loadFactor())\n",
    "for i in range(1, 10):\n",
    "    print(str(i) + ':', m.search('abc' + str(i)))\n",
    "\n",
    "        "
   ]
  },
  {
   "cell_type": "code",
   "execution_count": 3,
   "metadata": {},
   "outputs": [
    {
     "name": "stdout",
     "output_type": "stream",
     "text": [
      "['1', '2']\n"
     ]
    }
   ],
   "source": [
    "a = list('12')\n",
    "b = list(a)\n",
    "print(a)"
   ]
  },
  {
   "cell_type": "code",
   "execution_count": null,
   "metadata": {},
   "outputs": [],
   "source": []
  }
 ],
 "metadata": {
  "kernelspec": {
   "display_name": "Python 3",
   "language": "python",
   "name": "python3"
  },
  "language_info": {
   "codemirror_mode": {
    "name": "ipython",
    "version": 3
   },
   "file_extension": ".py",
   "mimetype": "text/x-python",
   "name": "python",
   "nbconvert_exporter": "python",
   "pygments_lexer": "ipython3",
   "version": "3.7.1"
  }
 },
 "nbformat": 4,
 "nbformat_minor": 2
}
