{
 "cells": [
  {
   "cell_type": "code",
   "execution_count": 5,
   "metadata": {},
   "outputs": [
    {
     "name": "stdout",
     "output_type": "stream",
     "text": [
      "4\n",
      "1111\n",
      "000\n",
      "11\n",
      "0\n"
     ]
    }
   ],
   "source": [
    "#binary pattern\n",
    "n = int(input())\n",
    "i = 1\n",
    "while i <= n:\n",
    "    if i % 2 == 0:\n",
    "        j = 1\n",
    "        while j <= n-i+1:\n",
    "            print('0',end='')\n",
    "            j += 1\n",
    "    else:\n",
    "        p = 1\n",
    "        while p <= n-i+1:\n",
    "            print('1',end='')\n",
    "            p += 1\n",
    "    print()\n",
    "    i += 1"
   ]
  },
  {
   "cell_type": "code",
   "execution_count": 18,
   "metadata": {},
   "outputs": [
    {
     "name": "stdout",
     "output_type": "stream",
     "text": [
      "4\n",
      "1 2 3 4 \n",
      " 2 3 4 \n",
      "  3 4 \n",
      "   4 \n",
      "  3 4 \n",
      " 2 3 4 \n",
      "1 2 3 4 \n"
     ]
    }
   ],
   "source": [
    "#number pyramid\n",
    "n = int(input())\n",
    "for i in range(1,n+1):\n",
    "    \n",
    "    for j in range(1,i):\n",
    "        print(' ',end='')\n",
    "    for k in range(i,n+1):\n",
    "        print(k,end=' ')\n",
    "    print()\n",
    "for i in range(n-1,0,-1):\n",
    "    for j in range(1,i):\n",
    "        print(' ',end='')\n",
    "    for k in range(i,n+1):\n",
    "        print(k,end=' ')\n",
    "    print()\n",
    "    "
   ]
  },
  {
   "cell_type": "code",
   "execution_count": 23,
   "metadata": {},
   "outputs": [
    {
     "name": "stdout",
     "output_type": "stream",
     "text": [
      "5\n",
      "  *\n",
      " ***\n",
      "*****\n",
      " ***\n",
      "  *\n"
     ]
    }
   ],
   "source": [
    "#diamondstarpattern\n",
    "n = int(input())\n",
    "n1 = (n+1)//2\n",
    "n2 = n - n1\n",
    "for i in range(1, n1+1):\n",
    "    for j in range(1, n1-i+1):\n",
    "        print(' ',end='')\n",
    "    for k in range(1, i+1):\n",
    "        print('*',end='')\n",
    "    for m in range(1,i):\n",
    "        print('*',end='')\n",
    "    print()\n",
    "for i in range(1, n2+1):\n",
    "    for j in range(1,i+1):\n",
    "        print(' ',end='')\n",
    "    for k in range(1, n2-i+2):\n",
    "        print('*',end='')\n",
    "    for m in range(i, n2):\n",
    "        print('*',end='')\n",
    "    print()\n"
   ]
  },
  {
   "cell_type": "markdown",
   "metadata": {},
   "source": [
    "rectangularnumberpattern"
   ]
  },
  {
   "cell_type": "code",
   "execution_count": null,
   "metadata": {},
   "outputs": [],
   "source": [
    "n = int(input())\n"
   ]
  }
 ],
 "metadata": {
  "kernelspec": {
   "display_name": "Python 3",
   "language": "python",
   "name": "python3"
  },
  "language_info": {
   "codemirror_mode": {
    "name": "ipython",
    "version": 3
   },
   "file_extension": ".py",
   "mimetype": "text/x-python",
   "name": "python",
   "nbconvert_exporter": "python",
   "pygments_lexer": "ipython3",
   "version": "3.7.1"
  }
 },
 "nbformat": 4,
 "nbformat_minor": 2
}
