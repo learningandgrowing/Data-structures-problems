{
 "cells": [
  {
   "cell_type": "code",
   "execution_count": null,
   "metadata": {},
   "outputs": [],
   "source": [
    "\n",
    "class BinaryTreeNode:\n",
    "    def __init__(self, data):\n",
    "        self.data = data\n",
    "        self.left = None\n",
    "        self.right = None"
   ]
  },
  {
   "cell_type": "code",
   "execution_count": null,
   "metadata": {},
   "outputs": [],
   "source": [
    "import queue\n",
    "def takeinputlevelwise():\n",
    "    q = queue.Queue()\n",
    "    print(\"enter root\")\n",
    "    rootdata = int(input())\n",
    "    if rootdata == -1:\n",
    "        return None\n",
    "    root = BinaryTreeNode(rootdata)\n",
    "    q.put(root)\n",
    "    while (not(q.empty())):\n",
    "        curr_node = q.get()\n",
    "        print(\"enter left child of\" ,curr_node.data)\n",
    "        leftnode = int(input())\n",
    "        if leftnode != -1:\n",
    "            leftchild = BinaryTreeNode(leftnode)\n",
    "            curr_node.left = leftchild\n",
    "            q.put(leftchild)\n",
    "        print(\"enter right child of\" ,curr_node.data)\n",
    "        rightnode = int(input())\n",
    "        if rightnode != -1:\n",
    "            righttchild = BinaryTreeNode(rightnode)\n",
    "            curr_node.right = righttchild\n",
    "            q.put(righttchild)\n",
    "    return root"
   ]
  },
  {
   "cell_type": "code",
   "execution_count": 9,
   "metadata": {},
   "outputs": [],
   "source": [
    "def isBST(root):\n",
    "    if root == None:\n",
    "        return 100000, -100000, True\n",
    "    leftmin, leftmax, isleftBST = isBST(root.left)\n",
    "    rightmin, rightmax, isrightBST = isBST(root.right)\n",
    "    minimum = min(leftmin, rightmin, root.data)\n",
    "    maximum = max(leftmax, rightmax, root.data)\n",
    "    \n",
    "    isTREEBST = True\n",
    "    if root.data <= leftmax or root.data > rightmin:\n",
    "        return False\n",
    "    if not(isleftBST) and not(isrightBST):\n",
    "        return False\n",
    "    return minimum, maximum, isTREEBST"
   ]
  },
  {
   "cell_type": "code",
   "execution_count": 10,
   "metadata": {},
   "outputs": [
    {
     "name": "stdout",
     "output_type": "stream",
     "text": [
      "enter root\n",
      "4\n",
      "enter left child of 4\n",
      "2\n",
      "enter right child of 4\n",
      "6\n",
      "enter left child of 2\n",
      "1\n",
      "enter right child of 2\n",
      "3\n",
      "enter left child of 6\n",
      "5\n",
      "enter right child of 6\n",
      "7\n",
      "enter left child of 1\n",
      "-1\n",
      "enter right child of 1\n",
      "-1\n",
      "enter left child of 3\n",
      "-1\n",
      "enter right child of 3\n",
      "-1\n",
      "enter left child of 5\n",
      "-1\n",
      "enter right child of 5\n",
      "-1\n",
      "enter left child of 7\n",
      "-1\n",
      "enter right child of 7\n",
      "-1\n"
     ]
    },
    {
     "data": {
      "text/plain": [
       "(1, 7, True)"
      ]
     },
     "execution_count": 10,
     "metadata": {},
     "output_type": "execute_result"
    }
   ],
   "source": [
    "root = takeinputlevelwise()\n",
    "isBST(root)"
   ]
  },
  {
   "cell_type": "code",
   "execution_count": null,
   "metadata": {},
   "outputs": [],
   "source": [
    "def isBST3(root, min_range, max_range):\n",
    "    if root == None:\n",
    "        return True\n",
    "    if root.data <= min_range or root.data > max_range:\n",
    "        return False\n",
    "    isleftinconstraint = isBST3(root.left, min_range, root.data-1)\n",
    "    isrightconstraint = isBST3(root.right, r, max_range)\n",
    "    return isleftinconstraint and isrightconstraintimport queue\n"
   ]
  },
  {
   "cell_type": "code",
   "execution_count": null,
   "metadata": {},
   "outputs": [],
   "source": [
    "root = takeinputlevelwise()\n",
    "isBST3(root, -1000, 1000)"
   ]
  },
  {
   "cell_type": "code",
   "execution_count": null,
   "metadata": {},
   "outputs": [],
   "source": [
    "\n",
    "\n"
   ]
  }
 ],
 "metadata": {
  "kernelspec": {
   "display_name": "Python 3",
   "language": "python",
   "name": "python3"
  },
  "language_info": {
   "codemirror_mode": {
    "name": "ipython",
    "version": 3
   },
   "file_extension": ".py",
   "mimetype": "text/x-python",
   "name": "python",
   "nbconvert_exporter": "python",
   "pygments_lexer": "ipython3",
   "version": "3.7.1"
  }
 },
 "nbformat": 4,
 "nbformat_minor": 2
}
