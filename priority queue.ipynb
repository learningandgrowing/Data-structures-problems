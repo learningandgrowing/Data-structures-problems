{
 "cells": [
  {
   "cell_type": "code",
   "execution_count": null,
   "metadata": {},
   "outputs": [],
   "source": [
    "class priorityQueueNode:\n",
    "    def __init__(self, value, priority):\n",
    "        self.value = value\n",
    "        self.priority = priority\n",
    "class PriorityQueue:\n",
    "    def __init__(self):\n",
    "        self.pq = []\n",
    "    def getmin(self):\n",
    "        if self.isEmpty() is True:\n",
    "            return None\n",
    "        return self.pq[0].value\n",
    "    def Size(self):\n",
    "        return len(self.pq)\n",
    "    def isEmpty(self):\n",
    "        return self.Size() == 0\n",
    "    def __parcolateup(self):\n",
    "        childIndex = self.Size - 1\n",
    "        while childIndex > 0:\n",
    "            parentindex = (childIndex-1)//2\n",
    "            if self.pq[childIndex].priority < self.pq[parentindex].priority:\n",
    "                self.pq[childIndex], self.pq[parentindex] = self.pq[parentindex], self.pq[childIndex]\n",
    "                childIndex = parentindex\n",
    "            else:\n",
    "                break\n",
    "                \n",
    "    \n",
    "    def insert(self, value, priority):\n",
    "        pqnode = priorityQueueNode(value,priority)\n",
    "        self.pq.append(pqnode)\n",
    "        self.__parcolateup()\n",
    "    def __parcolatedown(self):\n",
    "        parentIndex = 0\n",
    "        leftchildIndex = (2*parentIndex + 1)\n",
    "        rightchildIndex = (2*pparentIndex + 2)\n",
    "        while leftchildIndex < self.Size():\n",
    "            minIndex = parentIndex\n",
    "            if self.pq[minIndex].priority > self.pq[leftchildIndex].priority:\n",
    "                minIndex = leftchildIndex\n",
    "            if rightchildIndex < self.Size() and self.pq[minIndex].priority > self.pq[rightchildIndex].priority:\n",
    "                minIndex = rightchildIndex\n",
    "            if parentIndex == minIndex:\n",
    "                break\n",
    "            self.pq[parentIndex], self.pq[minIndex] = self.pq[minIndex], self.pq[parentIndex]\n",
    "            parentIndex = minIndex\n",
    "            leftchildIndex = 2*parentIndex + 1\n",
    "            rightchildIndex = 2*parentIndex + 2\n",
    "        minpriority = min(self.pq[lci].priority, self.pq[rci].priority)\n",
    "        if self.pq[pi].priority > self.pq[minpriority].priority:\n",
    "            self.pq[pi], self.pq[minpriority] = self.pq[minpriority], self.pq[pi]\n",
    "    def removeMin(self):\n",
    "        if self.isEmpty():\n",
    "            return None\n",
    "        ele = self.pq[0].value\n",
    "        self.pq[0] = self.pq[self.Size() - 1]\n",
    "        self.pq.pop()\n",
    "        self.__parcolatedown()\n",
    "        return ele\n",
    "    "
   ]
  },
  {
   "cell_type": "code",
   "execution_count": 2,
   "metadata": {},
   "outputs": [
    {
     "name": "stdout",
     "output_type": "stream",
     "text": [
      "6\n",
      "2 6 8 5 4 3\n",
      "8 6 5 4 3 2 "
     ]
    }
   ],
   "source": [
    "#heapsort\n",
    "def down_heapyfy(arr, i, n):\n",
    "    parentIndex = i\n",
    "    leftchildIndex = 2*parentIndex + 1\n",
    "    rightchildIndex = 2*parentIndex + 2\n",
    "    while leftchildIndex < n:\n",
    "        minIndex = parentIndex\n",
    "        if arr[minIndex] > arr[leftchildIndex]:\n",
    "            minIndex = leftchildIndex\n",
    "        if rightchildIndex < n and arr[minIndex] > arr[rightchildIndex]:\n",
    "            minIndex = rightchildIndex\n",
    "        if minIndex == parentIndex:\n",
    "            return\n",
    "        arr[minIndex],arr[parentIndex] = arr[parentIndex],arr[minIndex]\n",
    "        parentIndex = minIndex\n",
    "        leftchildIndex = 2*parentIndex + 1\n",
    "        rightchildIndex = 2*parentIndex + 2\n",
    "    return\n",
    "def heapsort(arr):\n",
    "    n = len(arr)\n",
    "    for i in range(n//2-1,-1,-1):\n",
    "        down_heapyfy(arr, i, n)\n",
    "    for i in range(n-1,0,-1):\n",
    "        arr[0],arr[i] = arr[i],arr[0]\n",
    "        down_heapyfy(arr, 0, i)\n",
    "    return\n",
    "n = int(input())\n",
    "arr = [int(i) for i in input().split()]\n",
    "heapsort(arr)\n",
    "for ele in arr:\n",
    "    print(ele, end = ' ')"
   ]
  },
  {
   "cell_type": "code",
   "execution_count": 18,
   "metadata": {},
   "outputs": [
    {
     "name": "stdout",
     "output_type": "stream",
     "text": [
      "[1, 4, 7, 5, 8, 9, 11]\n"
     ]
    }
   ],
   "source": [
    "import heapq\n",
    "li = [1,5,7,4,8,9,11]\n",
    "heapq.heapify(li)\n",
    "print(li)\n"
   ]
  },
  {
   "cell_type": "code",
   "execution_count": 19,
   "metadata": {},
   "outputs": [
    {
     "name": "stdout",
     "output_type": "stream",
     "text": [
      "[1, 2, 7, 4, 8, 9, 11, 5]\n"
     ]
    }
   ],
   "source": [
    "heapq.heappush(li,2)\n",
    "print(li)"
   ]
  },
  {
   "cell_type": "code",
   "execution_count": 20,
   "metadata": {},
   "outputs": [
    {
     "name": "stdout",
     "output_type": "stream",
     "text": [
      "[2, 4, 7, 5, 8, 9, 11, 6]\n"
     ]
    }
   ],
   "source": [
    "heapq.heapreplace(li, 6)\n",
    "print(li)"
   ]
  },
  {
   "cell_type": "code",
   "execution_count": 21,
   "metadata": {},
   "outputs": [
    {
     "name": "stdout",
     "output_type": "stream",
     "text": [
      "2\n"
     ]
    }
   ],
   "source": [
    "print(heapq.heappop(li))"
   ]
  },
  {
   "cell_type": "code",
   "execution_count": 26,
   "metadata": {},
   "outputs": [
    {
     "name": "stdout",
     "output_type": "stream",
     "text": [
      "13\n",
      "2 12 9 16 10 5 3 20 25 11 1 8 6\n",
      "4\n",
      "5\n",
      "2\n",
      "3\n",
      "1\n"
     ]
    }
   ],
   "source": [
    "#ksmallestelement\n",
    "import heapq\n",
    "def ksmallest(arr, k):\n",
    "    heap = arr[:k]\n",
    "    n = len(arr)\n",
    "    heapq._heapify_max(heap)\n",
    "    for i in range(k, n):\n",
    "        if heap[0] > arr[i]:\n",
    "            heapq._heapreplace_max(heap, arr[i])\n",
    "    return heap\n",
    "\n",
    "\n",
    "n = int(input())\n",
    "arr = [int(i) for i in input().split()]\n",
    "k = int(input())\n",
    "res = ksmallest(arr, k)\n",
    "for i in res:\n",
    "    print(i)"
   ]
  },
  {
   "cell_type": "code",
   "execution_count": 33,
   "metadata": {},
   "outputs": [
    {
     "name": "stdout",
     "output_type": "stream",
     "text": [
      "6\n",
      "9 4 8 7 11 3\n",
      "2\n",
      "10\n",
      "16\n"
     ]
    }
   ],
   "source": [
    "#klargestelement\n",
    "import heapq\n",
    "def klargest(lst, k):\n",
    "    heap = lst[:k]\n",
    "    n = len(lst)\n",
    "    heapq.heapify(heap)\n",
    "    for i in range(k, n):\n",
    "        if heap[0] < arr[i]:\n",
    "            heapq.heapreplace(heap, arr[i])\n",
    "    return heap\n",
    "            \n",
    "n = int(input())\n",
    "lst = [int(i) for i in input().split()]\n",
    "k = int(input())\n",
    "res = klargest(lst, k)\n",
    "for i in res:\n",
    "    print(i)"
   ]
  },
  {
   "cell_type": "code",
   "execution_count": 32,
   "metadata": {},
   "outputs": [
    {
     "name": "stdout",
     "output_type": "stream",
     "text": [
      "6\n",
      "9 4 8 7 11 3\n",
      "2\n",
      "[4, 9]\n",
      "[10, 16]\n"
     ]
    }
   ],
   "source": [
    "import heapq\n",
    "def klargest(lst, k):\n",
    "    heap = lst[:k]\n",
    "    n = len(lst)\n",
    "    heapq.heapify(heap)\n",
    "    print(heap)\n",
    "    for i in range(k, n):\n",
    "        if heap[0] < arr[i]:\n",
    "            heapq.heapreplace(heap, arr[i])\n",
    "    return heap\n",
    "            \n",
    "n = int(input())\n",
    "lst = [int(i) for i in input().split()]\n",
    "k = int(input())\n",
    "res = klargest(lst, k)\n",
    "print(res[0])"
   ]
  },
  {
   "cell_type": "code",
   "execution_count": 34,
   "metadata": {},
   "outputs": [
    {
     "name": "stdout",
     "output_type": "stream",
     "text": [
      "1\n",
      "55076 \n",
      "true\n"
     ]
    }
   ],
   "source": [
    "import heapq\n",
    "def klargest(lst):\n",
    "    heap = lst[:]\n",
    "    n = len(lst)\n",
    "    heapq._heapify_max(heap)\n",
    "    for i in range(n):\n",
    "        if lst[i] != heap[i]:\n",
    "            break\n",
    "            return False\n",
    "        \n",
    "    return True\n",
    "            \n",
    "n = int(input())\n",
    "lst = [int(i) for i in input().split()]\n",
    "res = klargest(lst)\n",
    "if res is True:\n",
    "    print(\"true\")\n",
    "else:\n",
    "    print('false')\n"
   ]
  },
  {
   "cell_type": "code",
   "execution_count": 54,
   "metadata": {},
   "outputs": [
    {
     "name": "stdout",
     "output_type": "stream",
     "text": [
      "5\n",
      "2 3 2 2 4\n",
      "3\n",
      "[4, 3, 2, 2, 2]\n",
      "4\n"
     ]
    }
   ],
   "source": [
    "#buy the ticket\n",
    "import queue\n",
    "import heapq\n",
    "def timetaken(arr, k):\n",
    "    q = queue.Queue()\n",
    "    heap = arr[:]\n",
    "    size= 0\n",
    "    heapq._heapify_max(heap)\n",
    "    \n",
    "    for i in range(n):\n",
    "        q.put(i)\n",
    "        size += 1\n",
    "    \n",
    "    time = 0\n",
    "\n",
    "    while len(heap) is not None :\n",
    "        curr_index = q.get()\n",
    "        size -= 1\n",
    "        if arr[curr_index] == heap[0] :\n",
    "            time += 1\n",
    "            \n",
    "            if k == curr_index:\n",
    "                return time\n",
    "            heapq._heappop_max(heap)   \n",
    "        else :\n",
    "            q.put(curr_index)\n",
    "            size += 1\n",
    "            \n",
    "        \n",
    "        \n",
    "    \n",
    "        \n",
    "    \n",
    "        \n",
    "        \n",
    "\n",
    "n = int(input())\n",
    "arr = [int(i) for i in input().split()]\n",
    "k = int(input())\n",
    "print(timetaken(arr, k))"
   ]
  },
  {
   "cell_type": "code",
   "execution_count": null,
   "metadata": {},
   "outputs": [],
   "source": []
  }
 ],
 "metadata": {
  "kernelspec": {
   "display_name": "Python 3",
   "language": "python",
   "name": "python3"
  },
  "language_info": {
   "codemirror_mode": {
    "name": "ipython",
    "version": 3
   },
   "file_extension": ".py",
   "mimetype": "text/x-python",
   "name": "python",
   "nbconvert_exporter": "python",
   "pygments_lexer": "ipython3",
   "version": "3.7.1"
  }
 },
 "nbformat": 4,
 "nbformat_minor": 2
}
