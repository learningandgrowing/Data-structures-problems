{
 "cells": [
  {
   "cell_type": "code",
   "execution_count": 1,
   "metadata": {},
   "outputs": [],
   "source": [
    "\n",
    "class BinaryTreeNode:\n",
    "    def __init__(self, data):\n",
    "        self.data = data\n",
    "        self.left = None\n",
    "        self.right = None"
   ]
  },
  {
   "cell_type": "code",
   "execution_count": 2,
   "metadata": {},
   "outputs": [],
   "source": [
    "import queue\n",
    "def takeinputlevelwise():\n",
    "    q = queue.Queue()\n",
    "    print(\"enter root\")\n",
    "    rootdata = int(input())\n",
    "    if rootdata == -1:\n",
    "        return None\n",
    "    root = BinaryTreeNode(rootdata)\n",
    "    q.put(root)\n",
    "    while (not(q.empty())):\n",
    "        curr_node = q.get()\n",
    "        print(\"enter left child of\" ,curr_node.data)\n",
    "        leftnode = int(input())\n",
    "        if leftnode != -1:\n",
    "            leftchild = BinaryTreeNode(leftnode)\n",
    "            curr_node.left = leftchild\n",
    "            q.put(leftchild)\n",
    "        print(\"enter right child of\" ,curr_node.data)\n",
    "        rightnode = int(input())\n",
    "        if rightnode != -1:\n",
    "            righttchild = BinaryTreeNode(rightnode)\n",
    "            curr_node.right = righttchild\n",
    "            q.put(righttchild)\n",
    "    return root"
   ]
  },
  {
   "cell_type": "code",
   "execution_count": 3,
   "metadata": {},
   "outputs": [],
   "source": [
    "def maxTree(root):\n",
    "    if root == None:\n",
    "        return -10000\n",
    "    leftmax = maxTree(root.left)\n",
    "    rightmax = maxTree(root.right)\n",
    "    return max(leftmax, rightmax, root.data)\n",
    "def minTree(root):\n",
    "    if root == None:\n",
    "        return 10000\n",
    "    leftmin = minTree(root.left)\n",
    "    rightmin = minTree(root.right)\n",
    "    return min(leftmin, rightmin, root.data)\n",
    "def isBST(root):\n",
    "    if root == None:\n",
    "        return True\n",
    "    leftmax = maxTree(root.left)\n",
    "    rightmin = minTree(root.right)\n",
    "    \n",
    "    if root.data > rightmin or root.data <= leftmax:\n",
    "        return False\n",
    "    isleftBST = isBST(root.left)\n",
    "    isrightBST = isBST(root.right)\n",
    "    return isleftBST and isrightBST"
   ]
  },
  {
   "cell_type": "code",
   "execution_count": 5,
   "metadata": {},
   "outputs": [
    {
     "name": "stdout",
     "output_type": "stream",
     "text": [
      "enter root\n",
      "4\n",
      "enter left child of 4\n",
      "2\n",
      "enter right child of 4\n",
      "6\n",
      "enter left child of 2\n",
      "1\n",
      "enter right child of 2\n",
      "3\n",
      "enter left child of 6\n",
      "5\n",
      "enter right child of 6\n",
      "7\n",
      "enter left child of 1\n",
      "-1\n",
      "enter right child of 1\n",
      "-1\n",
      "enter left child of 3\n",
      "-1\n",
      "enter right child of 3\n",
      "-1\n",
      "enter left child of 5\n",
      "-1\n",
      "enter right child of 5\n",
      "-1\n",
      "enter left child of 7\n",
      "-1\n",
      "enter right child of 7\n",
      "-1\n",
      "True\n"
     ]
    }
   ],
   "source": [
    "root = takeinputlevelwise()\n",
    "print(isBST(root))"
   ]
  }
 ],
 "metadata": {
  "kernelspec": {
   "display_name": "Python 3",
   "language": "python",
   "name": "python3"
  },
  "language_info": {
   "codemirror_mode": {
    "name": "ipython",
    "version": 3
   },
   "file_extension": ".py",
   "mimetype": "text/x-python",
   "name": "python",
   "nbconvert_exporter": "python",
   "pygments_lexer": "ipython3",
   "version": "3.7.1"
  }
 },
 "nbformat": 4,
 "nbformat_minor": 2
}
