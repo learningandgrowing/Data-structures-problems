{
 "cells": [
  {
   "cell_type": "code",
   "execution_count": 3,
   "metadata": {},
   "outputs": [
    {
     "name": "stdout",
     "output_type": "stream",
     "text": [
      "500\n",
      "139423224561697880139724382870407283950070256587697307264108962948325571622863290691557658876222521294125\n"
     ]
    }
   ],
   "source": [
    "#recursive\n",
    "#fibbonacci memoization\n",
    "def fibb(n, dp):\n",
    "    if n == 0 or n == 1:\n",
    "        return n\n",
    "    if dp[n-1] == -1:\n",
    "        ans1 = fibb(n-1, dp)\n",
    "        dp[n-1] = ans1\n",
    "    else:\n",
    "        ans1 = dp[n-1]\n",
    "    if dp[n-2] == -1:\n",
    "        ans2 = fibb(n-2, dp)\n",
    "        dp[n-2] = ans2\n",
    "    else:\n",
    "        ans2 = dp[n-2]\n",
    "    myans = ans1 + ans2\n",
    "    return myans\n",
    "    \n",
    "n = int(input())\n",
    "dp = [-1 for i in range(n+1)]\n",
    "print(fibb(n, dp))"
   ]
  },
  {
   "cell_type": "code",
   "execution_count": 4,
   "metadata": {},
   "outputs": [
    {
     "name": "stdout",
     "output_type": "stream",
     "text": [
      "8\n",
      "21\n"
     ]
    }
   ],
   "source": [
    "#iterative\n",
    "def fibbi(n):\n",
    "    dp = [0 for i in range(n+1)]\n",
    "    dp[0] = 0\n",
    "    dp[1] = 1\n",
    "    i = 2\n",
    "    while i <= n:\n",
    "        dp[i] = dp[i-1] + dp[i-2]\n",
    "        i += 1\n",
    "    return dp[n]\n",
    "\n",
    "n = int(input())\n",
    "print(fibbi(n))"
   ]
  },
  {
   "cell_type": "code",
   "execution_count": 9,
   "metadata": {},
   "outputs": [
    {
     "name": "stdout",
     "output_type": "stream",
     "text": [
      "9\n",
      "2\n"
     ]
    }
   ],
   "source": [
    "#minstepto1\n",
    "#recursive\n",
    "import sys\n",
    "def minstepsdynamic(n,arr):\n",
    "    if(n==1):\n",
    "        return 0\n",
    "    ans1=sys.maxsize\n",
    "    if(n%3==0):\n",
    "        if(arr[n//3]==-1):\n",
    "            ans1 = minstepsdynamic(n//3,arr) \n",
    "            arr[n//3]=ans1\n",
    "        else:\n",
    "            ans1=arr[n//3]\n",
    "    ans2=sys.maxsize       \n",
    "    if(n%2==0):\n",
    "         if(arr[n//2]==-1):\n",
    "            ans2=minstepsdynamic(n//2,arr) \n",
    "            arr[n//2]=ans2\n",
    "        else:\n",
    "            ans2=arr[n//2]\n",
    "    \n",
    "    if(arr[n-1]==-1):\n",
    "        ans3=minstepsdynamic(n-1,arr)\n",
    "        arr[n-1]=ans3\n",
    "    else:\n",
    "        ans3=arr[n-1]\n",
    "   \n",
    "    ans = 1 + min(ans1,ans2,ans3)  \n",
    "    return ans\n",
    "sys.setrecursionlimit(200000)\n",
    "n=int(input())\n",
    "arr = [-1 for i in range(n+1)]\n",
    "ans = minstepsdynamic(n,arr)\n",
    "print(ans)\n"
   ]
  },
  {
   "cell_type": "code",
   "execution_count": 26,
   "metadata": {},
   "outputs": [
    {
     "name": "stdout",
     "output_type": "stream",
     "text": [
      "8\n",
      "-1\n"
     ]
    }
   ],
   "source": [
    "#iterative solution\n",
    "\n",
    "def minstepto1(n):\n",
    "    dp = [-1 for i in range(n+1)]\n",
    "    dp[1] = 0\n",
    "    i = 2\n",
    "    while i <= n:\n",
    "        if i%2 == 0 and i%3 == 0:\n",
    "            dp[i] = 1 + min(dp[i//2],dp[i//3],dp[i-1])\n",
    "        elif i % 2 == 0:\n",
    "            dp[i] = 1 + min(dp[i//2],dp[i-1])\n",
    "        elif i%3==0:\n",
    "            dp[i] = 1 + min(dp[i//3],dp[i-1])\n",
    "        else:\n",
    "            dp[i] = 1 + dp[i-1]\n",
    "        i += 1\n",
    "    \n",
    "    return dp[n]\n",
    "n = int(input())\n",
    "ans = minstepto1(n)\n",
    "print(ans)"
   ]
  },
  {
   "cell_type": "code",
   "execution_count": 17,
   "metadata": {},
   "outputs": [
    {
     "name": "stdout",
     "output_type": "stream",
     "text": [
      "[-1, 1]\n"
     ]
    }
   ],
   "source": [
    "dp = [-1 for i in range(1,3)]\n",
    "dp[1] = 1\n",
    "print(dp)"
   ]
  },
  {
   "cell_type": "code",
   "execution_count": 32,
   "metadata": {},
   "outputs": [
    {
     "name": "stdout",
     "output_type": "stream",
     "text": [
      "41\n",
      "2\n"
     ]
    }
   ],
   "source": [
    "#minimum number of square\n",
    "import sys\n",
    "def minsquare(n, dp):\n",
    "    if n== 0:\n",
    "        return 0\n",
    "    i = 1\n",
    "    ans = sys.maxsize\n",
    "    while i*i <= n:\n",
    "        newcheckvalue = n-(i**2)\n",
    "        if dp[newcheckvalue] == -1:\n",
    "            smallans = minsquare(newcheckvalue, dp)\n",
    "            dp[newcheckvalue] = smallans\n",
    "            minans = 1 + smallans\n",
    "        else:\n",
    "            minans = 1 + dp[newcheckvalue]\n",
    "        i += 1\n",
    "        ans = min(ans, minans)\n",
    "    return ans\n",
    "        \n",
    "        \n",
    "n = int(input())\n",
    "dp = [-1 for i in range(n+1)]\n",
    "ans = minsquare(n, dp)\n",
    "print(ans)"
   ]
  },
  {
   "cell_type": "code",
   "execution_count": 34,
   "metadata": {},
   "outputs": [
    {
     "name": "stdout",
     "output_type": "stream",
     "text": [
      "41\n",
      "2\n"
     ]
    }
   ],
   "source": [
    "#iterative\n",
    "import sys,math\n",
    "def minsquarei(n):\n",
    "    dp = [-1 for i in range(n+1)]\n",
    "    dp[0] = 0\n",
    "    for i in range(1, n+1):\n",
    "        ans = sys.maxsize\n",
    "        root = int(math.sqrt(i))\n",
    "        for j in range(1, root+1):\n",
    "            currans = 1 + dp[i-(j**2)]\n",
    "            ans = min(ans,currans)\n",
    "        dp[i] = ans\n",
    "    return dp[n]\n",
    "n = int(input())\n",
    "ans = minsquarei(n)\n",
    "print(ans)"
   ]
  },
  {
   "cell_type": "code",
   "execution_count": 2,
   "metadata": {},
   "outputs": [
    {
     "name": "stdout",
     "output_type": "stream",
     "text": [
      "7\n",
      "6 3 1 2 0 7 9\n",
      "4\n"
     ]
    }
   ],
   "source": [
    "#lis\n",
    "def lis(li,i,n, dp):\n",
    "    if i==n:\n",
    "        return 0,0\n",
    "    including_max = 1\n",
    "    for j in range(i+1, n):\n",
    "        if li[j] >= li[i]:\n",
    "            if dp[j] == -1:\n",
    "                ans = lis(li,j,n, dp)\n",
    "                dp[j] = ans\n",
    "                further_including_max = ans[0]\n",
    "            else:\n",
    "                further_including_max = dp[j][0]\n",
    "                \n",
    "            including_max = max(including_max, 1+further_including_max)\n",
    "    if dp[i+1] == -1:\n",
    "        ans = lis(li,i+1,n, dp)\n",
    "        dp[i+1] = ans\n",
    "        excluding_max = ans[1]\n",
    "    else:\n",
    "        excluding_max = dp[i+1][1]\n",
    "        \n",
    "    overallmax = max(including_max,excluding_max)\n",
    "    return including_max, overallmax\n",
    "    \n",
    "n = int(input())\n",
    "li = [int(ele) for ele in input().split()]\n",
    "dp = [-1 for i in range(n+1)]\n",
    "ans = lis(li,0,n, dp)[1]\n",
    "print(ans)\n"
   ]
  },
  {
   "cell_type": "code",
   "execution_count": 44,
   "metadata": {},
   "outputs": [
    {
     "name": "stdout",
     "output_type": "stream",
     "text": [
      "7\n",
      "6 3 1 2 0 7 9\n",
      "4\n"
     ]
    }
   ],
   "source": [
    "#iterative\n",
    "def lisi(li, n):\n",
    "    dp = [[0 for j in range(2)] for i in range(n+1)]\n",
    "    \n",
    "    for i in range(n-1, -1, -1):\n",
    "        including_max = 1\n",
    "        for j in range(i+1, n):\n",
    "            if li[j] > li[i]:\n",
    "                including_max = max(including_max, 1+dp[j][0])\n",
    "        dp[i][0] = including_max\n",
    "        excluding_max = dp[i+1][1]\n",
    "        overallmax = max(including_max,excluding_max)\n",
    "        dp[i][1] = overallmax\n",
    "    return dp[0][1]\n",
    "n = int(input())\n",
    "li = [int(ele) for ele in input().split()]\n",
    "ans = lisi(li, n)\n",
    "print(ans)"
   ]
  },
  {
   "cell_type": "code",
   "execution_count": 53,
   "metadata": {},
   "outputs": [
    {
     "name": "stdout",
     "output_type": "stream",
     "text": [
      "4 3\n",
      "1 5 11\n",
      "8 13 12\n",
      "2 3 7\n",
      "15 16 18\n",
      "30\n"
     ]
    }
   ],
   "source": [
    "#minimum cost path\n",
    "import sys\n",
    "def mincost(cost,i,j,n,m):\n",
    "    if i == n-1 and j == m-1:\n",
    "        return cost[i][j]\n",
    "    if i >= n or j >= m:\n",
    "        return sys.maxsize\n",
    "    if dp[i][j+1] == sys.maxsize:\n",
    "        ans1 = mincost(cost,i,j+1,n,m,dp)\n",
    "        dp[i][j+1] = ans1\n",
    "    else:\n",
    "        ans1 = dp[i][j+1]\n",
    "    if dp[i+1][j] == sys.maxsize:\n",
    "        ans2 = mincost(cost,i+1,j,n,m,dp)\n",
    "        dp[i+1][j] = ans2\n",
    "    else:\n",
    "        ans2 = dp[i+1][j]\n",
    "    if dp[i+1][j+1] == sys.maxsize:\n",
    "        ans3 = mincost(cost,i+1,j+1,n,m,dp)\n",
    "        dp[i+1][j+1] = ans3\n",
    "    else:\n",
    "        ans3 = dp[i+1][j+1]\n",
    "    ans = cost[i][j] + min(ans1,ans2,ans3)\n",
    "    return ans\n",
    "    \n",
    "n,m = [int(i) for i in input().split()]\n",
    "cost = [[int(i) for i in input().split()] for j in range(n)]\n",
    "dp = [[sys.maxsize for i in range(m+1)] for j in range(n+1)]\n",
    "ans = mincost(cost,0,0,n,m,dp)\n",
    "print(ans)"
   ]
  },
  {
   "cell_type": "code",
   "execution_count": 57,
   "metadata": {},
   "outputs": [
    {
     "name": "stdout",
     "output_type": "stream",
     "text": [
      "4 3\n",
      "1 5 11\n",
      "8 13 12\n",
      "2 3 7\n",
      "15 16 18\n",
      "30\n"
     ]
    }
   ],
   "source": [
    "#iterative\n",
    "import sys\n",
    "def mincostBU(cost,i,j,n,m):\n",
    "    dp = [[sys.maxsize for i in range(m+1)] for j in range(n+1)]\n",
    "    for i in range(n-1,-1,-1):\n",
    "        for j in range(m-1,-1,-1):\n",
    "            if i == n-1 and j == m-1:\n",
    "                dp[i][j] = cost[i][j]\n",
    "            else:\n",
    "                ans1 = dp[i][j+1]\n",
    "                ans2 = dp[i+1][j]\n",
    "                ans3 = dp[i+1][j+1]\n",
    "                dp[i][j] = cost[i][j] + min(ans1,ans2,ans3)\n",
    "    return dp[0][0]\n",
    "    \n",
    "n,m = [int(i) for i in input().split()]\n",
    "cost = [[int(i) for i in input().split()] for j in range(n)]\n",
    "\n",
    "ans = mincostBU(cost,0,0,n,m)\n",
    "print(ans)"
   ]
  },
  {
   "cell_type": "code",
   "execution_count": 59,
   "metadata": {},
   "outputs": [
    {
     "name": "stdout",
     "output_type": "stream",
     "text": [
      "4 3\n",
      "1 5 11\n",
      "8 13 12\n",
      "2 3 7\n",
      "15 16 18\n",
      "30\n"
     ]
    }
   ],
   "source": [
    "#iterative\n",
    "#topdown\n",
    "import sys\n",
    "def mincostTD(cost,i,j,n,m):\n",
    "    dp = [[sys.maxsize for i in range(m+1)] for j in range(n+1)]\n",
    "    for i in range(1,n+1):\n",
    "        for j in range(1,m+1):\n",
    "            if i == 1 and j == 1:\n",
    "                dp[i][j] = cost[0][0]\n",
    "            else:\n",
    "                ans1 = dp[i][j-1]\n",
    "                ans2 = dp[i-1][j]\n",
    "                ans3 = dp[i-1][j-1]\n",
    "                dp[i][j] = cost[i-1][j-1] + min(ans1,ans2,ans3)\n",
    "    return dp[n][m]\n",
    "    \n",
    "n,m = [int(i) for i in input().split()]\n",
    "cost = [[int(i) for i in input().split()] for j in range(n)]\n",
    "\n",
    "ans = mincostTD(cost,0,0,n,m)\n",
    "print(ans)"
   ]
  },
  {
   "cell_type": "code",
   "execution_count": 4,
   "metadata": {},
   "outputs": [
    {
     "name": "stdout",
     "output_type": "stream",
     "text": [
      "adebc\n",
      "dcadb\n",
      "3\n"
     ]
    }
   ],
   "source": [
    "#longestcommonsubsequence recursive\n",
    "def commonseq(str1,str2,i,j,dp):\n",
    "    if i >= len(str1) or j >= len(str2):\n",
    "        return 0\n",
    "    if str1[i] == str2[j]:\n",
    "        if dp[i+1][j+1] == -1:\n",
    "            minans = commonseq(str1,str2,i+1,j+1,dp)\n",
    "            dp[i+1][j+1] = minans\n",
    "            ans = 1 + minans\n",
    "        else:\n",
    "            ans = 1 + dp[i+1][j+1]\n",
    "    else:\n",
    "        if dp[i+1][j] == -1:\n",
    "            ans1 = commonseq(str1,str2,i+1,j,dp)\n",
    "            dp[i+1][j] = ans1\n",
    "        else:\n",
    "            ans1 = dp[i+1][j]\n",
    "        if dp[i][j+1] == -1:\n",
    "            ans2 = commonseq(str1,str2,i,j+1,dp)\n",
    "            dp[i][j+1] = ans2\n",
    "        else:\n",
    "            ans2 = dp[i][j+1]\n",
    "        ans = max(ans1,ans2)\n",
    "    return ans\n",
    "str1 = input()\n",
    "str2 = input()\n",
    "n = len(str1)\n",
    "m = len(str2)\n",
    "dp = [[-1 for i in range(m+1)] for j in range(n+1)]\n",
    "ans = commonseq(str1,str2,0,0,dp)\n",
    "print(ans)"
   ]
  },
  {
   "cell_type": "code",
   "execution_count": 6,
   "metadata": {},
   "outputs": [
    {
     "name": "stdout",
     "output_type": "stream",
     "text": [
      "abedgjc\n",
      "bmdgsc\n",
      "4\n"
     ]
    }
   ],
   "source": [
    "#iterativelongestcommonsubsequence\n",
    "def commonseqi(str1,str2,i,j):\n",
    "    m = len(str2)\n",
    "    n = len(str1)\n",
    "    dp = [[0 for i in range(m+1)] for j in range(n+1)]\n",
    "    for i in range(n-1,-1,-1):\n",
    "        for j in range(m-1,-1,-1):\n",
    "            if str1[i] == str2[j]:\n",
    "                dp[i][j] = 1 + dp[i+1][j+1]\n",
    "            else:\n",
    "                ans1 = dp[i+1][j]\n",
    "                ans2 = dp[i][j+1]\n",
    "                dp[i][j] = max(ans1,ans2)\n",
    "    return dp[0][0]\n",
    "str1 = input()\n",
    "str2 = input()\n",
    "ans = commonseqi(str1,str2,0,0)\n",
    "print(ans)\n"
   ]
  },
  {
   "cell_type": "code",
   "execution_count": 7,
   "metadata": {},
   "outputs": [
    {
     "name": "stdout",
     "output_type": "stream",
     "text": [
      "3\n",
      "20 25 30\n",
      "200 300 100\n",
      "50\n",
      "500\n"
     ]
    }
   ],
   "source": [
    "#knapsack\n",
    "\n",
    "def knapsackBF(weights, values, maxWeight,i,dp):\n",
    "    #Implement Your Code Here\n",
    "    if i == n:\n",
    "        return 0\n",
    "    if weights[i] > maxWeight:\n",
    "        ans = knapsackBF(weights, values, maxWeight,i+1,dp)\n",
    "    else:\n",
    "        ans1 = values[i] + knapsackBF(weights, values, maxWeight-weights[i],i+1,dp)\n",
    "        ans2 = knapsackBF(weights, values, maxWeight,i+1,dp)\n",
    "        ans = max(ans1,ans2)\n",
    "        \n",
    "    return ans\n",
    "\n",
    "from sys import setrecursionlimit\n",
    "setrecursionlimit(11000)\n",
    "n=int(input())\n",
    "weights=list(int(i) for i in input().strip().split(' '))\n",
    "values=list(int(i) for i in input().strip().split(' '))\n",
    "maxWeight=int(input())\n",
    "print(knapsackBF(weights, values, maxWeight,0))"
   ]
  },
  {
   "cell_type": "code",
   "execution_count": 9,
   "metadata": {},
   "outputs": [
    {
     "name": "stdout",
     "output_type": "stream",
     "text": [
      "3\n",
      "20 25 30\n",
      "200 300 100\n",
      "50\n",
      "500\n"
     ]
    }
   ],
   "source": [
    "#iterative\n",
    "def knapsack(weights, values, maxWeight):\n",
    "   \n",
    "    dp = [[0 for i in range(maxWeight+1)] for j in range(n+1)]\n",
    "    for i in range(1,n+1):\n",
    "        for j in range(1,maxWeight+1):\n",
    "            if j<weights[i-1]:\n",
    "                ans = dp[i-1][j]\n",
    "            else:\n",
    "                ans1 = values[i-1] + dp[i-1][j -weights[i-1]]\n",
    "                ans2 = dp[i-1][j]\n",
    "                ans = max(ans1,ans2)\n",
    "            dp[i][j] = ans\n",
    "    return dp[n][maxWeight]\n",
    "from sys import setrecursionlimit\n",
    "setrecursionlimit(11000)\n",
    "n=int(input())\n",
    "weights=list(int(i) for i in input().strip().split(' '))\n",
    "values=list(int(i) for i in input().strip().split(' '))\n",
    "maxWeight=int(input())\n",
    "print(knapsack(weights, values, maxWeight))"
   ]
  },
  {
   "cell_type": "code",
   "execution_count": 14,
   "metadata": {},
   "outputs": [
    {
     "name": "stdout",
     "output_type": "stream",
     "text": [
      "3\n",
      "10 15 20 25\n",
      "8000\n"
     ]
    }
   ],
   "source": [
    "#matrixchainmultiplication\n",
    "import sys\n",
    "def matrixchain(arr,i,j,dp):\n",
    "    if i == j:\n",
    "        return 0\n",
    "    min_value = sys.maxsize\n",
    "    for k in range(i,j):\n",
    "        if dp[i][k] == -1:\n",
    "            ans1 = matrixchain(arr,i,k,dp)\n",
    "            dp[i][k] = ans1\n",
    "        else:\n",
    "            ans1 = dp[i][k]\n",
    "        if dp[k+1][j] == -1:\n",
    "            ans2 = matrixchain(arr,k+1,j,dp)\n",
    "            dp[k+1][j] = ans2\n",
    "        else:\n",
    "            ans2 = dp[k+1][j]\n",
    "        mcost = arr[i-1]*arr[k]*arr[j]\n",
    "        curr_value = ans1 + ans2 + mcost\n",
    "        \n",
    "        min_value = min(min_value,curr_value)\n",
    "    return min_value\n",
    "    \n",
    "        \n",
    "n = int(input())\n",
    "arr = [int(i) for i in input().strip().split()]\n",
    "dp = [[-1 for i in range(n+1)] for j in range(n+1)]\n",
    "ans = matrixchain(arr,1,n,dp)\n",
    "print(ans)"
   ]
  },
  {
   "cell_type": "code",
   "execution_count": 13,
   "metadata": {},
   "outputs": [
    {
     "ename": "NameError",
     "evalue": "name 'l1' is not defined",
     "output_type": "error",
     "traceback": [
      "\u001b[0;31m---------------------------------------------------------------------------\u001b[0m",
      "\u001b[0;31mNameError\u001b[0m                                 Traceback (most recent call last)",
      "\u001b[0;32m<ipython-input-13-e4b5ab3520e1>\u001b[0m in \u001b[0;36m<module>\u001b[0;34m\u001b[0m\n\u001b[1;32m      2\u001b[0m \u001b[0;32mfor\u001b[0m \u001b[0mi\u001b[0m \u001b[0;32min\u001b[0m \u001b[0mrange\u001b[0m\u001b[0;34m(\u001b[0m\u001b[0;36m0\u001b[0m\u001b[0;34m,\u001b[0m\u001b[0;36m0\u001b[0m\u001b[0;34m)\u001b[0m\u001b[0;34m:\u001b[0m\u001b[0;34m\u001b[0m\u001b[0;34m\u001b[0m\u001b[0m\n\u001b[1;32m      3\u001b[0m     \u001b[0ml1\u001b[0m \u001b[0;34m=\u001b[0m \u001b[0ml\u001b[0m\u001b[0;34m[\u001b[0m\u001b[0;34m:\u001b[0m\u001b[0;34m]\u001b[0m\u001b[0;34m\u001b[0m\u001b[0;34m\u001b[0m\u001b[0m\n\u001b[0;32m----> 4\u001b[0;31m \u001b[0mprint\u001b[0m\u001b[0;34m(\u001b[0m\u001b[0ml1\u001b[0m\u001b[0;34m)\u001b[0m\u001b[0;34m\u001b[0m\u001b[0;34m\u001b[0m\u001b[0m\n\u001b[0m",
      "\u001b[0;31mNameError\u001b[0m: name 'l1' is not defined"
     ]
    }
   ],
   "source": []
  },
  {
   "cell_type": "code",
   "execution_count": 1,
   "metadata": {},
   "outputs": [
    {
     "name": "stdout",
     "output_type": "stream",
     "text": [
      "4 4\n",
      "0 1\n",
      "0 3\n",
      "1 2\n",
      "2 3\n",
      "4 4\n"
     ]
    },
    {
     "ename": "AttributeError",
     "evalue": "'int' object has no attribute 'add'",
     "output_type": "error",
     "traceback": [
      "\u001b[0;31m---------------------------------------------------------------------------\u001b[0m",
      "\u001b[0;31mAttributeError\u001b[0m                            Traceback (most recent call last)",
      "\u001b[0;32m<ipython-input-1-31f1ef1f6731>\u001b[0m in \u001b[0;36m<module>\u001b[0;34m\u001b[0m\n\u001b[1;32m     31\u001b[0m     \u001b[0mg\u001b[0m\u001b[0;34m.\u001b[0m\u001b[0maddEdge\u001b[0m\u001b[0;34m(\u001b[0m\u001b[0mm\u001b[0m\u001b[0;34m,\u001b[0m \u001b[0mn\u001b[0m\u001b[0;34m)\u001b[0m\u001b[0;34m\u001b[0m\u001b[0;34m\u001b[0m\u001b[0m\n\u001b[1;32m     32\u001b[0m \u001b[0mv1\u001b[0m\u001b[0;34m,\u001b[0m \u001b[0mv2\u001b[0m \u001b[0;34m=\u001b[0m \u001b[0mmap\u001b[0m\u001b[0;34m(\u001b[0m\u001b[0mint\u001b[0m\u001b[0;34m,\u001b[0m \u001b[0minput\u001b[0m\u001b[0;34m(\u001b[0m\u001b[0;34m)\u001b[0m\u001b[0;34m.\u001b[0m\u001b[0msplit\u001b[0m\u001b[0;34m(\u001b[0m\u001b[0;34m)\u001b[0m\u001b[0;34m)\u001b[0m\u001b[0;34m\u001b[0m\u001b[0;34m\u001b[0m\u001b[0m\n\u001b[0;32m---> 33\u001b[0;31m \u001b[0mans\u001b[0m \u001b[0;34m=\u001b[0m \u001b[0mg\u001b[0m\u001b[0;34m.\u001b[0m\u001b[0mis_connected\u001b[0m\u001b[0;34m(\u001b[0m\u001b[0mv1\u001b[0m\u001b[0;34m,\u001b[0m \u001b[0mv2\u001b[0m\u001b[0;34m)\u001b[0m\u001b[0;34m\u001b[0m\u001b[0;34m\u001b[0m\u001b[0m\n\u001b[0m\u001b[1;32m     34\u001b[0m \u001b[0mprint\u001b[0m\u001b[0;34m(\u001b[0m\u001b[0mans\u001b[0m\u001b[0;34m)\u001b[0m\u001b[0;34m\u001b[0m\u001b[0;34m\u001b[0m\u001b[0m\n",
      "\u001b[0;32m<ipython-input-1-31f1ef1f6731>\u001b[0m in \u001b[0;36mis_connected\u001b[0;34m(self, vertices_encountered, start_vertex)\u001b[0m\n\u001b[1;32m     16\u001b[0m         \u001b[0;32mif\u001b[0m \u001b[0;32mnot\u001b[0m \u001b[0mstart_vertex\u001b[0m\u001b[0;34m:\u001b[0m\u001b[0;34m\u001b[0m\u001b[0;34m\u001b[0m\u001b[0m\n\u001b[1;32m     17\u001b[0m             \u001b[0mstart_vertex\u001b[0m \u001b[0;34m=\u001b[0m \u001b[0mvertices\u001b[0m\u001b[0;34m[\u001b[0m\u001b[0;36m0\u001b[0m\u001b[0;34m]\u001b[0m\u001b[0;34m\u001b[0m\u001b[0;34m\u001b[0m\u001b[0m\n\u001b[0;32m---> 18\u001b[0;31m         \u001b[0mvertices_encountered\u001b[0m\u001b[0;34m.\u001b[0m\u001b[0madd\u001b[0m\u001b[0;34m(\u001b[0m\u001b[0mstart_vertex\u001b[0m\u001b[0;34m)\u001b[0m\u001b[0;34m\u001b[0m\u001b[0;34m\u001b[0m\u001b[0m\n\u001b[0m\u001b[1;32m     19\u001b[0m         \u001b[0;32mif\u001b[0m \u001b[0mlen\u001b[0m\u001b[0;34m(\u001b[0m\u001b[0mvertices_encountered\u001b[0m\u001b[0;34m)\u001b[0m \u001b[0;34m!=\u001b[0m \u001b[0mlen\u001b[0m\u001b[0;34m(\u001b[0m\u001b[0mvertices\u001b[0m\u001b[0;34m)\u001b[0m\u001b[0;34m:\u001b[0m\u001b[0;34m\u001b[0m\u001b[0;34m\u001b[0m\u001b[0m\n\u001b[1;32m     20\u001b[0m             \u001b[0;32mfor\u001b[0m \u001b[0mvertex\u001b[0m \u001b[0;32min\u001b[0m \u001b[0mgdict\u001b[0m\u001b[0;34m[\u001b[0m\u001b[0mstart_vertex\u001b[0m\u001b[0;34m]\u001b[0m\u001b[0;34m:\u001b[0m\u001b[0;34m\u001b[0m\u001b[0;34m\u001b[0m\u001b[0m\n",
      "\u001b[0;31mAttributeError\u001b[0m: 'int' object has no attribute 'add'"
     ]
    }
   ],
   "source": []
  },
  {
   "cell_type": "code",
   "execution_count": 2,
   "metadata": {},
   "outputs": [
    {
     "name": "stdout",
     "output_type": "stream",
     "text": [
      "3\n",
      "15 20 12\n",
      "15\n",
      "20\n",
      "12\n"
     ]
    }
   ],
   "source": []
  },
  {
   "cell_type": "code",
   "execution_count": 6,
   "metadata": {},
   "outputs": [
    {
     "name": "stdout",
     "output_type": "stream",
     "text": [
      "[(5, 6)]\n"
     ]
    }
   ],
   "source": []
  },
  {
   "cell_type": "code",
   "execution_count": 4,
   "metadata": {},
   "outputs": [
    {
     "name": "stdout",
     "output_type": "stream",
     "text": [
      " ab\n"
     ]
    }
   ],
   "source": [
    "str1 = \"\"\n",
    "str2 = str1 + \" \" + 'a' \n",
    "str3 = str2 + \"\" + 'b'\n",
    "print(str3)"
   ]
  },
  {
   "cell_type": "code",
   "execution_count": null,
   "metadata": {},
   "outputs": [],
   "source": []
  }
 ],
 "metadata": {
  "kernelspec": {
   "display_name": "Python 3",
   "language": "python",
   "name": "python3"
  },
  "language_info": {
   "codemirror_mode": {
    "name": "ipython",
    "version": 3
   },
   "file_extension": ".py",
   "mimetype": "text/x-python",
   "name": "python",
   "nbconvert_exporter": "python",
   "pygments_lexer": "ipython3",
   "version": "3.7.1"
  }
 },
 "nbformat": 4,
 "nbformat_minor": 2
}
