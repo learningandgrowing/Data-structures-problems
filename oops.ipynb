{
 "cells": [
  {
   "cell_type": "code",
   "execution_count": 2,
   "metadata": {},
   "outputs": [
    {
     "name": "stdout",
     "output_type": "stream",
     "text": [
      "0.1\n"
     ]
    }
   ],
   "source": [
    "l = 1/10\n",
    "print(l)"
   ]
  },
  {
   "cell_type": "markdown",
   "metadata": {},
   "source": [
    "class fraction"
   ]
  },
  {
   "cell_type": "code",
   "execution_count": 31,
   "metadata": {},
   "outputs": [
    {
     "name": "stdout",
     "output_type": "stream",
     "text": [
      "4 6\n",
      "1 / 3\n"
     ]
    }
   ],
   "source": [
    "class Fraction:\n",
    "    def __init__(self, num=0, den=1):\n",
    "        self.num = num\n",
    "        self.den = den\n",
    "        if self.den == 0:\n",
    "            #throw error\n",
    "            self.den = 1\n",
    "    def printfraction(self):\n",
    "        \n",
    "        if self.num == 0:\n",
    "            print(0)\n",
    "        elif self.den == 1:\n",
    "            print(self.num)\n",
    "        else:\n",
    "            print(self.num,'/',self.den)\n",
    "    def simplify(self):\n",
    "        if self.num == 0:\n",
    "            \n",
    "            return\n",
    "        current = min(self.num, self.den)\n",
    "        while current > 1:\n",
    "            if self.num % current==0 and self.den %current == 0:\n",
    "                break\n",
    "            current -= 1\n",
    "        self.num = self.num // current\n",
    "        self.den = self.den//current\n",
    "    def add(self, otherfraction):\n",
    "        newnum = self.num*otherfraction.den + otherfraction.num*self.den\n",
    "        newden = self.den*otherfraction.den\n",
    "        self.num = newnum\n",
    "        self.den = newden\n",
    "        self.simplify()\n",
    "    def multiply(self, otherfraction):\n",
    "        newnum = self.num * otherfraction.num\n",
    "        newden = self.den * otherfraction.den\n",
    "        self.num = newnum\n",
    "        self.den = newden\n",
    "        self.simplify()\n",
    "num1, den1 = input().split()\n",
    "f1 = Fraction(int(num1), int(den1))\n",
    "f2 = Fraction(1, 2)\n",
    "#f1.add(f2)\n",
    "#f1.printfraction()\n",
    "f1.multiply(f2)\n",
    "\n",
    "f1.printfraction()\n"
   ]
  },
  {
   "cell_type": "code",
   "execution_count": 5,
   "metadata": {},
   "outputs": [
    {
     "ename": "KeyboardInterrupt",
     "evalue": "",
     "output_type": "error",
     "traceback": [
      "\u001b[0;31m---------------------------------------------------------------------------\u001b[0m",
      "\u001b[0;31mKeyboardInterrupt\u001b[0m                         Traceback (most recent call last)",
      "\u001b[0;32m~/anaconda3/lib/python3.7/site-packages/ipykernel/kernelbase.py\u001b[0m in \u001b[0;36m_input_request\u001b[0;34m(self, prompt, ident, parent, password)\u001b[0m\n\u001b[1;32m    877\u001b[0m             \u001b[0;32mtry\u001b[0m\u001b[0;34m:\u001b[0m\u001b[0;34m\u001b[0m\u001b[0;34m\u001b[0m\u001b[0m\n\u001b[0;32m--> 878\u001b[0;31m                 \u001b[0mident\u001b[0m\u001b[0;34m,\u001b[0m \u001b[0mreply\u001b[0m \u001b[0;34m=\u001b[0m \u001b[0mself\u001b[0m\u001b[0;34m.\u001b[0m\u001b[0msession\u001b[0m\u001b[0;34m.\u001b[0m\u001b[0mrecv\u001b[0m\u001b[0;34m(\u001b[0m\u001b[0mself\u001b[0m\u001b[0;34m.\u001b[0m\u001b[0mstdin_socket\u001b[0m\u001b[0;34m,\u001b[0m \u001b[0;36m0\u001b[0m\u001b[0;34m)\u001b[0m\u001b[0;34m\u001b[0m\u001b[0;34m\u001b[0m\u001b[0m\n\u001b[0m\u001b[1;32m    879\u001b[0m             \u001b[0;32mexcept\u001b[0m \u001b[0mException\u001b[0m\u001b[0;34m:\u001b[0m\u001b[0;34m\u001b[0m\u001b[0;34m\u001b[0m\u001b[0m\n",
      "\u001b[0;32m~/anaconda3/lib/python3.7/site-packages/jupyter_client/session.py\u001b[0m in \u001b[0;36mrecv\u001b[0;34m(self, socket, mode, content, copy)\u001b[0m\n\u001b[1;32m    802\u001b[0m         \u001b[0;32mtry\u001b[0m\u001b[0;34m:\u001b[0m\u001b[0;34m\u001b[0m\u001b[0;34m\u001b[0m\u001b[0m\n\u001b[0;32m--> 803\u001b[0;31m             \u001b[0mmsg_list\u001b[0m \u001b[0;34m=\u001b[0m \u001b[0msocket\u001b[0m\u001b[0;34m.\u001b[0m\u001b[0mrecv_multipart\u001b[0m\u001b[0;34m(\u001b[0m\u001b[0mmode\u001b[0m\u001b[0;34m,\u001b[0m \u001b[0mcopy\u001b[0m\u001b[0;34m=\u001b[0m\u001b[0mcopy\u001b[0m\u001b[0;34m)\u001b[0m\u001b[0;34m\u001b[0m\u001b[0;34m\u001b[0m\u001b[0m\n\u001b[0m\u001b[1;32m    804\u001b[0m         \u001b[0;32mexcept\u001b[0m \u001b[0mzmq\u001b[0m\u001b[0;34m.\u001b[0m\u001b[0mZMQError\u001b[0m \u001b[0;32mas\u001b[0m \u001b[0me\u001b[0m\u001b[0;34m:\u001b[0m\u001b[0;34m\u001b[0m\u001b[0;34m\u001b[0m\u001b[0m\n",
      "\u001b[0;32m~/anaconda3/lib/python3.7/site-packages/zmq/sugar/socket.py\u001b[0m in \u001b[0;36mrecv_multipart\u001b[0;34m(self, flags, copy, track)\u001b[0m\n\u001b[1;32m    466\u001b[0m         \"\"\"\n\u001b[0;32m--> 467\u001b[0;31m         \u001b[0mparts\u001b[0m \u001b[0;34m=\u001b[0m \u001b[0;34m[\u001b[0m\u001b[0mself\u001b[0m\u001b[0;34m.\u001b[0m\u001b[0mrecv\u001b[0m\u001b[0;34m(\u001b[0m\u001b[0mflags\u001b[0m\u001b[0;34m,\u001b[0m \u001b[0mcopy\u001b[0m\u001b[0;34m=\u001b[0m\u001b[0mcopy\u001b[0m\u001b[0;34m,\u001b[0m \u001b[0mtrack\u001b[0m\u001b[0;34m=\u001b[0m\u001b[0mtrack\u001b[0m\u001b[0;34m)\u001b[0m\u001b[0;34m]\u001b[0m\u001b[0;34m\u001b[0m\u001b[0;34m\u001b[0m\u001b[0m\n\u001b[0m\u001b[1;32m    468\u001b[0m         \u001b[0;31m# have first part already, only loop while more to receive\u001b[0m\u001b[0;34m\u001b[0m\u001b[0;34m\u001b[0m\u001b[0;34m\u001b[0m\u001b[0m\n",
      "\u001b[0;32mzmq/backend/cython/socket.pyx\u001b[0m in \u001b[0;36mzmq.backend.cython.socket.Socket.recv\u001b[0;34m()\u001b[0m\n",
      "\u001b[0;32mzmq/backend/cython/socket.pyx\u001b[0m in \u001b[0;36mzmq.backend.cython.socket.Socket.recv\u001b[0;34m()\u001b[0m\n",
      "\u001b[0;32mzmq/backend/cython/socket.pyx\u001b[0m in \u001b[0;36mzmq.backend.cython.socket._recv_copy\u001b[0;34m()\u001b[0m\n",
      "\u001b[0;32m~/anaconda3/lib/python3.7/site-packages/zmq/backend/cython/checkrc.pxd\u001b[0m in \u001b[0;36mzmq.backend.cython.checkrc._check_rc\u001b[0;34m()\u001b[0m\n",
      "\u001b[0;31mKeyboardInterrupt\u001b[0m: ",
      "\nDuring handling of the above exception, another exception occurred:\n",
      "\u001b[0;31mKeyboardInterrupt\u001b[0m                         Traceback (most recent call last)",
      "\u001b[0;32m<ipython-input-5-83fdd6558aae>\u001b[0m in \u001b[0;36m<module>\u001b[0;34m\u001b[0m\n\u001b[1;32m     28\u001b[0m \u001b[0;34m\u001b[0m\u001b[0m\n\u001b[1;32m     29\u001b[0m \u001b[0;34m\u001b[0m\u001b[0m\n\u001b[0;32m---> 30\u001b[0;31m \u001b[0mreal1\u001b[0m\u001b[0;34m,\u001b[0m \u001b[0mimaginary1\u001b[0m \u001b[0;34m=\u001b[0m \u001b[0minput\u001b[0m\u001b[0;34m(\u001b[0m\u001b[0;34m)\u001b[0m\u001b[0;34m.\u001b[0m\u001b[0msplit\u001b[0m\u001b[0;34m(\u001b[0m\u001b[0;34m)\u001b[0m\u001b[0;34m\u001b[0m\u001b[0;34m\u001b[0m\u001b[0m\n\u001b[0m\u001b[1;32m     31\u001b[0m \u001b[0;34m\u001b[0m\u001b[0m\n\u001b[1;32m     32\u001b[0m \u001b[0mreal2\u001b[0m\u001b[0;34m,\u001b[0m \u001b[0mimaginary2\u001b[0m \u001b[0;34m=\u001b[0m \u001b[0minput\u001b[0m\u001b[0;34m(\u001b[0m\u001b[0;34m)\u001b[0m\u001b[0;34m.\u001b[0m\u001b[0msplit\u001b[0m\u001b[0;34m(\u001b[0m\u001b[0;34m)\u001b[0m\u001b[0;34m\u001b[0m\u001b[0;34m\u001b[0m\u001b[0m\n",
      "\u001b[0;32m~/anaconda3/lib/python3.7/site-packages/ipykernel/kernelbase.py\u001b[0m in \u001b[0;36mraw_input\u001b[0;34m(self, prompt)\u001b[0m\n\u001b[1;32m    851\u001b[0m             \u001b[0mself\u001b[0m\u001b[0;34m.\u001b[0m\u001b[0m_parent_ident\u001b[0m\u001b[0;34m,\u001b[0m\u001b[0;34m\u001b[0m\u001b[0;34m\u001b[0m\u001b[0m\n\u001b[1;32m    852\u001b[0m             \u001b[0mself\u001b[0m\u001b[0;34m.\u001b[0m\u001b[0m_parent_header\u001b[0m\u001b[0;34m,\u001b[0m\u001b[0;34m\u001b[0m\u001b[0;34m\u001b[0m\u001b[0m\n\u001b[0;32m--> 853\u001b[0;31m             \u001b[0mpassword\u001b[0m\u001b[0;34m=\u001b[0m\u001b[0;32mFalse\u001b[0m\u001b[0;34m,\u001b[0m\u001b[0;34m\u001b[0m\u001b[0;34m\u001b[0m\u001b[0m\n\u001b[0m\u001b[1;32m    854\u001b[0m         )\n\u001b[1;32m    855\u001b[0m \u001b[0;34m\u001b[0m\u001b[0m\n",
      "\u001b[0;32m~/anaconda3/lib/python3.7/site-packages/ipykernel/kernelbase.py\u001b[0m in \u001b[0;36m_input_request\u001b[0;34m(self, prompt, ident, parent, password)\u001b[0m\n\u001b[1;32m    881\u001b[0m             \u001b[0;32mexcept\u001b[0m \u001b[0mKeyboardInterrupt\u001b[0m\u001b[0;34m:\u001b[0m\u001b[0;34m\u001b[0m\u001b[0;34m\u001b[0m\u001b[0m\n\u001b[1;32m    882\u001b[0m                 \u001b[0;31m# re-raise KeyboardInterrupt, to truncate traceback\u001b[0m\u001b[0;34m\u001b[0m\u001b[0;34m\u001b[0m\u001b[0;34m\u001b[0m\u001b[0m\n\u001b[0;32m--> 883\u001b[0;31m                 \u001b[0;32mraise\u001b[0m \u001b[0mKeyboardInterrupt\u001b[0m\u001b[0;34m\u001b[0m\u001b[0;34m\u001b[0m\u001b[0m\n\u001b[0m\u001b[1;32m    884\u001b[0m             \u001b[0;32melse\u001b[0m\u001b[0;34m:\u001b[0m\u001b[0;34m\u001b[0m\u001b[0;34m\u001b[0m\u001b[0m\n\u001b[1;32m    885\u001b[0m                 \u001b[0;32mbreak\u001b[0m\u001b[0;34m\u001b[0m\u001b[0;34m\u001b[0m\u001b[0m\n",
      "\u001b[0;31mKeyboardInterrupt\u001b[0m: "
     ]
    }
   ],
   "source": [
    "# complex number\n",
    "class complexnum:\n",
    "    def __init__(self, real=0, imaginary=0):\n",
    "        self.real = real\n",
    "        self.imaginary = imaginary\n",
    "    def printcom(self):\n",
    "        if self.real == 0 and self.imaginary == 0:\n",
    "            print(0)\n",
    "        elif self.real == 0:\n",
    "            print(\"i\",end='')\n",
    "            print(self.imaginary)\n",
    "        elif self.imaginary == 0:\n",
    "            print(self.real)\n",
    "        else:\n",
    "            print(self.real, \"+\", \"i\",end='')\n",
    "            print(self.imaginary)\n",
    "    def add(self, otherfraction):\n",
    "        newreal = (self.real) + (otherfraction.real)\n",
    "        newimaginary = (self.imaginary) + (otherfraction.imaginary)\n",
    "        self.real = newreal\n",
    "        self.imaginary = newimaginary\n",
    "    def multiply(self, otherfraction):\n",
    "        newreal = self.real*otherfraction.real - self.imaginary*otherfraction.imaginary\n",
    "        newimaginary = self.real*otherfraction.imaginary + self.imaginary*otherfraction.real\n",
    "        self.real = newreal\n",
    "        self.imaginary = newimaginary\n",
    "        \n",
    "\n",
    "        \n",
    "real1, imaginary1 = input().split()\n",
    "\n",
    "real2, imaginary2 = input().split()\n",
    "k = int(input())\n",
    "c1 = complexnum(int(real1), int(imaginary1))\n",
    "c2 = complexnum(int(real2), int(imaginary2))\n",
    "if k ==1:\n",
    "    c1.add(c2)\n",
    "    c1.printcom()\n",
    "else:\n",
    "    c1.multiply(c2)\n",
    "    c1.printcom()\n",
    "\n",
    "\n",
    "\n"
   ]
  },
  {
   "cell_type": "markdown",
   "metadata": {},
   "source": [
    "Inheritance"
   ]
  },
  {
   "cell_type": "code",
   "execution_count": 9,
   "metadata": {},
   "outputs": [
    {
     "name": "stdout",
     "output_type": "stream",
     "text": [
      "color : red\n",
      "maxspeed : 20\n",
      "Numgear : 5\n",
      "isconvertible : no\n"
     ]
    }
   ],
   "source": [
    "class vehicle:\n",
    "    def __init__(self, color, maxspeed):\n",
    "        self.color = color\n",
    "        self.__maxspeed = maxspeed\n",
    "    def getmaxspeed(self):\n",
    "        return self.__maxspeed\n",
    "    def setmaxspeed(self, maxspeed):\n",
    "        self.maxspeed = maxspeed\n",
    "class car(vehicle):\n",
    "    def __init__(self, color, maxspeed, numgear, isconvertible):\n",
    "        super().__init__(color, maxspeed)\n",
    "        self.numgear = numgear\n",
    "        self.isconvertible = isconvertible\n",
    "    def printcar(self):\n",
    "        print(\"color :\", self.color)\n",
    "        print(\"maxspeed :\", self.getmaxspeed())\n",
    "        print(\"Numgear :\", self.numgear)\n",
    "        print(\"isconvertible :\", self.isconvertible)\n",
    "c = car(\"red\", 20, 5, \"no\")\n",
    "c.printcar()"
   ]
  },
  {
   "cell_type": "code",
   "execution_count": 11,
   "metadata": {},
   "outputs": [
    {
     "name": "stdout",
     "output_type": "stream",
     "text": [
      "color : red\n",
      "maxspeed : 20\n",
      "Numgear : 5\n",
      "isconvertible : no\n"
     ]
    }
   ],
   "source": [
    "class vehicle:\n",
    "    def __init__(self, color, maxspeed):\n",
    "        self.color = color\n",
    "        self.__maxspeed = maxspeed\n",
    "    def getmaxspeed(self):\n",
    "        return self.__maxspeed\n",
    "    def setmaxspeed(self, maxspeed):\n",
    "        self.maxspeed = maxspeed\n",
    "    def printi(self):\n",
    "        print(\"color :\", self.color)\n",
    "        print(\"maxspeed :\", self.__maxspeed)\n",
    "class car(vehicle):\n",
    "    def __init__(self, color, maxspeed, numgear, isconvertible):\n",
    "        super().__init__(color, maxspeed)\n",
    "        self.numgear = numgear\n",
    "        self.isconvertible = isconvertible\n",
    "    def printcar(self):\n",
    "        super().printi()\n",
    "        print(\"Numgear :\", self.numgear)\n",
    "        print(\"isconvertible :\", self.isconvertible)\n",
    "c = car(\"red\", 20, 5, \"no\")\n",
    "c.printcar()"
   ]
  },
  {
   "cell_type": "code",
   "execution_count": 6,
   "metadata": {},
   "outputs": [
    {
     "name": "stdout",
     "output_type": "stream",
     "text": [
      "Numgear : 5\n",
      "isconvertible : no\n"
     ]
    }
   ],
   "source": [
    "class vehicle:\n",
    "    def __init__(self, color, maxspeed):\n",
    "        self.color = color\n",
    "        self.__maxspeed = maxspeed\n",
    "    def getmaxspeed(self):\n",
    "        return self.__maxspeed\n",
    "    def setmaxspeed(self, maxspeed):\n",
    "        self.maxspeed = maxspeed\n",
    "    def printcar(self):\n",
    "        print(\"color :\", self.color)\n",
    "        print(\"maxspeed :\", self.__maxspeed)\n",
    "class car(vehicle):\n",
    "    def __init__(self, color, maxspeed, numgear, isconvertible):\n",
    "        super().__init__(color, maxspeed)\n",
    "        self.numgear = numgear\n",
    "        self.isconvertible = isconvertible\n",
    "    def printcar(self):\n",
    "        super().printcar()\n",
    "        print(\"Numgear :\", self.numgear)\n",
    "        print(\"isconvertible :\", self.isconvertible)\n",
    "c = car(\"red\", 20, 5, \"no\")\n",
    "c.printcar()"
   ]
  },
  {
   "cell_type": "code",
   "execution_count": 12,
   "metadata": {},
   "outputs": [
    {
     "name": "stdout",
     "output_type": "stream",
     "text": [
      "color : red\n",
      "maxspeed : 18\n",
      "\n",
      "color : red\n",
      "maxspeed : 19\n"
     ]
    }
   ],
   "source": [
    "#protected memers\n",
    "class vehicle:\n",
    "    def __init__(self, color, maxspeed):\n",
    "        self.color = color\n",
    "        self._maxspeed = maxspeed\n",
    "    def getmaxspeed(self):\n",
    "        return self._maxspeed\n",
    "    def setmaxspeed(self, maxspeed):\n",
    "        self.maxspeed = maxspeed\n",
    "    def printcar(self):\n",
    "        print(\"color :\", self.color)\n",
    "        print(\"maxspeed :\", self._maxspeed)\n",
    "class car(vehicle):\n",
    "    def __init__(self, color, maxspeed, numgear, isconvertible):\n",
    "        super().__init__(color, maxspeed)\n",
    "        self.numgear = numgear\n",
    "        self.isconvertible = isconvertible\n",
    "    def printcar(self):\n",
    "        print(\"color :\", self.color)\n",
    "        print(\"maxspeed :\", self._maxspeed)\n",
    "        print(\"Numgear :\", self.numgear)\n",
    "        print(\"isconvertible :\", self.isconvertible)\n",
    "#c = car(\"red\", 20, 5, \"no\")\n",
    "#c.printcar()\n",
    "v = vehicle(\"red\", 18)\n",
    "v.printcar()\n",
    "print()\n",
    "v._maxspeed = 19\n",
    "v.printcar()\n"
   ]
  },
  {
   "cell_type": "code",
   "execution_count": 15,
   "metadata": {},
   "outputs": [
    {
     "name": "stdout",
     "output_type": "stream",
     "text": [
      "this is an object class\n"
     ]
    }
   ],
   "source": [
    "#object class\n",
    "class circle(object):\n",
    "    def __init__(self, radius):\n",
    "        self.radius = radius\n",
    "    def __str__(self):\n",
    "        return \"this is an object class\"\n",
    "c = circle(3)\n",
    "print(c)"
   ]
  },
  {
   "cell_type": "code",
   "execution_count": 29,
   "metadata": {},
   "outputs": [
    {
     "name": "stdout",
     "output_type": "stream",
     "text": [
      "name of child is rohan\n"
     ]
    }
   ],
   "source": [
    "#multiple inheritance\n",
    "class Mother:\n",
    "    def printchild(self):\n",
    "        print(\"print of mother is called\")\n",
    "class Father:\n",
    "    def printchild(self):\n",
    "        print(\"print of father is called\")\n",
    "class child(Father, Mother):\n",
    "    def __init__(self, name):\n",
    "        self.name = name\n",
    "    def printchild(self):\n",
    "        print(\"name of child is\", self.name)\n",
    "c = child(\"rohan\")\n",
    "c.printchild()"
   ]
  },
  {
   "cell_type": "code",
   "execution_count": 24,
   "metadata": {},
   "outputs": [
    {
     "name": "stdout",
     "output_type": "stream",
     "text": [
      "init of B called\n"
     ]
    }
   ],
   "source": [
    "class A:\n",
    "\n",
    "    def __init__(self):\n",
    "        print('init of A called')\n",
    "class B:\n",
    "    def __init__(self):\n",
    "        print('init of B called')\n",
    "\n",
    "class C(B,A):\n",
    "    def __init__(self):\n",
    "        super().__init__()\n",
    "\n",
    "c = C()"
   ]
  },
  {
   "cell_type": "code",
   "execution_count": null,
   "metadata": {},
   "outputs": [],
   "source": [
    "class Mother:\n",
    "    def __init__(self):\n",
    "        self.name = \"manju\"\n",
    "    def printchild(self):\n",
    "        print(\"print of mother is called\")\n",
    "class Father:\n",
    "    def __init__(self):\n",
    "        self.name = \"ajay\"\n",
    "    def printchild(self):\n",
    "        print(\"print of father is called\")\n",
    "class child(Father, Mother):\n",
    "    def __init__(self):\n",
    "        super().__init__()\n",
    "    def printchild(self):\n",
    "        print(\"name of child is\", self.name)\n",
    "c = child()\n",
    "c.printchild()\n"
   ]
  },
  {
   "cell_type": "code",
   "execution_count": 36,
   "metadata": {},
   "outputs": [
    {
     "name": "stdout",
     "output_type": "stream",
     "text": [
      "this is a point at (4,6)\n"
     ]
    }
   ],
   "source": [
    "#operator overloading\n",
    "class point:\n",
    "    def __init__(self, x, y):\n",
    "        self.__x = x\n",
    "        self.__y = y\n",
    "    def __str__(self):\n",
    "        return \"this is a point at (\" + str(self.__x) + \",\" + str(self.__y) + \")\"\n",
    "    def __add__(self, point_object):\n",
    "        return point(self.__x + point_object.__x, self.__y + point_object.__y)\n",
    "p1 = point(1, 2)\n",
    "p2 = point(3, 4)\n",
    "p3 = p1 + p2\n",
    "print(p3)"
   ]
  },
  {
   "cell_type": "code",
   "execution_count": 41,
   "metadata": {},
   "outputs": [
    {
     "name": "stdout",
     "output_type": "stream",
     "text": [
      "car Created\n"
     ]
    }
   ],
   "source": [
    "#Abstract class\n",
    "from abc import ABC,abstractmethod\n",
    "class Automobile(ABC):\n",
    "    def __init__(self):\n",
    "        print(\"Automobile Created\")\n",
    "    @abstractmethod\n",
    "    def start(self):\n",
    "        pass\n",
    "    @abstractmethod\n",
    "    def stop(sef):\n",
    "        pass\n",
    "    @abstractmethod\n",
    "    def drive(self):\n",
    "        pass\n",
    "class car(Automobile):\n",
    "    def __init__(self, name):\n",
    "        print(\"car Created\")\n",
    "        self.name = name\n",
    "    def start(self):\n",
    "        pass\n",
    "    def stop(self):\n",
    "        pass\n",
    "    def drive(self):\n",
    "        pass\n",
    "c = car(\"honda\")"
   ]
  },
  {
   "cell_type": "code",
   "execution_count": 42,
   "metadata": {},
   "outputs": [
    {
     "ename": "TypeError",
     "evalue": "Can't instantiate abstract class B with abstract methods fun2",
     "output_type": "error",
     "traceback": [
      "\u001b[0;31m---------------------------------------------------------------------------\u001b[0m",
      "\u001b[0;31mTypeError\u001b[0m                                 Traceback (most recent call last)",
      "\u001b[0;32m<ipython-input-42-a7a09edb7672>\u001b[0m in \u001b[0;36m<module>\u001b[0;34m\u001b[0m\n\u001b[1;32m     15\u001b[0m     \u001b[0;32mdef\u001b[0m \u001b[0mfun1\u001b[0m\u001b[0;34m(\u001b[0m\u001b[0mself\u001b[0m\u001b[0;34m)\u001b[0m\u001b[0;34m:\u001b[0m\u001b[0;34m\u001b[0m\u001b[0;34m\u001b[0m\u001b[0m\n\u001b[1;32m     16\u001b[0m         \u001b[0mprint\u001b[0m\u001b[0;34m(\u001b[0m\u001b[0;34m'function 1 called'\u001b[0m\u001b[0;34m)\u001b[0m\u001b[0;34m\u001b[0m\u001b[0;34m\u001b[0m\u001b[0m\n\u001b[0;32m---> 17\u001b[0;31m \u001b[0mo\u001b[0m \u001b[0;34m=\u001b[0m \u001b[0mB\u001b[0m\u001b[0;34m(\u001b[0m\u001b[0;34m)\u001b[0m\u001b[0;34m\u001b[0m\u001b[0;34m\u001b[0m\u001b[0m\n\u001b[0m\u001b[1;32m     18\u001b[0m \u001b[0mo\u001b[0m\u001b[0;34m.\u001b[0m\u001b[0mfun1\u001b[0m\u001b[0;34m(\u001b[0m\u001b[0;34m)\u001b[0m\u001b[0;34m\u001b[0m\u001b[0;34m\u001b[0m\u001b[0m\n",
      "\u001b[0;31mTypeError\u001b[0m: Can't instantiate abstract class B with abstract methods fun2"
     ]
    }
   ],
   "source": [
    "from abc import ABC,abstractmethod\n",
    "\n",
    "class A(ABC):\n",
    "\n",
    "    @abstractmethod\n",
    "    def fun1(self):\n",
    "        pass\n",
    "\n",
    "    @abstractmethod\n",
    "    def fun2(self):\n",
    "        pass\n",
    "\n",
    "class B(A):\n",
    "\n",
    "    def fun1(self):\n",
    "        print('function 1 called')\n",
    "o = B()\n",
    "o.fun1()"
   ]
  },
  {
   "cell_type": "code",
   "execution_count": 44,
   "metadata": {},
   "outputs": [
    {
     "name": "stdout",
     "output_type": "stream",
     "text": [
      "car Created\n",
      "start of Automobile called\n",
      "None\n"
     ]
    }
   ],
   "source": [
    "#Abstract class\n",
    "from abc import ABC,abstractmethod\n",
    "class Automobile(ABC):\n",
    "    def __init__(self):\n",
    "        print(\"Automobile Created\")\n",
    "    @abstractmethod\n",
    "    def start(self):\n",
    "        print(\"start of Automobile called\")\n",
    "    @abstractmethod\n",
    "    def stop(sef):\n",
    "        pass\n",
    "    @abstractmethod\n",
    "    def drive(self):\n",
    "        pass\n",
    "class car(Automobile):\n",
    "    def __init__(self, name):\n",
    "        print(\"car Created\")\n",
    "        self.name = name\n",
    "    def start(self):\n",
    "        super().start()\n",
    "    def stop(self):\n",
    "        pass\n",
    "    def drive(self):\n",
    "        pass\n",
    "c = car(\"honda\")\n",
    "print(c.start())"
   ]
  },
  {
   "cell_type": "code",
   "execution_count": 1,
   "metadata": {},
   "outputs": [
    {
     "name": "stdout",
     "output_type": "stream",
     "text": [
      "enter the numerator:10\n",
      "enter the denominator:4\n",
      "2.5\n"
     ]
    }
   ],
   "source": [
    "#exception handling\n",
    "try:\n",
    "    n = input(\"enter the numerator:\")\n",
    "    num = int(n)\n",
    "    n = input(\"enter the denominator:\")\n",
    "    den = int(n)\n",
    "    final = num/den\n",
    "    print(final)\n",
    "except:\n",
    "    print(\"numerator or denominator must be rechecked\")"
   ]
  },
  {
   "cell_type": "code",
   "execution_count": 4,
   "metadata": {},
   "outputs": [
    {
     "name": "stdout",
     "output_type": "stream",
     "text": [
      "enter the numerator:10\n",
      "enter the denominator:0\n",
      "denominator should not be zero.\n",
      "enter the numerator:10\n",
      "enter the denominator:abc\n",
      "numerator or denominator must be rechecked\n",
      "enter the numerator:10\n",
      "enter the denominator:5\n",
      "2.0\n"
     ]
    }
   ],
   "source": [
    "#exception handling\n",
    "while True:\n",
    "    try:\n",
    "        n = input(\"enter the numerator:\")\n",
    "        num = int(n)\n",
    "        n = input(\"enter the denominator:\")\n",
    "        den = int(n)\n",
    "        final = num/den\n",
    "        print(final)\n",
    "        break\n",
    "    except ValueError:\n",
    "        print(\"numerator or denominator must be rechecked\")\n",
    "    except ZeroDivisionError:\n",
    "        print(\"denominator should not be zero.\")"
   ]
  },
  {
   "cell_type": "code",
   "execution_count": 5,
   "metadata": {},
   "outputs": [
    {
     "name": "stdout",
     "output_type": "stream",
     "text": [
      "enter the numerator:10\n",
      "enter the denominator:abc\n",
      "numerator or denominator must be rechecked\n",
      "enter the numerator:10\n",
      "enter the denominator:0\n",
      "numerator or denominator must be rechecked\n",
      "enter the numerator:10\n",
      "enter the denominator:5\n",
      "2.0\n"
     ]
    }
   ],
   "source": [
    "#exception handling\n",
    "while True:\n",
    "    try:\n",
    "        n = input(\"enter the numerator:\")\n",
    "        num = int(n)\n",
    "        n = input(\"enter the denominator:\")\n",
    "        den = int(n)\n",
    "        final = num/den\n",
    "        print(final)\n",
    "        break\n",
    "    except (ValueError,ZeroDivisionError):\n",
    "        print(\"numerator or denominator must be rechecked\")\n",
    "    "
   ]
  },
  {
   "cell_type": "code",
   "execution_count": 10,
   "metadata": {},
   "outputs": [
    {
     "name": "stdout",
     "output_type": "stream",
     "text": [
      "enter the numerator:10\n",
      "enter the denominator:0\n",
      "ZeroDenominatorError is raised\n"
     ]
    },
    {
     "ename": "KeyboardInterrupt",
     "evalue": "",
     "output_type": "error",
     "traceback": [
      "\u001b[0;31m---------------------------------------------------------------------------\u001b[0m",
      "\u001b[0;31mKeyboardInterrupt\u001b[0m                         Traceback (most recent call last)",
      "\u001b[0;32m~/anaconda3/lib/python3.7/site-packages/ipykernel/kernelbase.py\u001b[0m in \u001b[0;36m_input_request\u001b[0;34m(self, prompt, ident, parent, password)\u001b[0m\n\u001b[1;32m    877\u001b[0m             \u001b[0;32mtry\u001b[0m\u001b[0;34m:\u001b[0m\u001b[0;34m\u001b[0m\u001b[0;34m\u001b[0m\u001b[0m\n\u001b[0;32m--> 878\u001b[0;31m                 \u001b[0mident\u001b[0m\u001b[0;34m,\u001b[0m \u001b[0mreply\u001b[0m \u001b[0;34m=\u001b[0m \u001b[0mself\u001b[0m\u001b[0;34m.\u001b[0m\u001b[0msession\u001b[0m\u001b[0;34m.\u001b[0m\u001b[0mrecv\u001b[0m\u001b[0;34m(\u001b[0m\u001b[0mself\u001b[0m\u001b[0;34m.\u001b[0m\u001b[0mstdin_socket\u001b[0m\u001b[0;34m,\u001b[0m \u001b[0;36m0\u001b[0m\u001b[0;34m)\u001b[0m\u001b[0;34m\u001b[0m\u001b[0;34m\u001b[0m\u001b[0m\n\u001b[0m\u001b[1;32m    879\u001b[0m             \u001b[0;32mexcept\u001b[0m \u001b[0mException\u001b[0m\u001b[0;34m:\u001b[0m\u001b[0;34m\u001b[0m\u001b[0;34m\u001b[0m\u001b[0m\n",
      "\u001b[0;32m~/anaconda3/lib/python3.7/site-packages/jupyter_client/session.py\u001b[0m in \u001b[0;36mrecv\u001b[0;34m(self, socket, mode, content, copy)\u001b[0m\n\u001b[1;32m    802\u001b[0m         \u001b[0;32mtry\u001b[0m\u001b[0;34m:\u001b[0m\u001b[0;34m\u001b[0m\u001b[0;34m\u001b[0m\u001b[0m\n\u001b[0;32m--> 803\u001b[0;31m             \u001b[0mmsg_list\u001b[0m \u001b[0;34m=\u001b[0m \u001b[0msocket\u001b[0m\u001b[0;34m.\u001b[0m\u001b[0mrecv_multipart\u001b[0m\u001b[0;34m(\u001b[0m\u001b[0mmode\u001b[0m\u001b[0;34m,\u001b[0m \u001b[0mcopy\u001b[0m\u001b[0;34m=\u001b[0m\u001b[0mcopy\u001b[0m\u001b[0;34m)\u001b[0m\u001b[0;34m\u001b[0m\u001b[0;34m\u001b[0m\u001b[0m\n\u001b[0m\u001b[1;32m    804\u001b[0m         \u001b[0;32mexcept\u001b[0m \u001b[0mzmq\u001b[0m\u001b[0;34m.\u001b[0m\u001b[0mZMQError\u001b[0m \u001b[0;32mas\u001b[0m \u001b[0me\u001b[0m\u001b[0;34m:\u001b[0m\u001b[0;34m\u001b[0m\u001b[0;34m\u001b[0m\u001b[0m\n",
      "\u001b[0;32m~/anaconda3/lib/python3.7/site-packages/zmq/sugar/socket.py\u001b[0m in \u001b[0;36mrecv_multipart\u001b[0;34m(self, flags, copy, track)\u001b[0m\n\u001b[1;32m    466\u001b[0m         \"\"\"\n\u001b[0;32m--> 467\u001b[0;31m         \u001b[0mparts\u001b[0m \u001b[0;34m=\u001b[0m \u001b[0;34m[\u001b[0m\u001b[0mself\u001b[0m\u001b[0;34m.\u001b[0m\u001b[0mrecv\u001b[0m\u001b[0;34m(\u001b[0m\u001b[0mflags\u001b[0m\u001b[0;34m,\u001b[0m \u001b[0mcopy\u001b[0m\u001b[0;34m=\u001b[0m\u001b[0mcopy\u001b[0m\u001b[0;34m,\u001b[0m \u001b[0mtrack\u001b[0m\u001b[0;34m=\u001b[0m\u001b[0mtrack\u001b[0m\u001b[0;34m)\u001b[0m\u001b[0;34m]\u001b[0m\u001b[0;34m\u001b[0m\u001b[0;34m\u001b[0m\u001b[0m\n\u001b[0m\u001b[1;32m    468\u001b[0m         \u001b[0;31m# have first part already, only loop while more to receive\u001b[0m\u001b[0;34m\u001b[0m\u001b[0;34m\u001b[0m\u001b[0;34m\u001b[0m\u001b[0m\n",
      "\u001b[0;32mzmq/backend/cython/socket.pyx\u001b[0m in \u001b[0;36mzmq.backend.cython.socket.Socket.recv\u001b[0;34m()\u001b[0m\n",
      "\u001b[0;32mzmq/backend/cython/socket.pyx\u001b[0m in \u001b[0;36mzmq.backend.cython.socket.Socket.recv\u001b[0;34m()\u001b[0m\n",
      "\u001b[0;32mzmq/backend/cython/socket.pyx\u001b[0m in \u001b[0;36mzmq.backend.cython.socket._recv_copy\u001b[0;34m()\u001b[0m\n",
      "\u001b[0;32m~/anaconda3/lib/python3.7/site-packages/zmq/backend/cython/checkrc.pxd\u001b[0m in \u001b[0;36mzmq.backend.cython.checkrc._check_rc\u001b[0;34m()\u001b[0m\n",
      "\u001b[0;31mKeyboardInterrupt\u001b[0m: ",
      "\nDuring handling of the above exception, another exception occurred:\n",
      "\u001b[0;31mKeyboardInterrupt\u001b[0m                         Traceback (most recent call last)",
      "\u001b[0;32m<ipython-input-10-04d6e9e01f71>\u001b[0m in \u001b[0;36m<module>\u001b[0;34m\u001b[0m\n\u001b[1;32m      3\u001b[0m \u001b[0;32mwhile\u001b[0m \u001b[0;32mTrue\u001b[0m\u001b[0;34m:\u001b[0m\u001b[0;34m\u001b[0m\u001b[0;34m\u001b[0m\u001b[0m\n\u001b[1;32m      4\u001b[0m     \u001b[0;32mtry\u001b[0m\u001b[0;34m:\u001b[0m\u001b[0;34m\u001b[0m\u001b[0;34m\u001b[0m\u001b[0m\n\u001b[0;32m----> 5\u001b[0;31m         \u001b[0mn\u001b[0m \u001b[0;34m=\u001b[0m \u001b[0minput\u001b[0m\u001b[0;34m(\u001b[0m\u001b[0;34m\"enter the numerator:\"\u001b[0m\u001b[0;34m)\u001b[0m\u001b[0;34m\u001b[0m\u001b[0;34m\u001b[0m\u001b[0m\n\u001b[0m\u001b[1;32m      6\u001b[0m         \u001b[0mnum\u001b[0m \u001b[0;34m=\u001b[0m \u001b[0mint\u001b[0m\u001b[0;34m(\u001b[0m\u001b[0mn\u001b[0m\u001b[0;34m)\u001b[0m\u001b[0;34m\u001b[0m\u001b[0;34m\u001b[0m\u001b[0m\n\u001b[1;32m      7\u001b[0m         \u001b[0mn\u001b[0m \u001b[0;34m=\u001b[0m \u001b[0minput\u001b[0m\u001b[0;34m(\u001b[0m\u001b[0;34m\"enter the denominator:\"\u001b[0m\u001b[0;34m)\u001b[0m\u001b[0;34m\u001b[0m\u001b[0;34m\u001b[0m\u001b[0m\n",
      "\u001b[0;32m~/anaconda3/lib/python3.7/site-packages/ipykernel/kernelbase.py\u001b[0m in \u001b[0;36mraw_input\u001b[0;34m(self, prompt)\u001b[0m\n\u001b[1;32m    851\u001b[0m             \u001b[0mself\u001b[0m\u001b[0;34m.\u001b[0m\u001b[0m_parent_ident\u001b[0m\u001b[0;34m,\u001b[0m\u001b[0;34m\u001b[0m\u001b[0;34m\u001b[0m\u001b[0m\n\u001b[1;32m    852\u001b[0m             \u001b[0mself\u001b[0m\u001b[0;34m.\u001b[0m\u001b[0m_parent_header\u001b[0m\u001b[0;34m,\u001b[0m\u001b[0;34m\u001b[0m\u001b[0;34m\u001b[0m\u001b[0m\n\u001b[0;32m--> 853\u001b[0;31m             \u001b[0mpassword\u001b[0m\u001b[0;34m=\u001b[0m\u001b[0;32mFalse\u001b[0m\u001b[0;34m,\u001b[0m\u001b[0;34m\u001b[0m\u001b[0;34m\u001b[0m\u001b[0m\n\u001b[0m\u001b[1;32m    854\u001b[0m         )\n\u001b[1;32m    855\u001b[0m \u001b[0;34m\u001b[0m\u001b[0m\n",
      "\u001b[0;32m~/anaconda3/lib/python3.7/site-packages/ipykernel/kernelbase.py\u001b[0m in \u001b[0;36m_input_request\u001b[0;34m(self, prompt, ident, parent, password)\u001b[0m\n\u001b[1;32m    881\u001b[0m             \u001b[0;32mexcept\u001b[0m \u001b[0mKeyboardInterrupt\u001b[0m\u001b[0;34m:\u001b[0m\u001b[0;34m\u001b[0m\u001b[0;34m\u001b[0m\u001b[0m\n\u001b[1;32m    882\u001b[0m                 \u001b[0;31m# re-raise KeyboardInterrupt, to truncate traceback\u001b[0m\u001b[0;34m\u001b[0m\u001b[0;34m\u001b[0m\u001b[0;34m\u001b[0m\u001b[0m\n\u001b[0;32m--> 883\u001b[0;31m                 \u001b[0;32mraise\u001b[0m \u001b[0mKeyboardInterrupt\u001b[0m\u001b[0;34m\u001b[0m\u001b[0;34m\u001b[0m\u001b[0m\n\u001b[0m\u001b[1;32m    884\u001b[0m             \u001b[0;32melse\u001b[0m\u001b[0;34m:\u001b[0m\u001b[0;34m\u001b[0m\u001b[0;34m\u001b[0m\u001b[0m\n\u001b[1;32m    885\u001b[0m                 \u001b[0;32mbreak\u001b[0m\u001b[0;34m\u001b[0m\u001b[0;34m\u001b[0m\u001b[0m\n",
      "\u001b[0;31mKeyboardInterrupt\u001b[0m: "
     ]
    }
   ],
   "source": [
    "class ZeroDenominatorError(Exception):\n",
    "    pass\n",
    "while True:\n",
    "    try:\n",
    "        n = input(\"enter the numerator:\")\n",
    "        num = int(n)\n",
    "        n = input(\"enter the denominator:\")\n",
    "        den = int(n)\n",
    "        if den == 0:\n",
    "            raise ZeroDenominatorError()\n",
    "        final = num/den\n",
    "        print(final)\n",
    "        break\n",
    "    except (ValueError,ZeroDivisionError):\n",
    "        print(\"numerator or denominator must be rechecked\")\n",
    "    except ZeroDenominatorError:\n",
    "        print(\"ZeroDenominatorError is raised\")\n",
    "    "
   ]
  },
  {
   "cell_type": "code",
   "execution_count": 15,
   "metadata": {},
   "outputs": [
    {
     "name": "stdout",
     "output_type": "stream",
     "text": [
      "enter the numerator:10\n",
      "enter the denominator:\n",
      "numerator or denominator must be rechecked\n",
      "exception may or may not be executed\n",
      "enter the numerator:10\n",
      "enter the denominator:0\n",
      "ZeroDenominatorError is raised\n",
      "exception may or may not be executed\n",
      "enter the numerator:5\n",
      "enter the denominator:2\n",
      "2.5\n",
      "exception may or may not be executed\n"
     ]
    }
   ],
   "source": [
    "class ZeroDenominatorError(ZeroDivisionError):\n",
    "    pass\n",
    "while True:\n",
    "    try:\n",
    "        n = input(\"enter the numerator:\")\n",
    "        num = int(n)\n",
    "        n = input(\"enter the denominator:\")\n",
    "        den = int(n)\n",
    "        if den == 0:\n",
    "            raise ZeroDenominatorError()\n",
    "        final = num/den\n",
    "        \n",
    "    except (ValueError):\n",
    "        print(\"numerator or denominator must be rechecked\")\n",
    "    except ZeroDenominatorError:\n",
    "        print(\"ZeroDenominatorError is raised\")\n",
    "    \n",
    "    except ZeroDivisionError:\n",
    "        print(\"Denominator must be non-zero\")\n",
    "    except:\n",
    "        print(\"error occured\")\n",
    "    else:\n",
    "        print(final)\n",
    "        break\n",
    "    finally:\n",
    "        print(\"exception may or may not be executed\")\n",
    "    "
   ]
  },
  {
   "cell_type": "code",
   "execution_count": null,
   "metadata": {},
   "outputs": [],
   "source": [
    "10"
   ]
  }
 ],
 "metadata": {
  "kernelspec": {
   "display_name": "Python 3",
   "language": "python",
   "name": "python3"
  },
  "language_info": {
   "codemirror_mode": {
    "name": "ipython",
    "version": 3
   },
   "file_extension": ".py",
   "mimetype": "text/x-python",
   "name": "python",
   "nbconvert_exporter": "python",
   "pygments_lexer": "ipython3",
   "version": "3.7.1"
  }
 },
 "nbformat": 4,
 "nbformat_minor": 2
}
