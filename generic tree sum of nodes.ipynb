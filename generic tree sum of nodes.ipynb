{
 "cells": [
  {
   "cell_type": "code",
   "execution_count": 135,
   "metadata": {},
   "outputs": [],
   "source": [
    "class treeNode:\n",
    "    def __init__(self, data):\n",
    "        self.data = data\n",
    "        self.children = []\n",
    "    def __str__(self):\n",
    "        return str(self.data)\n",
    "\n",
    "def sumofNodes(root):\n",
    "    if root == None:\n",
    "        return 0\n",
    "    \n",
    "    summation = root.data\n",
    "    for child in root.children:\n",
    "        summation = summation + sumofNodes(child)\n",
    "    return summation\n",
    "\n",
    "\n",
    "def createLevelWiseTree(arr):\n",
    "    root = treeNode(int(arr[0]))\n",
    "    q = [root]\n",
    "    size = len(arr)\n",
    "    i = 1\n",
    "    while i<size:\n",
    "        parent = q.pop(0)\n",
    "        childCount = int(arr[i])\n",
    "        i += 1\n",
    "        for j in range(0,childCount):\n",
    "            temp = treeNode(int(arr[i+j]))\n",
    "            parent.children.append(temp)\n",
    "            q.append(temp)\n",
    "        i += childCount\n",
    "    return root\n",
    "\n",
    "# Main\n"
   ]
  },
  {
   "cell_type": "code",
   "execution_count": 136,
   "metadata": {},
   "outputs": [],
   "source": [
    "def maxDataNode(root):\n",
    "    if root == None:\n",
    "        return None\n",
    "    if not(root.children):\n",
    "        return root.data\n",
    "    else:\n",
    "        return max(root.data,max(maxDataNode(x) for x in root.children))\n",
    "    "
   ]
  },
  {
   "cell_type": "code",
   "execution_count": 137,
   "metadata": {},
   "outputs": [],
   "source": [
    "def height(root):\n",
    "    if root == None:\n",
    "        return 0\n",
    "    if not(root.children):\n",
    "        return 1\n",
    "    else:\n",
    "        return 1 + max(height(x) for x in root.children)"
   ]
  },
  {
   "cell_type": "code",
   "execution_count": 138,
   "metadata": {},
   "outputs": [],
   "source": [
    "def maxSumNode(root):\n",
    "    if  root == None:\n",
    "        return None, 0\n",
    "    curr_sum = root.data\n",
    "    if not(root.children):\n",
    "        \n",
    "        return root, curr_sum\n",
    "    count = len(root.children)\n",
    "    for i in range(0,count):\n",
    "        curr_sum = curr_sum + root.children[i].data\n",
    "    \n",
    "    for child in root.children:\n",
    "        newnode, maxsum = (maxSumNode(child))\n",
    "        newroot = treeNode(newnode)\n",
    "        \n",
    "        \n",
    "        if curr_sum > maxsum:\n",
    "            newroot = root\n",
    "            maxsum = curr_sum\n",
    "        return newroot, maxsum\n",
    "    \n",
    "     \n",
    "    \n",
    "        \n",
    "       \n",
    "    "
   ]
  },
  {
   "cell_type": "code",
   "execution_count": 139,
   "metadata": {},
   "outputs": [],
   "source": [
    "def nextLargest(root, n):\n",
    "    if root == None:\n",
    "        return None\n",
    "    ans = None\n",
    "    if root.data > n:\n",
    "        ans = root.data\n",
    "    for child in root.children:\n",
    "        temp = nextLargest(child, n)\n",
    "        if ans == None and temp == None:\n",
    "            ans == None\n",
    "        if ans == None and temp != None:\n",
    "            ans = temp\n",
    "        if ans != None and temp == None:\n",
    "            ans = ans\n",
    "        if ans > temp:\n",
    "            ans = temp\n",
    "    return ans\n",
    "        \n",
    "        \n",
    "        "
   ]
  },
  {
   "cell_type": "code",
   "execution_count": 140,
   "metadata": {},
   "outputs": [
    {
     "name": "stdout",
     "output_type": "stream",
     "text": [
      "4\n",
      "1 1 6 0\n",
      "6\n"
     ]
    }
   ],
   "source": [
    "n = int(input())\n",
    "arr = list(int(x) for x in input().strip().split(' '))\n",
    "root = createLevelWiseTree(arr)\n",
    "print(nextLargest(root, n))"
   ]
  },
  {
   "cell_type": "code",
   "execution_count": 141,
   "metadata": {},
   "outputs": [
    {
     "name": "stdout",
     "output_type": "stream",
     "text": [
      "false\n"
     ]
    }
   ],
   "source": [
    "l = [1,2,3,4,5,6]\n",
    "k = [1,2,3,4,5]\n",
    "if not(len(l) == len(k)):\n",
    "    print('false')\n",
    "else:\n",
    "    print(\"true\")"
   ]
  },
  {
   "cell_type": "code",
   "execution_count": null,
   "metadata": {},
   "outputs": [],
   "source": []
  }
 ],
 "metadata": {
  "kernelspec": {
   "display_name": "Python 3",
   "language": "python",
   "name": "python3"
  },
  "language_info": {
   "codemirror_mode": {
    "name": "ipython",
    "version": 3
   },
   "file_extension": ".py",
   "mimetype": "text/x-python",
   "name": "python",
   "nbconvert_exporter": "python",
   "pygments_lexer": "ipython3",
   "version": "3.7.1"
  }
 },
 "nbformat": 4,
 "nbformat_minor": 2
}
