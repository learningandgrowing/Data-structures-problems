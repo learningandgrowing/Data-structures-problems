{
 "cells": [
  {
   "cell_type": "code",
   "execution_count": 13,
   "metadata": {},
   "outputs": [],
   "source": [
    "\n",
    "class BinaryTreeNode:\n",
    "    def __init__(self, data):\n",
    "        self.data = data\n",
    "        self.left = None\n",
    "        self.right = None"
   ]
  },
  {
   "cell_type": "code",
   "execution_count": 14,
   "metadata": {},
   "outputs": [],
   "source": [
    "import queue\n",
    "def takeinputlevelwise():\n",
    "    q = queue.Queue()\n",
    "    print(\"enter root\")\n",
    "    rootdata = int(input())\n",
    "    if rootdata == -1:\n",
    "        return None\n",
    "    root = BinaryTreeNode(rootdata)\n",
    "    q.put(root)\n",
    "    while (not(q.empty())):\n",
    "        curr_node = q.get()\n",
    "        print(\"enter left child of\" ,curr_node.data)\n",
    "        leftnode = int(input())\n",
    "        if leftnode != -1:\n",
    "            leftchild = BinaryTreeNode(leftnode)\n",
    "            curr_node.left = leftchild\n",
    "            q.put(leftchild)\n",
    "        print(\"enter right child of\" ,curr_node.data)\n",
    "        rightnode = int(input())\n",
    "        if rightnode != -1:\n",
    "            righttchild = BinaryTreeNode(rightnode)\n",
    "            curr_node.right = righttchild\n",
    "            q.put(righttchild)\n",
    "    return root"
   ]
  },
  {
   "cell_type": "code",
   "execution_count": 15,
   "metadata": {},
   "outputs": [],
   "source": [
    "def nodetorootpath(root, s):\n",
    "    if root == None:\n",
    "        return None\n",
    "    if root.data == s:\n",
    "        l = list()\n",
    "        l.append(root.data)\n",
    "        return l\n",
    "    leftoutput = nodetorootpath(root.left, s)\n",
    "    if leftoutput != None:\n",
    "        leftoutput.append(root.data)\n",
    "        return leftoutput\n",
    "    rightoutput = nodetorootpath(root.right, s)\n",
    "    if rightoutput != None:\n",
    "        rightoutput.append(root.data)\n",
    "        return rightoutput\n",
    "    else:\n",
    "        \n",
    "        return None\n",
    "    "
   ]
  },
  {
   "cell_type": "code",
   "execution_count": 16,
   "metadata": {},
   "outputs": [
    {
     "name": "stdout",
     "output_type": "stream",
     "text": [
      "enter root\n",
      "1\n",
      "enter left child of 1\n",
      "2\n",
      "enter right child of 1\n",
      "3\n",
      "enter left child of 2\n",
      "-1\n",
      "enter right child of 2\n",
      "-1\n",
      "enter left child of 3\n",
      "4\n",
      "enter right child of 3\n",
      "6\n",
      "enter left child of 4\n",
      "-1\n",
      "enter right child of 4\n",
      "-1\n",
      "enter left child of 6\n",
      "5\n",
      "enter right child of 6\n",
      "9\n",
      "enter left child of 5\n",
      "7\n",
      "enter right child of 5\n",
      "8\n",
      "enter left child of 9\n",
      "-1\n",
      "enter right child of 9\n",
      "-1\n",
      "enter left child of 7\n",
      "-1\n",
      "enter right child of 7\n",
      "-1\n",
      "enter left child of 8\n",
      "-1\n",
      "enter right child of 8\n",
      "-1\n",
      "5\n",
      "6\n",
      "3\n",
      "1\n"
     ]
    }
   ],
   "source": [
    "root = takeinputlevelwise()\n",
    "l = nodetorootpath(root, 5)\n",
    "for i in l:\n",
    "    print(i)"
   ]
  }
 ],
 "metadata": {
  "kernelspec": {
   "display_name": "Python 3",
   "language": "python",
   "name": "python3"
  },
  "language_info": {
   "codemirror_mode": {
    "name": "ipython",
    "version": 3
   },
   "file_extension": ".py",
   "mimetype": "text/x-python",
   "name": "python",
   "nbconvert_exporter": "python",
   "pygments_lexer": "ipython3",
   "version": "3.7.1"
  }
 },
 "nbformat": 4,
 "nbformat_minor": 2
}
